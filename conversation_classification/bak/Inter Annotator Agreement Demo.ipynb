{
 "cells": [
  {
   "cell_type": "code",
   "execution_count": 0,
   "metadata": {
    "colab": {
     "autoexec": {
      "startup": false,
      "wait_interval": 0
     }
    },
    "colab_type": "code",
    "collapsed": true,
    "id": "m5FrHye3og7s"
   },
   "outputs": [],
   "source": [
    "import pandas as pd\n",
    "import numpy as np"
   ]
  },
  {
   "cell_type": "markdown",
   "metadata": {
    "colab_type": "text",
    "id": "0Fw7lbaTog8E"
   },
   "source": [
    "### Load Data"
   ]
  },
  {
   "cell_type": "markdown",
   "metadata": {
    "colab_type": "text",
    "id": "NuU0bkX3og8S"
   },
   "source": [
    "The dataframe is grouped by comment and contains columns that count the number of annotators that marked the comment as toxic or not toxic. These two columns will be used to compute the inter annotator agreement."
   ]
  },
  {
   "cell_type": "code",
   "execution_count": 0,
   "metadata": {
    "colab": {
     "autoexec": {
      "startup": false,
      "wait_interval": 0
     }
    },
    "colab_type": "code",
    "collapsed": true,
    "id": "Swz4OHcLog8f"
   },
   "outputs": [],
   "source": [
    "TOXIC_COLUMNS = ['toxic', 'not_toxic']"
   ]
  },
  {
   "cell_type": "code",
   "execution_count": 0,
   "metadata": {
    "colab": {
     "autoexec": {
      "startup": false,
      "wait_interval": 0
     }
    },
    "colab_type": "code",
    "collapsed": true,
    "id": "GphDRauyog86"
   },
   "outputs": [],
   "source": [
    "wiki = pd.read_csv('../data/wiki.csv')"
   ]
  },
  {
   "cell_type": "code",
   "execution_count": 0,
   "metadata": {
    "colab": {
     "autoexec": {
      "startup": false,
      "wait_interval": 0
     },
     "output_extras": [
      {}
     ]
    },
    "colab_type": "code",
    "id": "QRcEY7Rlog9H",
    "outputId": "78a0963e-b8fa-445f-9ec7-8246c0311205"
   },
   "outputs": [
    {
     "data": {
      "text/html": [
       "<div>\n",
       "<table border=\"1\" class=\"dataframe\">\n",
       "  <thead>\n",
       "    <tr style=\"text-align: right;\">\n",
       "      <th></th>\n",
       "      <th>comment_text</th>\n",
       "      <th>not_toxic</th>\n",
       "      <th>toxic</th>\n",
       "    </tr>\n",
       "  </thead>\n",
       "  <tbody>\n",
       "    <tr>\n",
       "      <th>0</th>\n",
       "      <td>Re: Unblock \\n\\nTa!  (talk ⋅ contribs)</td>\n",
       "      <td>9</td>\n",
       "      <td>1</td>\n",
       "    </tr>\n",
       "    <tr>\n",
       "      <th>1</th>\n",
       "      <td>What do you mean by link spam! - These are not...</td>\n",
       "      <td>10</td>\n",
       "      <td>0</td>\n",
       "    </tr>\n",
       "    <tr>\n",
       "      <th>2</th>\n",
       "      <td>¿ Better fewer but worse?, as another editor ...</td>\n",
       "      <td>9</td>\n",
       "      <td>1</td>\n",
       "    </tr>\n",
       "    <tr>\n",
       "      <th>3</th>\n",
       "      <td>Origins \\n\\nThere is mention of the possible ...</td>\n",
       "      <td>10</td>\n",
       "      <td>0</td>\n",
       "    </tr>\n",
       "    <tr>\n",
       "      <th>4</th>\n",
       "      <td>Hi Tony Sidaway \\n\\nI have to disagree with y...</td>\n",
       "      <td>10</td>\n",
       "      <td>0</td>\n",
       "    </tr>\n",
       "  </tbody>\n",
       "</table>\n",
       "</div>"
      ],
      "text/plain": [
       "                                        comment_text  not_toxic  toxic\n",
       "0            Re: Unblock \\n\\nTa!  (talk ⋅ contribs)           9      1\n",
       "1  What do you mean by link spam! - These are not...         10      0\n",
       "2   ¿ Better fewer but worse?, as another editor ...          9      1\n",
       "3   Origins \\n\\nThere is mention of the possible ...         10      0\n",
       "4   Hi Tony Sidaway \\n\\nI have to disagree with y...         10      0"
      ]
     },
     "execution_count": 7,
     "metadata": {
      "tags": []
     },
     "output_type": "execute_result"
    }
   ],
   "source": [
    "wiki.head()"
   ]
  },
  {
   "cell_type": "markdown",
   "metadata": {
    "colab_type": "text",
    "id": "EvF6iQCWog9R"
   },
   "source": [
    "### Krippendorf's Alpha"
   ]
  },
  {
   "cell_type": "code",
   "execution_count": 0,
   "metadata": {
    "colab": {
     "autoexec": {
      "startup": false,
      "wait_interval": 0
     }
    },
    "colab_type": "code",
    "collapsed": true,
    "id": "mUmTMa5Oog9d"
   },
   "outputs": [],
   "source": [
    "def add_row_to_coincidence(o, row, columns):\n",
    "    m_u = row.sum(1)\n",
    "    for i in columns:\n",
    "        for j in columns:\n",
    "            if i == j:\n",
    "                o[i][j] = o[i][j] + row[i]*(row[i]-1)/(m_u-1)\n",
    "            else:\n",
    "                o[i][j] = o[i][j] + row[i]*row[j]/(m_u-1)\n",
    "    return o\n",
    "\n",
    "def make_coincidence_matrix(df, columns):\n",
    "    df = df[columns]\n",
    "    n = df.shape[0]\n",
    "    num_cols = len(columns)\n",
    "    o = pd.DataFrame(np.zeros((num_cols,num_cols)), index = columns, columns=columns)\n",
    "    for i in range(n):\n",
    "        o = add_row_to_coincidence(o, df[i:i+1], columns)\n",
    "    return o\n",
    "\n",
    "def binary_distance(i,j):\n",
    "    return i!=j\n",
    "\n",
    "def interval_distance(i,j):\n",
    "    return (int(i)-int(j))**2\n",
    "\n",
    "def e(n, i, j):\n",
    "    if i == j:\n",
    "        return n[i]*(n[i]-1)/sum(n)-1\n",
    "    else:\n",
    "        return n[i]*n[j]/sum(n)-1\n",
    "\n",
    "def D_e(o, columns, distance):\n",
    "    n = o.sum(1)\n",
    "    output = 0\n",
    "    for i in columns:\n",
    "        for j in columns:\n",
    "            output = output + e(n,i,j)*distance(i,j)\n",
    "    return output\n",
    "\n",
    "def D_o(o, columns, distance):\n",
    "    output = 0\n",
    "    for i in columns:\n",
    "        for j in columns:\n",
    "            output = output + o[i][j]*distance(i,j)\n",
    "    return output\n",
    "\n",
    "def Krippendorf_alpha(df, columns, distance = binary_distance, o = None):\n",
    "    if o is None:\n",
    "        o = make_coincidence_matrix(df, columns)\n",
    "    d_o = D_o(o, columns, distance)\n",
    "    d_e = D_e(o, columns, distance)\n",
    "    return (1 - d_o/d_e)"
   ]
  },
  {
   "cell_type": "code",
   "execution_count": 0,
   "metadata": {
    "colab": {
     "autoexec": {
      "startup": false,
      "wait_interval": 0
     },
     "output_extras": [
      {},
      {}
     ]
    },
    "colab_type": "code",
    "id": "ROoCUn8vog-P",
    "outputId": "d692d3c6-dbc6-4f49-9d00-f45a3731a20e"
   },
   "outputs": [
    {
     "name": "stdout",
     "output_type": "stream",
     "text": [
      "Krippendorf's Alpha for Wikipedia Toxicity: \n"
     ]
    },
    {
     "data": {
      "text/plain": [
       "0.47679021368279273"
      ]
     },
     "execution_count": 14,
     "metadata": {
      "tags": []
     },
     "output_type": "execute_result"
    }
   ],
   "source": [
    "print(\"Krippendorf's Alpha for Wikipedia Toxicity: \")\n",
    "Krippendorf_alpha(wiki, TOXIC_COLUMNS)"
   ]
  }
 ],
 "metadata": {
  "colab": {
   "default_view": {},
   "name": "Inter Annotator Agreement Demo.ipynb",
   "provenance": [
    {
     "file_id": "0By5BN4UDRuWSMWE0ZEx5a09wTndIWXNBeUZhT2daSHFXdW1Z",
     "timestamp": 1507750632679
    }
   ],
   "version": "0.3.2",
   "views": {}
  },
  "kernelspec": {
   "display_name": "Python [default]",
   "language": "python",
   "name": "python3"
  },
  "language_info": {
   "codemirror_mode": {
    "name": "ipython",
    "version": 3
   },
   "file_extension": ".py",
   "mimetype": "text/x-python",
   "name": "python",
   "nbconvert_exporter": "python",
   "pygments_lexer": "ipython3",
   "version": "3.6.1"
  }
 },
 "nbformat": 4,
 "nbformat_minor": 1
}
