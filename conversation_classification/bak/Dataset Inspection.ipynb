{
 "cells": [
  {
   "cell_type": "code",
   "execution_count": 29,
   "metadata": {
    "collapsed": true
   },
   "outputs": [],
   "source": [
    "import json\n",
    "import os\n",
    "import re\n",
    "import pandas as pd"
   ]
  },
  {
   "cell_type": "code",
   "execution_count": 30,
   "metadata": {},
   "outputs": [
    {
     "name": "stdout",
     "output_type": "stream",
     "text": [
      "delta2_no_users_attacker_in_conv 0.6727976766698935\n",
      "delta2_no_users 0.46580928481806777\n"
     ]
    }
   ],
   "source": [
    "constraints = ['delta2_no_users_attacker_in_conv', 'delta2_no_users']\n",
    "for constraint in constraints:\n",
    "    all_cnts = 0\n",
    "    user_cnts = 0\n",
    "    with open('/scratch/wiki_dumps/expr_with_matching/%s/data/all.json'%constraint) as f:\n",
    "        for line in f:\n",
    "            conv_id, clss, conversation = json.loads(line)\n",
    "            if 'user' in conversation['action_feature'][0]['page_title'].lower():\n",
    "                user_cnts += 1\n",
    "            all_cnts += 1\n",
    "    print(constraint, user_cnts / all_cnts)"
   ]
  },
  {
   "cell_type": "code",
   "execution_count": 18,
   "metadata": {
    "collapsed": true
   },
   "outputs": [],
   "source": [
    "def get_activity_cnt(ns, year):\n",
    "\n",
    "    users = set([])\n",
    "    os.system('tar -xzf /scratch/wiki_dumps/wikipedia_talk_corpus/comments_%s_%d.tar.gz' % (ns, year))\n",
    "    data_dir = \"comments_%s_%d\" % (ns, year)\n",
    "    activity_dict = {}\n",
    "    for month in range(1, 13):\n",
    "        activity_dict[month] = []\n",
    "    total = []\n",
    "    pages = set([])\n",
    "    for _, _, filenames in os.walk(data_dir):\n",
    "        for filename in filenames:\n",
    "            if re.match(\"chunk_\\d*.tsv\", filename):\n",
    "                df = pd.read_csv(os.path.join(data_dir, filename), sep = \"\\t\")\n",
    "                pages = pages | set(df['page_id'].values.tolist())\n",
    "    os.system('rm -r comments_%s_%d' % (ns, year))\n",
    "    return pages"
   ]
  },
  {
   "cell_type": "code",
   "execution_count": 21,
   "metadata": {},
   "outputs": [],
   "source": [
    "pages = set([])\n",
    "for year in range(2001, 2016):\n",
    "    for ns in ['article', 'user']:\n",
    "        pages = pages | get_activity_cnt(ns, year)"
   ]
  },
  {
   "cell_type": "code",
   "execution_count": 22,
   "metadata": {},
   "outputs": [
    {
     "name": "stdout",
     "output_type": "stream",
     "text": [
      "13740651\n"
     ]
    }
   ],
   "source": [
    "print(len(pages))"
   ]
  },
  {
   "cell_type": "code",
   "execution_count": 31,
   "metadata": {
    "collapsed": true
   },
   "outputs": [],
   "source": [
    "with open(\"/scratch/wiki_dumps/expr_with_matching/user_features/updated.json\") as f:\n",
    "    inp = json.load(f)\n",
    "user_features = {}\n",
    "for conv, users in inp:\n",
    "    user_features[conv] = users"
   ]
  },
  {
   "cell_type": "code",
   "execution_count": 32,
   "metadata": {
    "collapsed": true
   },
   "outputs": [],
   "source": [
    "def attacker_is_flyby(conversation, user_features):\n",
    "    actions = conversation['action_feature']\n",
    "    end_time = max([action['timestamp_in_sec'] for action in actions])\n",
    "    for action in actions:\n",
    "        if action['timestamp_in_sec'] == end_time:\n",
    "            if not('user_text' in action):\n",
    "                return True\n",
    "            user = action['user_text']\n",
    "            if user_features[user]['edits_on_this_talk_page'] == 0:\n",
    "                return True\n",
    "            else: return False"
   ]
  },
  {
   "cell_type": "code",
   "execution_count": 33,
   "metadata": {
    "collapsed": true
   },
   "outputs": [],
   "source": [
    "constraints = 'delta2_no_users'\n",
    "bads = []\n",
    "all_data = {}\n",
    "tests = []\n",
    "flybys = 0\n",
    "all_bads = 0\n",
    "with open('/scratch/wiki_dumps/expr_with_matching/%s/data/test.json'%constraint) as f:\n",
    "    for line in f:\n",
    "        conv_id, clss, conversation = json.loads(line)\n",
    "        tests.append(conv_id)"
   ]
  },
  {
   "cell_type": "code",
   "execution_count": 34,
   "metadata": {},
   "outputs": [
    {
     "name": "stdout",
     "output_type": "stream",
     "text": [
      "Number of real flyby attackers: 0.8300920117105813\n"
     ]
    }
   ],
   "source": [
    "with open('/scratch/wiki_dumps/expr_with_matching/%s/data/all.json'%constraint) as f:\n",
    "    for line in f:\n",
    "        conv_id, clss, conversation = json.loads(line)\n",
    "        if attacker_is_flyby(conversation, user_features[conv_id]):\n",
    "            all_data[conv_id] = [conv_id, clss, conversation]\n",
    "            if not(clss):\n",
    "                bads.append([conv_id, clss, conversation])\n",
    "                flybys += 1\n",
    "        if not(clss):\n",
    "            all_bads += 1\n",
    "print('Number of real flyby attackers:', flybys / all_bads)"
   ]
  },
  {
   "cell_type": "code",
   "execution_count": 37,
   "metadata": {},
   "outputs": [],
   "source": [
    "left = []\n",
    "with open('/scratch/wiki_dumps/expr_with_matching/delta2_only_flybys/data/train.json', 'w') as w:\n",
    "    for bad in bads:\n",
    "        matched_id = bad[2]['action_feature'][0]['good_conversation_id']\n",
    "        if matched_id in all_data:\n",
    "            if not(bad in tests):\n",
    "                w.write(json.dumps(bad) + '\\n')\n",
    "                w.write(json.dumps(all_data[matched_id]) + '\\n')\n",
    "            else:\n",
    "                left.append(bad)\n",
    "                left.append(all_data[matched_id])\n",
    "\n",
    "with open('/scratch/wiki_dumps/expr_with_matching/delta2_only_flybys/data/test.json', 'w') as w:\n",
    "    for data in left:\n",
    "        w.write(json.dumps(data) + '\\n')"
   ]
  },
  {
   "cell_type": "code",
   "execution_count": null,
   "metadata": {
    "collapsed": true
   },
   "outputs": [],
   "source": []
  }
 ],
 "metadata": {
  "kernelspec": {
   "display_name": "Python [default]",
   "language": "python",
   "name": "python3"
  },
  "language_info": {
   "codemirror_mode": {
    "name": "ipython",
    "version": 3
   },
   "file_extension": ".py",
   "mimetype": "text/x-python",
   "name": "python",
   "nbconvert_exporter": "python",
   "pygments_lexer": "ipython3",
   "version": "3.6.1"
  }
 },
 "nbformat": 4,
 "nbformat_minor": 2
}
