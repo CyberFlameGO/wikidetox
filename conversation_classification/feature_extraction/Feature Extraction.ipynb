{
 "cells": [
  {
   "cell_type": "code",
   "execution_count": 3,
   "metadata": {
    "collapsed": true
   },
   "outputs": [],
   "source": [
    "import json\n",
    "import re"
   ]
  },
  {
   "cell_type": "code",
   "execution_count": 7,
   "metadata": {
    "collapsed": true
   },
   "outputs": [],
   "source": [
    "# TESTED\n",
    "def wikipedia_format_clean(content):\n",
    "    cleaned_content = '\\n'.join([x.strip() for x in content.splitlines() if not(x.strip()) == ''])\n",
    "    # heading: same amount of '=' begginng and end\n",
    "    x = 0\n",
    "    while (len(cleaned_content) >= 2 and cleaned_content[0] == '=' and cleaned_content[-1] == '='):\n",
    "        cleaned_content = cleaned_content[1:-1]\n",
    "    # indentation: : or *\n",
    "    while (len(cleaned_content) >= 1 and (cleaned_content[0] == ':' or cleaned_content[0] == '*')):\n",
    "        cleaned_content = cleaned_content[1:]\n",
    "    # external link: [EXTERNAL_LINK]\n",
    "    # reply_to: [REPLYTO]\n",
    "    # mention: [MENTION]\n",
    "    # outdent: [OUTDENT]\n",
    "    # wiki_link: [WIKI_LINK:]\n",
    "    sub_patterns = [('\\[EXTERNAL_LINK: .*?\\]', 'external_link'), \\\n",
    "                    ('\\[REPLYTO: .*?\\]', 'replyto'), \\\n",
    "                    ('\\[MENTION: .*?\\]', 'mention'), \\\n",
    "                    ('\\[OUTDENT: .*?\\]', ''), \\\n",
    "                    ('\\[WIKI_LINK: .*?\\]', 'wiki_link')]\n",
    "    for p, r in sub_patterns:\n",
    "        cleaned_content = re.sub(p, r, str(cleaned_content))\n",
    "    return cleaned_content"
   ]
  },
  {
   "cell_type": "code",
   "execution_count": null,
   "metadata": {
    "collapsed": true
   },
   "outputs": [],
   "source": [
    "def bow_feature(content):\n",
    "    "
   ]
  },
  {
   "cell_type": "code",
   "execution_count": 8,
   "metadata": {
    "collapsed": true
   },
   "outputs": [],
   "source": [
    "# load test_case\n",
    "actions = []\n",
    "with open('sample.json') as f:\n",
    "    for line in f:\n",
    "        actions.append(json.loads(line))"
   ]
  },
  {
   "cell_type": "code",
   "execution_count": null,
   "metadata": {
    "collapsed": true
   },
   "outputs": [],
   "source": []
  }
 ],
 "metadata": {
  "kernelspec": {
   "display_name": "Python 2",
   "language": "python",
   "name": "python2"
  },
  "language_info": {
   "codemirror_mode": {
    "name": "ipython",
    "version": 2
   },
   "file_extension": ".py",
   "mimetype": "text/x-python",
   "name": "python",
   "nbconvert_exporter": "python",
   "pygments_lexer": "ipython2",
   "version": "2.7.11"
  }
 },
 "nbformat": 4,
 "nbformat_minor": 2
}
