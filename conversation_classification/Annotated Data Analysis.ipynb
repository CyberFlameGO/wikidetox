{
 "cells": [
  {
   "cell_type": "code",
   "execution_count": 1,
   "metadata": {
    "collapsed": true
   },
   "outputs": [],
   "source": [
    "import json\n",
    "import pandas as pd\n",
    "import csv\n",
    "import random\n",
    "import numpy as np\n",
    "import matplotlib.pyplot as plt\n",
    "import scipy.stats"
   ]
  },
  {
   "cell_type": "markdown",
   "metadata": {},
   "source": [
    "# Utils"
   ]
  },
  {
   "cell_type": "code",
   "execution_count": 2,
   "metadata": {
    "collapsed": true
   },
   "outputs": [],
   "source": [
    "def get_ids(df):\n",
    "    conversations = df.values.tolist()\n",
    "    conversation_ids = []\n",
    "    for conv in conversations:\n",
    "        cur_conv = json.loads(conv)\n",
    "        conversation_ids.append(list(cur_conv.keys())[0])\n",
    "    return conversation_ids"
   ]
  },
  {
   "cell_type": "code",
   "execution_count": 3,
   "metadata": {
    "collapsed": true
   },
   "outputs": [],
   "source": [
    "def get_action_lst(conv):\n",
    "\n",
    "    cur_conv = json.loads(conv)\n",
    "    return list(cur_conv.keys())[0]"
   ]
  },
  {
   "cell_type": "code",
   "execution_count": 4,
   "metadata": {
    "collapsed": true
   },
   "outputs": [],
   "source": [
    "def non_readable_or_not_sure(df):\n",
    "    df['not_English'] = (df['na'] == True)\n",
    "    df['not_sure_toxicity'] = (df['toxic'] == -1)\n",
    "    non_english = pd.DataFrame({'not_readable': df.groupby('_unit_id')['not_English'].mean() >=0.5}).reset_index()\n",
    "    non_english = non_english[non_english['not_readable'] == True]['_unit_id'].values.tolist()\n",
    "    not_sure_toxicity = pd.DataFrame({'not_sure_toxicity': df.groupby('_unit_id')['not_sure_toxicity'].mean() >= 0.5}).reset_index()\n",
    "    not_sure_toxicity = not_sure_toxicity[not_sure_toxicity['not_sure_toxicity'] == True]['_unit_id'].values.tolist()\n",
    "    return non_english + not_sure_toxicity"
   ]
  },
  {
   "cell_type": "code",
   "execution_count": 5,
   "metadata": {
    "collapsed": true
   },
   "outputs": [],
   "source": [
    "def attacker_in_conv(conv):\n",
    "    actions = conv['action_feature']\n",
    "    end_time = max([a['timestamp_in_sec'] for a in actions])\n",
    "    attacker = None\n",
    "    for a in actions:\n",
    "        if a['timestamp_in_sec'] == end_time:\n",
    "            attacker = a['user_text']\n",
    "    for a in actions:\n",
    "        if a['timestamp_in_sec'] < end_time and a['user_text'] == attacker:\n",
    "            return True\n",
    "    return False"
   ]
  },
  {
   "cell_type": "code",
   "execution_count": 10,
   "metadata": {
    "collapsed": true
   },
   "outputs": [],
   "source": [
    "constraint = \"delta2_no_users\"\n",
    "job_suffix = 'constraintB_v018'"
   ]
  },
  {
   "cell_type": "code",
   "execution_count": 7,
   "metadata": {},
   "outputs": [
    {
     "name": "stdout",
     "output_type": "stream",
     "text": [
      "33374\n"
     ]
    }
   ],
   "source": [
    "goods = {}\n",
    "bads = []\n",
    "all_data = {}\n",
    "included = {}\n",
    "inputs = []\n",
    "with open('/scratch/wiki_dumps/expr_with_matching/%s/data/all.json'%constraint) as f:\n",
    "    for line in f:\n",
    "        conv_id, clss, conversation = json.loads(line)\n",
    "        if conv_id in all_data:\n",
    "            continue\n",
    "        all_data[conv_id] = [conv_id, clss, conversation]\n",
    "        inputs.append([conv_id, clss, conversation])\n",
    "    for line in inputs:\n",
    "        conv_id, clss, conversation = line\n",
    "        if clss == 0:# and (attacker_in_conv(all_data[conversation['action_feature'][0]['good_conversation_id']][2])):\n",
    "            bads.append([conv_id, clss, conversation])\n",
    "            goods[conv_id] = all_data[conversation['action_feature'][0]['good_conversation_id']]\n",
    "cleaned_data = bads + list(goods.values())\n",
    "print(len(cleaned_data))"
   ]
  },
  {
   "cell_type": "markdown",
   "metadata": {},
   "source": [
    "# JOB 1"
   ]
  },
  {
   "cell_type": "code",
   "execution_count": 11,
   "metadata": {
    "collapsed": true
   },
   "outputs": [],
   "source": [
    "with open('/scratch/wiki_dumps/annotated/job1_%s.csv'%job_suffix) as f:\n",
    "     df = pd.read_csv(f, encoding = 'utf-8', index_col=None, quoting=csv.QUOTE_ALL)\n",
    "\n",
    "toxicity = df[df['toxic'] >= 0]\n",
    "toxic_before = pd.DataFrame({'toxic_before': toxicity.groupby('_unit_id')['toxic'].mean() >= 0.5}).\\\n",
    "            reset_index()\n",
    "toxic_before = toxic_before[toxic_before['toxic_before'] == True]['_unit_id'].values.tolist()\n",
    "_excluded = list(set(non_readable_or_not_sure(df) + toxic_before))\n",
    "annotated = set(get_ids(df['conversations']))\n",
    "excluded_1 = set(get_ids(df[df['_unit_id'].isin(_excluded)]['conversations']))"
   ]
  },
  {
   "cell_type": "code",
   "execution_count": 12,
   "metadata": {
    "collapsed": true
   },
   "outputs": [],
   "source": [
    "toxicity_score = pd.DataFrame({'toxicity_score': toxicity.groupby('_unit_id')['toxic'].mean()}).\\\n",
    "            reset_index()\n",
    "disagreement = df[df['disagreement'] >= 0]\n",
    "disagreement_score = pd.DataFrame({'disagree_score': disagreement.groupby('_unit_id')['disagreement'].mean()}).\\\n",
    "            reset_index()\n",
    "lead_to_toxic= df[~np.isnan(df['lead_to_toxic'])]\n",
    "lead_to_toxic_score = pd.DataFrame({'lead_to_toxic_score': lead_to_toxic.groupby('_unit_id')['lead_to_toxic'].mean()}).reset_index()"
   ]
  },
  {
   "cell_type": "code",
   "execution_count": 13,
   "metadata": {
    "collapsed": true
   },
   "outputs": [],
   "source": [
    "no_annotators = pd.DataFrame({'no_annotators': df.groupby('_unit_id').size()}).\\\n",
    "            reset_index()"
   ]
  },
  {
   "cell_type": "code",
   "execution_count": 14,
   "metadata": {
    "collapsed": true
   },
   "outputs": [],
   "source": [
    "unit_ids = df[['_unit_id','conversations']].values.tolist()\n",
    "\n",
    "id_conv_mapping = {}\n",
    "for unit_id in unit_ids:\n",
    "    curid, conv = unit_id\n",
    "    id_conv_mapping[curid] = get_action_lst(conv)\n",
    "unit_ids = id_conv_mapping\n",
    "\n",
    "data = []\n",
    "appeared = {}\n",
    "for line in cleaned_data:\n",
    "    conv_id, clss, conversation = line\n",
    "    idlist = [k['id'] for k in conversation['action_feature']]\n",
    "    if clss:\n",
    "        matched_id = conversation['action_feature'][0]['bad_conversation_id']\n",
    "    else:\n",
    "        matched_id = conversation['action_feature'][0]['good_conversation_id']\n",
    "    for curid, conv in id_conv_mapping.items():\n",
    "        if conv in idlist and not(conv_id in appeared):\n",
    "            data.append({'_unit_id': curid, 'conv_id': conv_id, 'matched_id': matched_id, 'class' : clss})\n",
    "            appeared[conv_id] = True"
   ]
  },
  {
   "cell_type": "code",
   "execution_count": 15,
   "metadata": {
    "collapsed": true
   },
   "outputs": [],
   "source": [
    "conv_df = pd.DataFrame(data).set_index('_unit_id')\n",
    "conv_df = conv_df.join(toxicity_score.set_index('_unit_id'))\n",
    "conv_df = conv_df.join(disagreement_score.set_index('_unit_id'))\n",
    "conv_df = conv_df.join(lead_to_toxic_score.set_index('_unit_id'))\n",
    "conv_df = conv_df.join(no_annotators.set_index('_unit_id'))"
   ]
  },
  {
   "cell_type": "code",
   "execution_count": 24,
   "metadata": {
    "collapsed": true
   },
   "outputs": [],
   "source": [
    "# Each Conversation is annotated by 5~22 workers JOB1"
   ]
  },
  {
   "cell_type": "markdown",
   "metadata": {},
   "source": [
    "# JOB 2"
   ]
  },
  {
   "cell_type": "code",
   "execution_count": 16,
   "metadata": {
    "collapsed": true
   },
   "outputs": [],
   "source": [
    "with open('/scratch/wiki_dumps/annotated/job2_%s.csv'%(job_suffix)) as f:\n",
    "     df = pd.read_csv(f, encoding = 'utf-8', index_col=None, quoting=csv.QUOTE_ALL)\n",
    "\n",
    "_excluded = list(set(non_readable_or_not_sure(df)))\n",
    "excluded_2 = set(get_ids(df[df['_unit_id'].isin(_excluded)]['conversations']))\n",
    "excluded = (excluded_1 | excluded_2)"
   ]
  },
  {
   "cell_type": "code",
   "execution_count": 17,
   "metadata": {
    "collapsed": true
   },
   "outputs": [],
   "source": [
    "df['conv_id'] = df.apply(lambda x: list(json.loads(x['conversations']).keys())[0], axis=1)"
   ]
  },
  {
   "cell_type": "code",
   "execution_count": 18,
   "metadata": {
    "collapsed": true
   },
   "outputs": [],
   "source": [
    "toxicity = df[df['toxic'] >= 0]\n",
    "toxic = pd.DataFrame({'toxic': toxicity.groupby('_unit_id')['toxic'].mean() >= 0.5}).reset_index()\n",
    "bad_convs = toxic[toxic['toxic'] == True]['_unit_id'].values.tolist()\n",
    "bad_conversations = set(get_ids(df[df['_unit_id'].isin(bad_convs)]['conversations']))"
   ]
  },
  {
   "cell_type": "code",
   "execution_count": 19,
   "metadata": {
    "collapsed": true
   },
   "outputs": [],
   "source": [
    "df['has_disagreement'] = ~(df['disagreement'] == None)\n",
    "disagreement = pd.DataFrame({'disagreement': df.groupby('_unit_id')['has_disagreement'].mean() >= 0.5}).reset_index()\n",
    "disagree_convs = disagreement[disagreement['disagreement'] == True]['_unit_id'].values.tolist()\n",
    "disagree_conversations = set(get_ids(df[df['_unit_id'].isin(disagree_convs)]['conversations']))"
   ]
  },
  {
   "cell_type": "code",
   "execution_count": 20,
   "metadata": {
    "collapsed": true
   },
   "outputs": [],
   "source": [
    "bad_and_disagree = (bad_conversations & disagree_conversations - excluded)\n",
    "good_and_disagree = (disagree_conversations - bad_conversations - excluded)"
   ]
  },
  {
   "cell_type": "code",
   "execution_count": 21,
   "metadata": {},
   "outputs": [
    {
     "data": {
      "text/plain": [
       "33374"
      ]
     },
     "execution_count": 21,
     "metadata": {},
     "output_type": "execute_result"
    }
   ],
   "source": [
    "len(cleaned_data)"
   ]
  },
  {
   "cell_type": "code",
   "execution_count": 22,
   "metadata": {
    "collapsed": true
   },
   "outputs": [],
   "source": [
    "data = []\n",
    "bad_disagree = []\n",
    "good_disagree = []\n",
    "xs = []\n",
    "total_bad = 0\n",
    "total_good = 0\n",
    "for line in cleaned_data:\n",
    "    conv_id, clss, conversation = line\n",
    "    idlist = [k['id'] for k in conversation['action_feature']]\n",
    "    is_annotated = not(annotated.isdisjoint(idlist))\n",
    "    is_excluded = not(excluded.isdisjoint(idlist))\n",
    "    is_bd = not(bad_and_disagree.isdisjoint(idlist))\n",
    "    is_gd = not(good_and_disagree.isdisjoint(idlist))\n",
    "    annotated_class = bad_conversations.isdisjoint(idlist)\n",
    "    same_class = (int(annotated_class) == clss)\n",
    "    if 'good_conversation_id' in conversation['action_feature'][0]:\n",
    "        matched_id = conversation['action_feature'][0]['good_conversation_id']\n",
    "    else:\n",
    "        matched_id = conversation['action_feature'][0]['bad_conversation_id']\n",
    "    dt = {'conversation_id': conv_id, 'annotated': is_annotated, 'excluded': is_excluded, \\\n",
    "        'annotated_class': annotated_class, 'class': clss, 'matched_id': matched_id, 'same_class': same_class}\n",
    "    if is_bd and not(is_excluded) and is_annotated:\n",
    "        bad_disagree.append(dt)\n",
    "    if is_gd and not(is_excluded):\n",
    "        good_disagree.append(dt)\n",
    "    if annotated_class:\n",
    "        total_good += 1\n",
    "    else:total_bad += 1\n",
    "    data.append(dt)"
   ]
  },
  {
   "cell_type": "code",
   "execution_count": 23,
   "metadata": {},
   "outputs": [
    {
     "name": "stdout",
     "output_type": "stream",
     "text": [
      "Number of bad conversations with disagreement : 9002\n",
      "Total Number of bad conversations: 9057\n",
      "Number of good conversations with disagreement : 17892\n",
      "Total Number of bad conversations: 24317\n",
      "Good conversations with disagreement / good conversations: 0.735781552000658\n",
      "Bad conversations with disagreement / bad conversations: 0.9939273490118141\n",
      "Bad conversations with disagreement / all conversations with disagreement 0.33472149921915667\n",
      "Number of bad conversations / all conversations: 0.27137891772038114\n"
     ]
    }
   ],
   "source": [
    "bad_but_disagree = pd.DataFrame(bad_disagree)\n",
    "good_but_disagree = pd.DataFrame(good_disagree)\n",
    "print('Number of bad conversations with disagreement :', len(bad_but_disagree))\n",
    "print('Total Number of bad conversations:', total_bad)\n",
    "print('Number of good conversations with disagreement :', len(good_but_disagree))\n",
    "print('Total Number of bad conversations:', total_good)\n",
    "print('Good conversations with disagreement / good conversations:', len(good_but_disagree) / total_good)\n",
    "print('Bad conversations with disagreement / bad conversations:', len(bad_but_disagree) / total_bad)\n",
    "print('Bad conversations with disagreement / all conversations with disagreement', len(bad_but_disagree) / (len(good_but_disagree) + len(bad_but_disagree)))\n",
    "print('Number of bad conversations / all conversations:', total_bad/(total_bad+total_good))"
   ]
  },
  {
   "cell_type": "code",
   "execution_count": 24,
   "metadata": {},
   "outputs": [
    {
     "name": "stdout",
     "output_type": "stream",
     "text": [
      "Number of Conversations Annotated: 27294\n",
      "Number of Conversations Excluded: 400\n",
      "Number of Conversations left: 16772\n"
     ]
    }
   ],
   "source": [
    "annotation_aggregated = pd.DataFrame(data)\n",
    "print('Number of Conversations Annotated:', len(annotation_aggregated[annotation_aggregated['annotated'] == True]))\n",
    "print('Number of Conversations Excluded:', len(annotation_aggregated[annotation_aggregated['excluded'] == True]))\n",
    "annotation_aggregated = annotation_aggregated[(annotation_aggregated['annotated'] == True)\\\n",
    "                                              & (annotation_aggregated['excluded'] == False)\\\n",
    "                                              & (annotation_aggregated['same_class'] == True)]\n",
    "left_ids = annotation_aggregated['conversation_id'].values.tolist()\n",
    "annotation_aggregated = annotation_aggregated[annotation_aggregated['matched_id'].isin(left_ids)]\n",
    "print('Number of Conversations left:', len(annotation_aggregated))"
   ]
  },
  {
   "cell_type": "code",
   "execution_count": 25,
   "metadata": {
    "collapsed": true
   },
   "outputs": [],
   "source": [
    "verified_pairs = annotation_aggregated['conversation_id'].values.tolist()\n",
    "conv_df = conv_df[conv_df['conv_id'].isin(verified_pairs)]"
   ]
  },
  {
   "cell_type": "code",
   "execution_count": 26,
   "metadata": {
    "collapsed": true
   },
   "outputs": [],
   "source": [
    "conv_df = conv_df.set_index('conv_id')"
   ]
  },
  {
   "cell_type": "code",
   "execution_count": 27,
   "metadata": {
    "collapsed": true
   },
   "outputs": [],
   "source": [
    "for var in ['toxicity', 'disagree', 'lead_to_toxic']:\n",
    "    conv_df['%s_equals'%(var)] = conv_df.apply(lambda x: 1 if conv_df.loc[x['matched_id']]['%s_score'%(var)] == x['%s_score'%(var)] else 0, axis=1)\n",
    "    conv_df['%s_annotation'%(var)] = conv_df.apply(lambda x: 1 if conv_df.loc[x['matched_id']]['%s_score'%(var)] > x['%s_score'%(var)] else 0, axis=1)"
   ]
  },
  {
   "cell_type": "code",
   "execution_count": 28,
   "metadata": {},
   "outputs": [
    {
     "name": "stdout",
     "output_type": "stream",
     "text": [
      "toxicity accuracy : 0.5111495349391844\n",
      "toxicity number of equals: 9750\n",
      "toxicity accuracy without equals: 0.5266305895756195\n",
      "\n",
      "\n",
      "disagree accuracy : 0.43846887669926066\n",
      "disagree number of equals: 1044\n",
      "disagree accuracy without equals: 0.43438453713123093\n",
      "\n",
      "\n",
      "lead_to_toxic accuracy : 0.4974362031958025\n",
      "lead_to_toxic number of equals: 1042\n",
      "lead_to_toxic accuracy without equals: 0.4972663699936427\n",
      "\n",
      "\n"
     ]
    }
   ],
   "source": [
    "for var in ['toxicity', 'disagree', 'lead_to_toxic']:\n",
    "    print(var + ' accuracy :', len(conv_df[conv_df['%s_annotation'%(var)] == conv_df['class']]) / len(conv_df))\n",
    "    tmp_df = conv_df[conv_df['%s_equals'%var] == 0]\n",
    "    print(var + ' number of equals:', len(conv_df) - len(tmp_df))\n",
    "    print(var + ' accuracy without equals:', len(tmp_df[tmp_df['%s_annotation'%(var)] == tmp_df['class']]) \\\n",
    "        / len(tmp_df))\n",
    "    print('\\n')"
   ]
  },
  {
   "cell_type": "code",
   "execution_count": 29,
   "metadata": {
    "scrolled": true
   },
   "outputs": [
    {
     "name": "stderr",
     "output_type": "stream",
     "text": [
      "/home/yiqing/miniconda3/lib/python3.6/site-packages/ipykernel/__main__.py:3: SettingWithCopyWarning: \n",
      "A value is trying to be set on a copy of a slice from a DataFrame.\n",
      "Try using .loc[row_indexer,col_indexer] = value instead\n",
      "\n",
      "See the caveats in the documentation: http://pandas.pydata.org/pandas-docs/stable/indexing.html#indexing-view-versus-copy\n",
      "  app.launch_new_instance()\n"
     ]
    },
    {
     "data": {
      "image/png": "[encoded data removed]",
      "text/plain": [
       "<matplotlib.figure.Figure at 0x7f7018703860>"
      ]
     },
     "metadata": {},
     "output_type": "display_data"
    },
    {
     "name": "stdout",
     "output_type": "stream",
     "text": [
      "0.0260004706923 0.0308239342418 WilcoxonResult(statistic=2823803.5, pvalue=1.3344412408900053e-05)\n",
      "Bad - Good < 0 1662\n",
      "Bad - Good > 0 1849\n",
      "Bad - Good == 0 4875\n"
     ]
    },
    {
     "data": {
      "image/png": "[encoded data removed]",
      "text/plain": [
       "<matplotlib.figure.Figure at 0x7f6dfee54780>"
      ]
     },
     "metadata": {},
     "output_type": "display_data"
    },
    {
     "name": "stdout",
     "output_type": "stream",
     "text": [
      "0.220091616454 0.186359551232 WilcoxonResult(statistic=12613601.5, pvalue=1.8384250123401934e-45)\n",
      "Bad - Good < 0 4448\n",
      "Bad - Good > 0 3416\n",
      "Bad - Good == 0 522\n"
     ]
    },
    {
     "data": {
      "image/png": "[encoded data removed]",
      "text/plain": [
       "<matplotlib.figure.Figure at 0x7f700aa68b00>"
      ]
     },
     "metadata": {},
     "output_type": "display_data"
    },
    {
     "name": "stdout",
     "output_type": "stream",
     "text": [
      "-1.48789161861 -1.49012733199 WilcoxonResult(statistic=15306526.0, pvalue=0.42681049786510439)\n",
      "Bad - Good < 0 3954\n",
      "Bad - Good > 0 3911\n",
      "Bad - Good == 0 521\n"
     ]
    }
   ],
   "source": [
    "for var in ['toxicity', 'disagree', 'lead_to_toxic']:\n",
    "    all_good = conv_df[conv_df['class'] == 1]\n",
    "    all_good['%s_gap'%(var)] = all_good.apply(lambda x: conv_df.loc[x['matched_id']]['%s_score'%(var)] - x['%s_score'%(var)], axis=1)\n",
    "    plt.figure()\n",
    "    all_good['%s_gap'%(var)].plot.hist(alpha=0.5)\n",
    "    plt.xlabel('Bad - Good : human annotation on %s'%(var))\n",
    "    plt.show()\n",
    "    good = conv_df[conv_df['class'] == 1]['%s_score'%(var)].values.tolist()\n",
    "    bad = conv_df[conv_df['class'] == 0]['%s_score'%(var)].values.tolist()\n",
    "    print(np.mean(good), np.mean(bad), scipy.stats.wilcoxon(good, bad))\n",
    "    print('Bad - Good < 0', len(all_good[all_good['%s_gap'%(var)] < 0]))\n",
    "    print('Bad - Good > 0', len(all_good[all_good['%s_gap'%(var)] > 0]))\n",
    "    print('Bad - Good == 0', len(all_good[all_good['%s_gap'%(var)] == 0]))"
   ]
  },
  {
   "cell_type": "code",
   "execution_count": 30,
   "metadata": {
    "collapsed": true
   },
   "outputs": [],
   "source": [
    "test = {}\n",
    "with open('/scratch/wiki_dumps/expr_with_matching/%s/data/never_seen.json'%(constraint)) as f:\n",
    "    for line in f:\n",
    "        conv_id, clss, conversation = json.loads(line)\n",
    "        test[conv_id] = True"
   ]
  },
  {
   "cell_type": "code",
   "execution_count": 31,
   "metadata": {},
   "outputs": [
    {
     "name": "stdout",
     "output_type": "stream",
     "text": [
      "14808\n"
     ]
    }
   ],
   "source": [
    "left = []\n",
    "with open('/scratch/wiki_dumps/expr_with_matching/%s/data/test_verified.json'%(constraint), 'w') as w:\n",
    "    for conv in cleaned_data:\n",
    "        conv_id, clss, conversation = conv\n",
    "        if not(conv_id in verified_pairs):\n",
    "            continue\n",
    "        if not(conv_id in test):\n",
    "            left.append(conv)\n",
    "        else:\n",
    "            w.write(json.dumps(conv) + '\\n')\n",
    "print(len(left))\n",
    "with open('/scratch/wiki_dumps/expr_with_matching/%s/data/train_verified.json'%(constraint), 'w') as w:\n",
    "    for conv in left:\n",
    "        w.write(json.dumps(conv) + '\\n')"
   ]
  },
  {
   "cell_type": "markdown",
   "metadata": {},
   "source": [
    "# Annotator Agreement"
   ]
  },
  {
   "cell_type": "code",
   "execution_count": 9,
   "metadata": {
    "collapsed": true
   },
   "outputs": [],
   "source": [
    "TOXIC_COLUMNS = ['no_toxic', 'toxic']\n",
    "\n",
    "no_toxic = pd.DataFrame({'no_toxic': df[df['toxic'] == 0].groupby('_unit_id').size()}).reset_index().set_index('_unit_id')\n",
    "toxic = pd.DataFrame({'toxic': df[df['toxic'] == 1].groupby('_unit_id').size()}).reset_index().set_index('_unit_id')\n",
    "total = toxic.join(no_toxic, how='outer')\n",
    "total = total.fillna(int(0)).reset_index()\n",
    "total['sum'] = total['toxic'] + total['no_toxic']\n",
    "#total = total[total['sum'] ==20]\n",
    "\n",
    "len(total[total['sum'] >=20]) / len(total)\n",
    "\n",
    "total = total[total['sum'] == 5]\n",
    "\n",
    "total['toxic'] = total.apply(lambda x: int(x['toxic']), axis=1)\n",
    "\n",
    "total['sum'] = total['toxic'] + total['no_toxic']\n",
    "\n",
    "total[['sum']].plot.hist\n",
    "\n",
    "n,bins,batches = plt.hist(total['no_toxic'])\n",
    "\n",
    "len(total[total['no_toxic'] > 20]) / len(total)\n",
    "\n",
    "plt.show()\n",
    "\n",
    "total = total[~(total['_unit_id'].isin(_excluded))]\n",
    "\n",
    "print(len(total), Krippendorf_alpha(total, TOXIC_COLUMNS))"
   ]
  },
  {
   "cell_type": "code",
   "execution_count": 164,
   "metadata": {},
   "outputs": [
    {
     "name": "stdout",
     "output_type": "stream",
     "text": [
      "2643 0.282819056548\n"
     ]
    }
   ],
   "source": [
    "TOXIC_COLUMNS = ['no_toxic', 'toxic']\n",
    "\n",
    "no_toxic = pd.DataFrame({'no_toxic': df[df['toxic'] == 0].groupby('_unit_id').size()}).reset_index().set_index('_unit_id')\n",
    "toxic = pd.DataFrame({'toxic': df[df['toxic'] == 1].groupby('_unit_id').size()}).reset_index().set_index('_unit_id')\n",
    "total = toxic.join(no_toxic, how='outer')\n",
    "total = total.fillna(0).reset_index()\n",
    "total['sum'] = total['toxic'] + total['no_toxic']\n",
    "total = total[total['sum'] ==20]"
   ]
  }
 ],
 "metadata": {
  "kernelspec": {
   "display_name": "Python [default]",
   "language": "python",
   "name": "python3"
  },
  "language_info": {
   "codemirror_mode": {
    "name": "ipython",
    "version": 3
   },
   "file_extension": ".py",
   "mimetype": "text/x-python",
   "name": "python",
   "nbconvert_exporter": "python",
   "pygments_lexer": "ipython3",
   "version": "3.6.1"
  }
 },
 "nbformat": 4,
 "nbformat_minor": 2
}
