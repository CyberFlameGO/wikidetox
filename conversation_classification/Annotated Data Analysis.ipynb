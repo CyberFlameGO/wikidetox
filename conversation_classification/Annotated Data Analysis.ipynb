{
 "cells": [
  {
   "cell_type": "code",
   "execution_count": 1,
   "metadata": {
    "collapsed": true
   },
   "outputs": [],
   "source": [
    "import json\n",
    "import pandas as pd\n",
    "import csv\n",
    "import random\n",
    "import numpy as np\n",
    "import matplotlib.pyplot as plt\n",
    "import scipy.stats\n",
    "from sklearn import svm\n",
    "from scipy.sparse import csr_matrix\n",
    "from sklearn.model_selection import GridSearchCV, cross_val_score\n",
    "from sklearn.metrics import classification_report\n",
    "from sklearn import linear_model\n",
    "from collections import defaultdict\n",
    "import scikits.bootstrap as boot"
   ]
  },
  {
   "cell_type": "markdown",
   "metadata": {},
   "source": [
    "# Utils"
   ]
  },
  {
   "cell_type": "code",
   "execution_count": 2,
   "metadata": {
    "collapsed": true
   },
   "outputs": [],
   "source": [
    "def get_ids(df):\n",
    "    conversations = df.values.tolist()\n",
    "    conversation_ids = []\n",
    "    for conv in conversations:\n",
    "        cur_conv = json.loads(conv)\n",
    "        conversation_ids.append(list(cur_conv.keys())[0])\n",
    "    return conversation_ids"
   ]
  },
  {
   "cell_type": "code",
   "execution_count": 3,
   "metadata": {
    "collapsed": true
   },
   "outputs": [],
   "source": [
    "def get_action_lst(conv):\n",
    "\n",
    "    cur_conv = json.loads(conv)\n",
    "    return list(cur_conv.keys())[0]"
   ]
  },
  {
   "cell_type": "code",
   "execution_count": 4,
   "metadata": {
    "collapsed": true
   },
   "outputs": [],
   "source": [
    "def get_paired_action_lst(conv):\n",
    "    conv = json.loads(conv)\n",
    "    cur_conv1 = conv['conversation1']\n",
    "    cur_conv2 = conv['conversation2']\n",
    "    return list(cur_conv1.keys())[0], list(cur_conv2.keys())[0]"
   ]
  },
  {
   "cell_type": "code",
   "execution_count": 5,
   "metadata": {
    "collapsed": true
   },
   "outputs": [],
   "source": [
    "def non_readable_or_not_sure(df):\n",
    "    df['not_English'] = (df['na'] == True)\n",
    "    df['not_sure_toxicity'] = (df['toxic'] == -1)\n",
    "    non_english = pd.DataFrame({'not_readable': df.groupby('_unit_id')['not_English'].mean() >=0.5}).reset_index()\n",
    "    non_english = non_english[non_english['not_readable'] == True]['_unit_id'].values.tolist()\n",
    "    not_sure_toxicity = pd.DataFrame({'not_sure_toxicity': df.groupby('_unit_id')['not_sure_toxicity'].mean() >= 0.5}).reset_index()\n",
    "    not_sure_toxicity = not_sure_toxicity[not_sure_toxicity['not_sure_toxicity'] == True]['_unit_id'].values.tolist()\n",
    "    return non_english + not_sure_toxicity"
   ]
  },
  {
   "cell_type": "code",
   "execution_count": 6,
   "metadata": {
    "collapsed": true
   },
   "outputs": [],
   "source": [
    "def attacker_in_conv(conv):\n",
    "    actions = conv['action_feature']\n",
    "    end_time = max([a['timestamp_in_sec'] for a in actions])\n",
    "    attacker = None\n",
    "    for a in actions:\n",
    "        if a['timestamp_in_sec'] == end_time:\n",
    "            attacker = a['user_text']\n",
    "    for a in actions:\n",
    "        if a['timestamp_in_sec'] < end_time and a['user_text'] == attacker:\n",
    "            return True\n",
    "    return False"
   ]
  },
  {
   "cell_type": "code",
   "execution_count": 7,
   "metadata": {
    "collapsed": true
   },
   "outputs": [],
   "source": [
    "constraint = \"constraintA+B\"\n",
    "job_suffix = 'constraintsAB_v017'"
   ]
  },
  {
   "cell_type": "code",
   "execution_count": 79,
   "metadata": {
    "collapsed": true
   },
   "outputs": [],
   "source": [
    "constraint = \"constraintB\"\n",
    "job_suffix = 'constraintB_v018'"
   ]
  },
  {
   "cell_type": "code",
   "execution_count": 9,
   "metadata": {},
   "outputs": [
    {
     "name": "stdout",
     "output_type": "stream",
     "text": [
      "1844\n"
     ]
    }
   ],
   "source": [
    "cleaned_data = []\n",
    "with open('/scratch/wiki_dumps/paired_conversations/%s/data/all.json'%constraint) as f:\n",
    "    for line in f:\n",
    "        conv_id, clss, conversation = json.loads(line)\n",
    "        cleaned_data.append([conv_id, clss, conversation])\n",
    "print(len(cleaned_data))"
   ]
  },
  {
   "cell_type": "markdown",
   "metadata": {},
   "source": [
    "# Paired Annotation"
   ]
  },
  {
   "cell_type": "code",
   "execution_count": 42,
   "metadata": {},
   "outputs": [
    {
     "name": "stdout",
     "output_type": "stream",
     "text": [
      "225 534\n"
     ]
    }
   ],
   "source": [
    "#filename = '/scratch/wiki_dumps/annotated/paired_human_annotation.csv'\n",
    "filename = '/scratch/wiki_dumps/annotated/paired_fix.csv'\n",
    "with open(filename) as f:\n",
    "     df = pd.read_csv(f, encoding = 'utf-8', index_col=None, quoting=csv.QUOTE_ALL)\n",
    "\n",
    "df['label'] = df.apply(lambda x: x['future_toxic'] -1, axis=1)\n",
    "df['toxic_label'] = df.apply(lambda x: x['now_toxic'] -1 if x['now_toxic'] == 1 or x['now_toxic'] == 2 else -1, axis=1)\n",
    "\n",
    "human_labels = pd.DataFrame({'label': df.groupby('_unit_id')['label'].mean() > 0.5, \\\n",
    "                            'toxic_label': df[df['toxic_label'] >= 0].groupby('_unit_id')['label'].mean() > 0.5}).\\\n",
    "            reset_index()\n",
    "human_labels['label'] = human_labels['label'].apply(lambda x: int(x))\n",
    "print(len(human_labels[pd.isnull(human_labels['toxic_label'])]), len(human_labels))\n",
    "human_labels = human_labels.fillna(0)\n",
    "human_labels['toxic_label'] = human_labels['toxic_label'].apply(lambda x: int(x))\n",
    "\n",
    "\n",
    "unit_ids = df[['_unit_id','conversations']].values.tolist()\n",
    "\n",
    "id_conv_mapping = {}\n",
    "for unit_id in unit_ids:\n",
    "    curid, conv = unit_id\n",
    "    id_conv_mapping[curid] = get_paired_action_lst(conv)\n",
    "unit_ids = id_conv_mapping\n",
    "\n",
    "data = []\n",
    "appeared = {}\n",
    "for line in cleaned_data:\n",
    "    conv_id, clss, conversation = line\n",
    "    idlist = [k['id'] for k in conversation['action_feature']]\n",
    "    page_title = conversation['action_feature'][0]['page_title']\n",
    "    if clss: continue\n",
    "    for curid, conv in id_conv_mapping.items():\n",
    "        if conv[0] in idlist:\n",
    "            data.append({'_unit_id': curid, 'bad_conv': 0, 'page_title': page_title, 'bad_conv_id': conv_id})\n",
    "            appeared[conv_id] = True\n",
    "        elif conv[1] in idlist:\n",
    "            data.append({'_unit_id': curid, 'bad_conv': 1, 'page_title': page_title, 'bad_conv_id': conv_id})\n",
    "\n",
    "human_df = pd.DataFrame(data).set_index('_unit_id')\n",
    "human_df = human_df.join(human_labels.set_index('_unit_id'))\n",
    "\n",
    "human_df['accuracy'] = human_df.apply(lambda x: int(x['label'] == x['bad_conv']), axis=1)\n",
    "human_df['toxic_accuracy'] = human_df.apply(lambda x: int(x['toxic_label'] == x['bad_conv']), axis=1)"
   ]
  },
  {
   "cell_type": "code",
   "execution_count": 43,
   "metadata": {
    "collapsed": true
   },
   "outputs": [],
   "source": [
    "with open('/scratch/wiki_dumps/annotated/paired_accuracy_ver1.csv') as f:\n",
    "     human_df_ver1 = pd.read_csv(f, encoding = 'utf-8', index_col=None, quoting=csv.QUOTE_ALL)"
   ]
  },
  {
   "cell_type": "code",
   "execution_count": 44,
   "metadata": {
    "collapsed": true
   },
   "outputs": [],
   "source": [
    "bads = human_df['bad_conv_id'].values.tolist()\n",
    "human_df_ver1 = human_df_ver1[~(human_df_ver1['bad_conv_id'].isin(bads))]\n",
    "human_df = pd.concat([human_df, human_df_ver1])\n",
    "\n",
    "scores = human_df.groupby('page_title')['accuracy'].mean().reset_index()\n",
    "print(np.mean(scores['accuracy']), scipy.stats.sem(scores['accuracy']), \\\n",
    "np.mean(scores['accuracy']) + scipy.stats.sem(scores['accuracy']) * 1.96)\n",
    "\n",
    "toxic_scores = human_df.groupby('page_title')['toxic_accuracy'].mean().reset_index()\n",
    "print(np.mean(toxic_scores['toxic_accuracy']), scipy.stats.sem(toxic_scores['toxic_accuracy']))"
   ]
  },
  {
   "cell_type": "code",
   "execution_count": 82,
   "metadata": {
    "collapsed": true
   },
   "outputs": [],
   "source": [
    "with open('human.json', 'w') as f:\n",
    "    json.dump(scores['accuracy'].values.tolist(), f)"
   ]
  },
  {
   "cell_type": "code",
   "execution_count": 52,
   "metadata": {
    "collapsed": true
   },
   "outputs": [],
   "source": [
    "with open('human_p.json', 'w') as f:\n",
    "    json.dump(toxic_scores['toxic_accuracy'].values.tolist(), f)"
   ]
  },
  {
   "cell_type": "markdown",
   "metadata": {},
   "source": [
    "# Toxicity in Context"
   ]
  },
  {
   "cell_type": "code",
   "execution_count": 102,
   "metadata": {
    "collapsed": true
   },
   "outputs": [],
   "source": [
    "with open('/scratch/wiki_dumps/annotated/toxicity_in_context_constraintAB_v019.csv') as f:\n",
    "     df = pd.read_csv(f, encoding = 'utf-8', index_col=None, quoting=csv.QUOTE_ALL)"
   ]
  },
  {
   "cell_type": "code",
   "execution_count": 110,
   "metadata": {
    "collapsed": true
   },
   "outputs": [],
   "source": [
    "toxic_annotations = df[df['toxic'] >= 0]\n",
    "toxic_comments = pd.DataFrame({'toxic': toxic_annotations.groupby('_unit_id')['toxic'].mean() >= 0.5}).\\\n",
    "            reset_index()"
   ]
  },
  {
   "cell_type": "code",
   "execution_count": 111,
   "metadata": {},
   "outputs": [
    {
     "name": "stdout",
     "output_type": "stream",
     "text": [
      "0.24272588055130168\n"
     ]
    }
   ],
   "source": [
    "print(len(toxic_comments[toxic_comments['toxic'] == True]) / len(toxic_comments))"
   ]
  },
  {
   "cell_type": "markdown",
   "metadata": {},
   "source": [
    "# JOB 1"
   ]
  },
  {
   "cell_type": "code",
   "execution_count": 9,
   "metadata": {
    "collapsed": true
   },
   "outputs": [],
   "source": [
    "filename = '/scratch/wiki_dumps/annotated/job1_%s.csv'%job_suffix\n",
    "#'/scratch/wiki_dumps/annotated/job1_%s.csv'%('fix')\n",
    "with open(filename) as f:\n",
    "     df = pd.read_csv(f, encoding = 'utf-8', index_col=None, quoting=csv.QUOTE_ALL)\n",
    "\n",
    "toxicity = df[df['toxic'] >= 0]\n",
    "toxic_before = pd.DataFrame({'toxic_before': toxicity.groupby('_unit_id')['toxic'].mean() >= 0.5}).\\\n",
    "            reset_index()\n",
    "toxic_before = toxic_before[toxic_before['toxic_before'] == True]['_unit_id'].values.tolist()\n",
    "_excluded = list(set(non_readable_or_not_sure(df) + toxic_before))\n",
    "annotated = set(get_ids(df['conversations']))\n",
    "excluded_1 = set(get_ids(df[df['_unit_id'].isin(_excluded)]['conversations']))\n",
    "\n",
    "annotations = pd.DataFrame({'not_toxic': df[df['toxic'] == 0].groupby('_unit_id').size(), \\\n",
    "                              'toxic': df[df['toxic'] == 1].groupby('_unit_id').size(), \\\n",
    "                              'not_sure_toxic': df[df['toxic'] < 0].groupby('_unit_id').size(), \\\n",
    "                              'not_disagree':  df[df['disagreement'] == 0].groupby('_unit_id').size(), \\\n",
    "                              'disagree': df[df['disagreement'] == 1].groupby('_unit_id').size(), \\\n",
    "                              'not_sure_disagree': df[df['disagreement'] < 0].groupby('_unit_id').size(), \n",
    "                               'very_unlikey2toxic': df[df['lead_to_toxic'] == -2].groupby('_unit_id').size(), \\\n",
    "                              'unlikely2toxic': df[df['lead_to_toxic'] == -1].groupby('_unit_id').size(), \\\n",
    "                               'likely2toxic': df[df['lead_to_toxic'] == 1].groupby('_unit_id').size(), \\\n",
    "                               'very_likely2toxic': df[df['lead_to_toxic'] == 2].groupby('_unit_id').size(), \\\n",
    "                              'not_sure2toxic': df[np.isnan(df['lead_to_toxic'])].groupby('_unit_id').size(), \\\n",
    "                               'no_annotators': df.groupby('_unit_id').size(), \\\n",
    "                              'toxicity_score' : df[df['toxic'] > 0].groupby('_unit_id')['toxic'].mean(), \\\n",
    "                              'lead_to_toxic_score': df[~pd.isnull(df['lead_to_toxic'])].groupby('_unit_id')['lead_to_toxic'].mean(), \\\n",
    "                              'disagree_score' : df[df['disagreement'] > 0].groupby('_unit_id')['disagreement'].mean()}).reset_index()\n",
    "\n",
    "annotations = annotations.fillna(int(0))\n",
    "\n",
    "unit_ids = df[['_unit_id','conversations']].values.tolist()\n",
    "\n",
    "id_conv_mapping = {}\n",
    "for unit_id in unit_ids:\n",
    "    curid, conv = unit_id\n",
    "    id_conv_mapping[curid] = get_action_lst(conv)\n",
    "unit_ids = id_conv_mapping\n",
    "\n",
    "data = []\n",
    "appeared = {}\n",
    "for line in cleaned_data:\n",
    "    conv_id, clss, conversation = line\n",
    "    idlist = [k['id'] for k in conversation['action_feature']]\n",
    "    page_title = conversation['action_feature'][0]['page_title']\n",
    "    if clss:\n",
    "        matched_id = conversation['action_feature'][0]['bad_conversation_id']\n",
    "    else:\n",
    "        matched_id = conversation['action_feature'][0]['good_conversation_id']\n",
    "    for curid, conv in id_conv_mapping.items():\n",
    "        if conv in idlist and not(conv_id in appeared):\n",
    "            data.append({'_unit_id': curid, 'conv_id': conv_id, 'matched_id': matched_id, \\\n",
    "                         'class' : clss, 'page_title': page_title})\n",
    "            appeared[conv_id] = True\n",
    "\n",
    "conv_df = pd.DataFrame(data).set_index('_unit_id')\n",
    "conv_df = conv_df.join(annotations.set_index('_unit_id')).set_index('conv_id')"
   ]
  },
  {
   "cell_type": "code",
   "execution_count": 55,
   "metadata": {
    "collapsed": true
   },
   "outputs": [],
   "source": [
    "with open('/scratch/wiki_dumps/annotated/job1_ver1.csv', 'w') as f:\n",
    "     conv_df.to_csv(f, encoding = 'utf-8', quoting=csv.QUOTE_ALL)"
   ]
  },
  {
   "cell_type": "code",
   "execution_count": 57,
   "metadata": {
    "collapsed": true
   },
   "outputs": [],
   "source": [
    "with open('/scratch/wiki_dumps/annotated/job1_ver1.csv') as f:\n",
    "     conv_df_ver1 = pd.read_csv(f, encoding = 'utf-8', index_col=0,  quoting=csv.QUOTE_ALL)"
   ]
  },
  {
   "cell_type": "code",
   "execution_count": 58,
   "metadata": {},
   "outputs": [
    {
     "name": "stderr",
     "output_type": "stream",
     "text": [
      "/home/yiqing/miniconda3/lib/python3.6/site-packages/ipykernel/__main__.py:3: DeprecationWarning: \n",
      ".ix is deprecated. Please use\n",
      ".loc for label based indexing or\n",
      ".iloc for positional indexing\n",
      "\n",
      "See the documentation here:\n",
      "http://pandas.pydata.org/pandas-docs/stable/indexing.html#ix-indexer-is-deprecated\n",
      "  app.launch_new_instance()\n"
     ]
    }
   ],
   "source": [
    "fix = list(set(conv_df_ver1.index.values) - set(conv_df.index.values))\n",
    "\n",
    "conv_df_ver1 = conv_df_ver1.ix[fix]\n",
    "\n",
    "conv_df = pd.concat([conv_df_ver1, conv_df])"
   ]
  },
  {
   "cell_type": "code",
   "execution_count": 37,
   "metadata": {
    "collapsed": true
   },
   "outputs": [],
   "source": [
    "with open('to_annotate.json', 'w') as w:\n",
    "    json.dump(conv_df['conv_id'].values.tolist(), w)"
   ]
  },
  {
   "cell_type": "code",
   "execution_count": 38,
   "metadata": {
    "collapsed": true
   },
   "outputs": [],
   "source": [
    "# Each Conversation is annotated by 5~22 workers JOB1"
   ]
  },
  {
   "cell_type": "markdown",
   "metadata": {},
   "source": [
    "# JOB 2"
   ]
  },
  {
   "cell_type": "code",
   "execution_count": 20,
   "metadata": {
    "collapsed": true
   },
   "outputs": [],
   "source": [
    "filename ='/scratch/wiki_dumps/annotated/job2_%s.csv'%('fix') \n",
    "#'/scratch/wiki_dumps/annotated/job2_%s.csv'%('fix')\n",
    "with open(filename) as f:\n",
    "     df = pd.read_csv(f, encoding = 'utf-8', index_col=None, quoting=csv.QUOTE_ALL)\n",
    "\n",
    "#_excluded = list(set(non_readable_or_not_sure(df)))\n",
    "#excluded_2 = set(get_ids(df[df['_unit_id'].isin(_excluded)]['conversations']))\n",
    "#excluded = (excluded_1 | excluded_2)\n",
    "\n",
    "df['conv_id'] = df.apply(lambda x: list(json.loads(x['conversations']).keys())[0], axis=1)\n",
    "\n",
    "toxicity = df[df['toxic'] >= 0]\n",
    "toxic = pd.DataFrame({'toxic': toxicity.groupby('_unit_id')['toxic'].mean() >= 0.5}).reset_index()\n",
    "bad_convs = toxic[toxic['toxic'] == True]['_unit_id'].values.tolist()\n",
    "bad_conversations = set(get_ids(df[df['_unit_id'].isin(bad_convs)]['conversations']))\n",
    "\n",
    "df['disagrees'] = df.apply(lambda x: 0 if pd.isnull(x['disagreement']) else 1, axis=1)\n",
    "\n",
    "annotations = pd.DataFrame({'not_toxic_job2': df[df['toxic'] == 0].groupby('_unit_id').size(), \\\n",
    "                            'toxic_job2': df[df['toxic'] == 1].groupby('_unit_id').size(), \\\n",
    "                            'not_sure_toxic_job2': df[df['toxic'] < 0].groupby('_unit_id').size(), \\\n",
    "                            'not_disagree_job2':  df[df['disagrees'] == 0].groupby('_unit_id').size(), \\\n",
    "                            'disagree_job2': df[df['disagrees'] == 1].groupby('_unit_id').size(), \\\n",
    "                            'no_annotators_job2': df.groupby('_unit_id').size()}).reset_index()\n",
    "\n",
    "unit_ids = df[['_unit_id','conversations']].values.tolist()\n",
    "\n",
    "id_conv_mapping = {}\n",
    "for unit_id in unit_ids:\n",
    "    curid, conv = unit_id\n",
    "    id_conv_mapping[curid] = get_action_lst(conv)\n",
    "unit_ids = id_conv_mapping\n",
    "\n",
    "data = []\n",
    "appeared = {}\n",
    "for line in cleaned_data:\n",
    "    conv_id, clss, conversation = line\n",
    "    idlist = [k['id'] for k in conversation['action_feature']]\n",
    "    for curid, conv in id_conv_mapping.items():\n",
    "        if conv in idlist and not(conv_id in appeared):\n",
    "            data.append({'_unit_id': curid, 'conv_id': conv_id})\n",
    "            appeared[conv_id] = True\n",
    "\n",
    "after_conv_df = pd.DataFrame(data).set_index('_unit_id')\n",
    "\n",
    "after_conv_df = after_conv_df.join(annotations.set_index('_unit_id')).set_index('conv_id')"
   ]
  },
  {
   "cell_type": "code",
   "execution_count": 11,
   "metadata": {
    "collapsed": true
   },
   "outputs": [],
   "source": [
    "with open('/scratch/wiki_dumps/annotated/job2_ver1.csv', 'w') as f:\n",
    "     after_conv_df.to_csv(f, encoding = 'utf-8', quoting=csv.QUOTE_ALL)"
   ]
  },
  {
   "cell_type": "code",
   "execution_count": 15,
   "metadata": {
    "collapsed": true
   },
   "outputs": [],
   "source": [
    "with open('/scratch/wiki_dumps/annotated/job2_ver1.csv') as f:\n",
    "     after_conv_df_ver1 = pd.read_csv(f, encoding = 'utf-8', index_col=0, quoting=csv.QUOTE_ALL)"
   ]
  },
  {
   "cell_type": "code",
   "execution_count": 38,
   "metadata": {
    "collapsed": true
   },
   "outputs": [],
   "source": [
    "fix = list(set(after_conv_df_ver1.index.values) - set(after_conv_df.index.values))\n",
    "\n",
    "after_conv_df_ver1 = after_conv_df_ver1.ix[fix]\n",
    "\n",
    "after_conv_df = pd.concat([after_conv_df_ver1, after_conv_df])"
   ]
  },
  {
   "cell_type": "code",
   "execution_count": 34,
   "metadata": {
    "collapsed": true
   },
   "outputs": [],
   "source": [
    "conv_df = conv_df.join(after_conv_df)"
   ]
  },
  {
   "cell_type": "code",
   "execution_count": null,
   "metadata": {
    "collapsed": true
   },
   "outputs": [],
   "source": [
    "len(conv_df)"
   ]
  },
  {
   "cell_type": "markdown",
   "metadata": {},
   "source": [
    "# Not Paired Performance"
   ]
  },
  {
   "cell_type": "code",
   "execution_count": 35,
   "metadata": {},
   "outputs": [
    {
     "data": {
      "text/plain": [
       "Index(['class', 'conv_id', 'matched_id', 'page_title', 'disagree',\n",
       "       'disagree_score', 'lead_to_toxic_score', 'likely2toxic',\n",
       "       'no_annotators', 'not_disagree', 'not_sure2toxic', 'not_sure_disagree',\n",
       "       'not_sure_toxic', 'not_toxic', 'toxic', 'toxicity_score',\n",
       "       'unlikely2toxic', 'very_likely2toxic', 'very_unlikey2toxic',\n",
       "       'disagree_job2', 'no_annotators_job2', 'not_disagree_job2',\n",
       "       'not_sure_toxic_job2', 'not_toxic_job2', 'toxic_job2'],\n",
       "      dtype='object')"
      ]
     },
     "execution_count": 35,
     "metadata": {},
     "output_type": "execute_result"
    }
   ],
   "source": [
    "conv_df.columns"
   ]
  },
  {
   "cell_type": "code",
   "execution_count": 36,
   "metadata": {
    "collapsed": true
   },
   "outputs": [],
   "source": [
    "with open('/scratch/wiki_dumps/annotated/accuracy_ver1.csv', 'w') as f:\n",
    "     conv_df.to_csv(f, encoding = 'utf-8', index=None, quoting=csv.QUOTE_ALL)"
   ]
  },
  {
   "cell_type": "code",
   "execution_count": 116,
   "metadata": {
    "collapsed": true
   },
   "outputs": [],
   "source": [
    "conv_df['human_performance'] = conv_df.apply(lambda x: (x['very_likely2toxic'] * 2 + x['likely2toxic'] * 1 + \\\n",
    "                                            x['very_unlikey2toxic'] * -2 + x['unlikely2toxic'] * -1) / \\\n",
    "                                             (x['very_likely2toxic'] + x['likely2toxic'] + \\\n",
    "                                            x['very_unlikey2toxic'] + x['unlikely2toxic']), axis = 1)"
   ]
  },
  {
   "cell_type": "code",
   "execution_count": 74,
   "metadata": {
    "collapsed": true
   },
   "outputs": [],
   "source": [
    "conv_df['human_performance'] = conv_df.apply(lambda x: 1 if x['human_performance'] > 0 else 0, axis=1)"
   ]
  },
  {
   "cell_type": "code",
   "execution_count": 77,
   "metadata": {
    "collapsed": true
   },
   "outputs": [],
   "source": [
    "conv_df['human_performance'] = conv_df.apply(lambda x: x['human_performance'] == x['class'], axis=1)"
   ]
  },
  {
   "cell_type": "code",
   "execution_count": 83,
   "metadata": {},
   "outputs": [
    {
     "data": {
      "text/plain": [
       "(0.49644308943089432, 0.022095961595799594)"
      ]
     },
     "execution_count": 83,
     "metadata": {},
     "output_type": "execute_result"
    }
   ],
   "source": [
    "np.mean(conv_df['human_performance']), scipy.stats.sem(conv_df['human_performance'] * 1.96)"
   ]
  },
  {
   "cell_type": "markdown",
   "metadata": {},
   "source": [
    "# InterAnnotator Agreement"
   ]
  },
  {
   "cell_type": "code",
   "execution_count": 33,
   "metadata": {
    "collapsed": true
   },
   "outputs": [],
   "source": [
    "conv_df = after_conv_df.fillna(0)"
   ]
  },
  {
   "cell_type": "code",
   "execution_count": 34,
   "metadata": {
    "collapsed": true
   },
   "outputs": [],
   "source": [
    "conv_df['annotator_agreements'] = conv_df.apply(lambda x: x['not_toxic_job2']**2 + x['toxic_job2']**2 + x['not_sure_toxic_job2']**2, axis=1)"
   ]
  },
  {
   "cell_type": "code",
   "execution_count": 35,
   "metadata": {
    "collapsed": true
   },
   "outputs": [],
   "source": [
    "conv_df['annoator_pairs'] = conv_df.apply(lambda x: (x['not_toxic_job2'] + x['toxic_job2'] + x['not_sure_toxic_job2'])**2, axis=1)"
   ]
  },
  {
   "cell_type": "code",
   "execution_count": 36,
   "metadata": {},
   "outputs": [
    {
     "data": {
      "text/plain": [
       "0.66272627792744387"
      ]
     },
     "execution_count": 36,
     "metadata": {},
     "output_type": "execute_result"
    }
   ],
   "source": [
    "sum(conv_df['annotator_agreements']) / sum(conv_df['annoator_pairs'])"
   ]
  },
  {
   "cell_type": "code",
   "execution_count": 38,
   "metadata": {
    "collapsed": true
   },
   "outputs": [],
   "source": [
    "conv_df['agreemnt_b'] = conv_df.apply(lambda x: x['annotator_agreements'] / x['annoator_pairs'] , axis = 1)"
   ]
  },
  {
   "cell_type": "code",
   "execution_count": 40,
   "metadata": {},
   "outputs": [
    {
     "name": "stdout",
     "output_type": "stream",
     "text": [
      "0.758752183392\n"
     ]
    }
   ],
   "source": [
    "print(np.mean(conv_df['agreemnt_b']))"
   ]
  },
  {
   "cell_type": "markdown",
   "metadata": {},
   "source": [
    "# Filter out data with Annotations"
   ]
  },
  {
   "cell_type": "code",
   "execution_count": 26,
   "metadata": {
    "collapsed": true
   },
   "outputs": [],
   "source": [
    "conv_df = conv_df.join(after_conv_df)"
   ]
  },
  {
   "cell_type": "code",
   "execution_count": 27,
   "metadata": {
    "collapsed": true
   },
   "outputs": [],
   "source": [
    "conv_df = conv_df.fillna(int(0))"
   ]
  },
  {
   "cell_type": "code",
   "execution_count": 28,
   "metadata": {
    "collapsed": true
   },
   "outputs": [],
   "source": [
    "df['has_disagreement'] = ~(pd.isnull(df['disagreement']))\n",
    "disagreement = pd.DataFrame({'disagreement': df.groupby('_unit_id')['has_disagreement'].mean() >= 0.5}).reset_index()\n",
    "disagree_convs = disagreement[disagreement['disagreement'] == True]['_unit_id'].values.tolist()\n",
    "disagree_conversations = set(get_ids(df[df['_unit_id'].isin(disagree_convs)]['conversations']))"
   ]
  },
  {
   "cell_type": "code",
   "execution_count": 29,
   "metadata": {
    "collapsed": true
   },
   "outputs": [],
   "source": [
    "bad_and_disagree = (bad_conversations & disagree_conversations - excluded)\n",
    "good_and_disagree = (disagree_conversations - bad_conversations - excluded)"
   ]
  },
  {
   "cell_type": "code",
   "execution_count": 27,
   "metadata": {},
   "outputs": [
    {
     "data": {
      "text/plain": [
       "33374"
      ]
     },
     "execution_count": 27,
     "metadata": {},
     "output_type": "execute_result"
    }
   ],
   "source": [
    "len(cleaned_data)"
   ]
  },
  {
   "cell_type": "code",
   "execution_count": 28,
   "metadata": {
    "collapsed": true
   },
   "outputs": [],
   "source": [
    "data = []\n",
    "bad_disagree = []\n",
    "good_disagree = []\n",
    "xs = []\n",
    "total_bad = 0\n",
    "total_good = 0\n",
    "for line in cleaned_data:\n",
    "    conv_id, clss, conversation = line\n",
    "    idlist = [k['id'] for k in conversation['action_feature']]\n",
    "    is_annotated = not(annotated.isdisjoint(idlist))\n",
    "    is_excluded = not(excluded.isdisjoint(idlist))\n",
    "    is_bd = not(bad_and_disagree.isdisjoint(idlist))\n",
    "    is_gd = not(good_and_disagree.isdisjoint(idlist))\n",
    "    annotated_class = bad_conversations.isdisjoint(idlist)\n",
    "    same_class = (int(annotated_class) == clss)\n",
    "    if 'good_conversation_id' in conversation['action_feature'][0]:\n",
    "        matched_id = conversation['action_feature'][0]['good_conversation_id']\n",
    "    else:\n",
    "        matched_id = conversation['action_feature'][0]['bad_conversation_id']\n",
    "    dt = {'conversation_id': conv_id, 'annotated': is_annotated, 'excluded': is_excluded, \\\n",
    "        'annotated_class': annotated_class, 'class': clss, 'matched_id': matched_id, 'same_class': same_class}\n",
    "    if is_bd and not(is_excluded) and is_annotated:\n",
    "        bad_disagree.append(dt)\n",
    "    if is_gd and not(is_excluded):\n",
    "        good_disagree.append(dt)\n",
    "    if annotated_class:\n",
    "        total_good += 1\n",
    "    else:total_bad += 1\n",
    "    data.append(dt)"
   ]
  },
  {
   "cell_type": "code",
   "execution_count": 29,
   "metadata": {},
   "outputs": [
    {
     "name": "stdout",
     "output_type": "stream",
     "text": [
      "Number of bad conversations with disagreement : 2525\n",
      "Total Number of bad conversations: 10539\n",
      "Number of good conversations with disagreement : 266\n",
      "Total Number of bad conversations: 22835\n",
      "Good conversations with disagreement / good conversations: 0.011648784760236479\n",
      "Bad conversations with disagreement / bad conversations: 0.2395862985102951\n",
      "Bad conversations with disagreement / all conversations with disagreement 0.9046936581870297\n",
      "Number of bad conversations / all conversations: 0.3157847426140109\n"
     ]
    }
   ],
   "source": [
    "bad_but_disagree = pd.DataFrame(bad_disagree)\n",
    "good_but_disagree = pd.DataFrame(good_disagree)\n",
    "print('Number of bad conversations with disagreement :', len(bad_but_disagree))\n",
    "print('Total Number of bad conversations:', total_bad)\n",
    "print('Number of good conversations with disagreement :', len(good_but_disagree))\n",
    "print('Total Number of bad conversations:', total_good)\n",
    "print('Good conversations with disagreement / good conversations:', len(good_but_disagree) / total_good)\n",
    "print('Bad conversations with disagreement / bad conversations:', len(bad_but_disagree) / total_bad)\n",
    "print('Bad conversations with disagreement / all conversations with disagreement', len(bad_but_disagree) / (len(good_but_disagree) + len(bad_but_disagree)))\n",
    "print('Number of bad conversations / all conversations:', total_bad/(total_bad+total_good))"
   ]
  },
  {
   "cell_type": "code",
   "execution_count": 30,
   "metadata": {},
   "outputs": [
    {
     "data": {
      "text/plain": [
       "847"
      ]
     },
     "execution_count": 30,
     "metadata": {},
     "output_type": "execute_result"
    }
   ],
   "source": [
    "3744 - 2897"
   ]
  },
  {
   "cell_type": "code",
   "execution_count": 31,
   "metadata": {},
   "outputs": [
    {
     "name": "stdout",
     "output_type": "stream",
     "text": [
      "Number of Conversations Annotated: 31477\n",
      "Number of Conversations Excluded: 523\n",
      "Number of Conversations left: 19128\n"
     ]
    }
   ],
   "source": [
    "annotation_aggregated = pd.DataFrame(data)\n",
    "print('Number of Conversations Annotated:', len(annotation_aggregated[annotation_aggregated['annotated'] == True]))\n",
    "print('Number of Conversations Excluded:', len(annotation_aggregated[annotation_aggregated['excluded'] == True]))\n",
    "annotation_aggregated = annotation_aggregated[(annotation_aggregated['annotated'] == True)\\\n",
    "                                              & (annotation_aggregated['excluded'] == False)\\\n",
    "                                              & (annotation_aggregated['same_class'] == True)]\n",
    "left_ids = annotation_aggregated['conversation_id'].values.tolist()\n",
    "annotation_aggregated = annotation_aggregated[annotation_aggregated['matched_id'].isin(left_ids)]\n",
    "print('Number of Conversations left:', len(annotation_aggregated))"
   ]
  },
  {
   "cell_type": "code",
   "execution_count": 32,
   "metadata": {
    "collapsed": true
   },
   "outputs": [],
   "source": [
    "verified_pairs = annotation_aggregated['conversation_id'].values.tolist()\n",
    "conv_df = conv_df.loc[verified_pairs]"
   ]
  },
  {
   "cell_type": "code",
   "execution_count": 30,
   "metadata": {},
   "outputs": [
    {
     "data": {
      "text/plain": [
       "2066"
      ]
     },
     "execution_count": 30,
     "metadata": {},
     "output_type": "execute_result"
    }
   ],
   "source": [
    "len(conv_df)"
   ]
  },
  {
   "cell_type": "code",
   "execution_count": 87,
   "metadata": {},
   "outputs": [
    {
     "data": {
      "text/plain": [
       "293"
      ]
     },
     "execution_count": 87,
     "metadata": {},
     "output_type": "execute_result"
    }
   ],
   "source": [
    "len(conv_df[(conv_df['class'] == 0) & (conv_df['disagree_job2'] > conv_df['not_disagree_job2'])])"
   ]
  },
  {
   "cell_type": "code",
   "execution_count": 92,
   "metadata": {},
   "outputs": [
    {
     "data": {
      "text/plain": [
       "0.2836398838334947"
      ]
     },
     "execution_count": 92,
     "metadata": {},
     "output_type": "execute_result"
    }
   ],
   "source": [
    "len(conv_df[(conv_df['class'] == 0) & (conv_df['disagree_job2'] > conv_df['not_disagree_job2'])]) / len(conv_df[conv_df['class'] == 1])"
   ]
  },
  {
   "cell_type": "code",
   "execution_count": 101,
   "metadata": {},
   "outputs": [
    {
     "data": {
      "text/plain": [
       "Index(['class', 'conv_id', 'matched_id', 'disagree', 'disagree_score',\n",
       "       'lead_to_toxic_score', 'likely2toxic', 'no_annotators', 'not_disagree',\n",
       "       'not_sure2toxic', 'not_sure_disagree', 'not_sure_toxic', 'not_toxic',\n",
       "       'toxic', 'toxicity_score', 'unlikely2toxic', 'very_likely2toxic',\n",
       "       'very_unlikey2toxic'],\n",
       "      dtype='object')"
      ]
     },
     "execution_count": 101,
     "metadata": {},
     "output_type": "execute_result"
    }
   ],
   "source": [
    "conv_df.columns"
   ]
  },
  {
   "cell_type": "markdown",
   "metadata": {},
   "source": [
    "# Artificial Pairing"
   ]
  },
  {
   "cell_type": "code",
   "execution_count": 117,
   "metadata": {
    "collapsed": true
   },
   "outputs": [],
   "source": [
    "for var in ['toxicity', 'disagree', 'lead_to_toxic']:\n",
    "    conv_df['%s_equals'%(var)] = conv_df.apply(lambda x: 1 if conv_df.loc[x['matched_id']]['%s_score'%(var)] == x['%s_score'%(var)] else 0, axis=1)\n",
    "    conv_df['%s_annotation'%(var)] = conv_df.apply(lambda x: 1 if conv_df.loc[x['matched_id']]['%s_score'%(var)] > x['%s_score'%(var)] else 0, axis=1)"
   ]
  },
  {
   "cell_type": "code",
   "execution_count": 121,
   "metadata": {},
   "outputs": [
    {
     "name": "stdout",
     "output_type": "stream",
     "text": [
      "toxicity accuracy : 0.5614837398373984\n",
      "toxicity CI: 0.0219288236078\n",
      "toxicity number of equals: 1134\n",
      "toxicity accuracy without equals: 0.645083932853717\n",
      "\n",
      "\n",
      "disagree accuracy : 0.5071138211382114\n",
      "disagree CI: 0.0220942841499\n",
      "disagree number of equals: 1696\n",
      "disagree accuracy without equals: 0.5514705882352942\n",
      "\n",
      "\n",
      "lead_to_toxic accuracy : 0.5645325203252033\n",
      "lead_to_toxic CI: 0.0219117083001\n",
      "lead_to_toxic number of equals: 78\n",
      "lead_to_toxic accuracy without equals: 0.5671957671957671\n",
      "\n",
      "\n"
     ]
    }
   ],
   "source": [
    "for var in ['toxicity', 'disagree', 'lead_to_toxic']:\n",
    "    print(var + ' accuracy :', len(conv_df[conv_df['%s_annotation'%(var)] == conv_df['class']]) / len(conv_df))\n",
    "    conv_df[var + ' performance'] = conv_df.apply(lambda x: int(x['%s_annotation'%(var)] == x['class']), axis=1)\n",
    "    print(var + ' CI:', scipy.stats.sem(conv_df[var + ' performance']) * 1.96)\n",
    "    tmp_df = conv_df[conv_df['%s_equals'%var] == 0]\n",
    "    print(var + ' number of equals:', len(conv_df) - len(tmp_df))\n",
    "    print(var + ' accuracy without equals:', len(tmp_df[tmp_df['%s_annotation'%(var)] == tmp_df['class']]) \\\n",
    "        / len(tmp_df))\n",
    "    print('\\n')"
   ]
  },
  {
   "cell_type": "code",
   "execution_count": 29,
   "metadata": {
    "scrolled": true
   },
   "outputs": [
    {
     "name": "stderr",
     "output_type": "stream",
     "text": [
      "/home/yiqing/miniconda3/lib/python3.6/site-packages/ipykernel/__main__.py:3: SettingWithCopyWarning: \n",
      "A value is trying to be set on a copy of a slice from a DataFrame.\n",
      "Try using .loc[row_indexer,col_indexer] = value instead\n",
      "\n",
      "See the caveats in the documentation: http://pandas.pydata.org/pandas-docs/stable/indexing.html#indexing-view-versus-copy\n",
      "  app.launch_new_instance()\n"
     ]
    },
    {
     "data": {
      "image/png": "[encoded data removed]",
      "text/plain": [
       "<matplotlib.figure.Figure at 0x7f7018703860>"
      ]
     },
     "metadata": {},
     "output_type": "display_data"
    },
    {
     "name": "stdout",
     "output_type": "stream",
     "text": [
      "0.0260004706923 0.0308239342418 WilcoxonResult(statistic=2823803.5, pvalue=1.3344412408900053e-05)\n",
      "Bad - Good < 0 1662\n",
      "Bad - Good > 0 1849\n",
      "Bad - Good == 0 4875\n"
     ]
    },
    {
     "data": {
      "image/png": "[encoded data removed]",
      "text/plain": [
       "<matplotlib.figure.Figure at 0x7f6dfee54780>"
      ]
     },
     "metadata": {},
     "output_type": "display_data"
    },
    {
     "name": "stdout",
     "output_type": "stream",
     "text": [
      "0.220091616454 0.186359551232 WilcoxonResult(statistic=12613601.5, pvalue=1.8384250123401934e-45)\n",
      "Bad - Good < 0 4448\n",
      "Bad - Good > 0 3416\n",
      "Bad - Good == 0 522\n"
     ]
    },
    {
     "data": {
      "image/png": "[encoded data removed]",
      "text/plain": [
       "<matplotlib.figure.Figure at 0x7f700aa68b00>"
      ]
     },
     "metadata": {},
     "output_type": "display_data"
    },
    {
     "name": "stdout",
     "output_type": "stream",
     "text": [
      "-1.48789161861 -1.49012733199 WilcoxonResult(statistic=15306526.0, pvalue=0.42681049786510439)\n",
      "Bad - Good < 0 3954\n",
      "Bad - Good > 0 3911\n",
      "Bad - Good == 0 521\n"
     ]
    }
   ],
   "source": [
    "for var in ['toxicity', 'disagree', 'lead_to_toxic']:\n",
    "    all_good = conv_df[conv_df['class'] == 1]\n",
    "    all_good['%s_gap'%(var)] = all_good.apply(lambda x: conv_df.loc[x['matched_id']]['%s_score'%(var)] - x['%s_score'%(var)], axis=1)\n",
    "    plt.figure()\n",
    "    all_good['%s_gap'%(var)].plot.hist(alpha=0.5)\n",
    "    plt.xlabel('Bad - Good : human annotation on %s'%(var))\n",
    "    plt.show()\n",
    "    good = conv_df[conv_df['class'] == 1]['%s_score'%(var)].values.tolist()\n",
    "    bad = conv_df[conv_df['class'] == 0]['%s_score'%(var)].values.tolist()\n",
    "    print(np.mean(good), np.mean(bad), scipy.stats.wilcoxon(good, bad))\n",
    "    print('Bad - Good < 0', len(all_good[all_good['%s_gap'%(var)] < 0]))\n",
    "    print('Bad - Good > 0', len(all_good[all_good['%s_gap'%(var)] > 0]))\n",
    "    print('Bad - Good == 0', len(all_good[all_good['%s_gap'%(var)] == 0]))"
   ]
  },
  {
   "cell_type": "code",
   "execution_count": 33,
   "metadata": {
    "collapsed": true
   },
   "outputs": [],
   "source": [
    "test = {}\n",
    "with open('/scratch/wiki_dumps/expr_with_matching/%s/data/baks/never_seen.json'%(constraint)) as f:\n",
    "    for line in f:\n",
    "        conv_id, clss, conversation = json.loads(line)\n",
    "        test[conv_id] = True"
   ]
  },
  {
   "cell_type": "code",
   "execution_count": 107,
   "metadata": {
    "collapsed": true
   },
   "outputs": [],
   "source": [
    "trainlst = []\n",
    "with open('/scratch/wiki_dumps/expr_with_matching/%s/data/train_cleaned_verified.json'%(constraint)) as w:\n",
    "    for line in w:\n",
    "        conv_id, clss, conversation = json.loads(line)\n",
    "        trainlst.append(conv_id)"
   ]
  },
  {
   "cell_type": "code",
   "execution_count": 109,
   "metadata": {
    "collapsed": true
   },
   "outputs": [],
   "source": [
    "conv_df = conv_df.loc[trainlst]"
   ]
  },
  {
   "cell_type": "code",
   "execution_count": 34,
   "metadata": {},
   "outputs": [
    {
     "name": "stdout",
     "output_type": "stream",
     "text": [
      "16880\n"
     ]
    }
   ],
   "source": [
    "left = []\n",
    "with open('/scratch/wiki_dumps/expr_with_matching/%s/data/test_verified.json'%(constraint), 'w') as w:\n",
    "    for conv in cleaned_data:\n",
    "        conv_id, clss, conversation = conv\n",
    "        if not(conv_id in verified_pairs):\n",
    "            continue\n",
    "        if not(conv_id in test):\n",
    "            left.append(conv)\n",
    "        else:\n",
    "            w.write(json.dumps(conv) + '\\n')\n",
    "print(len(left))\n",
    "with open('/scratch/wiki_dumps/expr_with_matching/%s/data/train_verified.json'%(constraint), 'w') as w:\n",
    "    for conv in left:\n",
    "        w.write(json.dumps(conv) + '\\n')"
   ]
  },
  {
   "cell_type": "markdown",
   "metadata": {},
   "source": [
    "# Classifier using human features"
   ]
  },
  {
   "cell_type": "code",
   "execution_count": 10,
   "metadata": {},
   "outputs": [
    {
     "data": {
      "text/plain": [
       "Index(['class', 'matched_id', 'page_title', 'disagree', 'disagree_score',\n",
       "       'lead_to_toxic_score', 'likely2toxic', 'no_annotators', 'not_disagree',\n",
       "       'not_sure2toxic', 'not_sure_disagree', 'not_sure_toxic', 'not_toxic',\n",
       "       'toxic', 'toxicity_score', 'unlikely2toxic', 'very_likely2toxic',\n",
       "       'very_unlikey2toxic'],\n",
       "      dtype='object')"
      ]
     },
     "execution_count": 10,
     "metadata": {},
     "output_type": "execute_result"
    }
   ],
   "source": [
    "conv_df.columns"
   ]
  },
  {
   "cell_type": "code",
   "execution_count": 11,
   "metadata": {
    "collapsed": true
   },
   "outputs": [],
   "source": [
    "def documents2feature_vectors(human_features):\n",
    "    fks = False\n",
    "    X, y = [], []\n",
    "    cnt = 0\n",
    "    max_X = {}\n",
    "    print(human_features[0].keys())\n",
    "    matched_pairs = defaultdict(list)\n",
    "    for dic in human_features:\n",
    "        conversation = {}\n",
    "        matched_pairs[dic['page_title']].append(cnt)\n",
    "\n",
    "        for key in ['toxic', 'disagree']:\n",
    "            conversation['proportion_' + key] = dic[key] / dic['no_annotators']\n",
    "            conversation['proportion_not_sure_' + key] = dic['not_sure_'+key] / dic['no_annotators']\n",
    "            conversation['average_' + key] = dic[key] / (dic[key] + dic['not_' + key])\n",
    "        points = [1, 2, -1, -2]\n",
    "        \"\"\"\n",
    "        conversation['average_likelihood'] = 0\n",
    "        for ind, key in enumerate(['likely', 'very_likely', 'unlikely', 'very_unlikey']):\n",
    "            conversation['proportion_' + key] = dic[key + '2toxic'] / dic['no_annotators']\n",
    "            conversation['average_likelihood'] += dic[key+'2toxic'] *points[ind]\n",
    "        conversation['average_likelihood'] /= dic['no_annotators']\n",
    "        \"\"\"\n",
    "        clss = dic['class']\n",
    "        fs = conversation\n",
    "        if not fks:\n",
    "            fks = sorted(fs.keys())\n",
    "            for f in fks:\n",
    "                max_X[f] = fs[f]\n",
    "        fv = [fs[f] for f in fks]\n",
    "        for f in fks:\n",
    "            max_X[f] = max(max_X[f], fs[f])\n",
    "        if cnt % 1000 == 0:\n",
    "            print(cnt)\n",
    "        cnt += 1\n",
    "        X.append(fv)\n",
    "        y.append(clss)\n",
    "    for fv in X:\n",
    "        for ind, f in enumerate(fks):\n",
    "            if max_X[f] == 0: \n",
    "                continue\n",
    "            fv[ind] /= max_X[f]\n",
    "    X = csr_matrix(np.asarray(X))\n",
    "    y = np.asarray(y)\n",
    "    return X, y, fks, list(matched_pairs.values())"
   ]
  },
  {
   "cell_type": "code",
   "execution_count": 12,
   "metadata": {},
   "outputs": [
    {
     "name": "stdout",
     "output_type": "stream",
     "text": [
      "dict_keys(['class', 'matched_id', 'page_title', 'disagree', 'disagree_score', 'lead_to_toxic_score', 'likely2toxic', 'no_annotators', 'not_disagree', 'not_sure2toxic', 'not_sure_disagree', 'not_sure_toxic', 'not_toxic', 'toxic', 'toxicity_score', 'unlikely2toxic', 'very_likely2toxic', 'very_unlikey2toxic'])\n",
      "0\n"
     ]
    }
   ],
   "source": [
    "X, y, feature_names, matched_pairs = documents2feature_vectors(list(conv_df.T.to_dict().values()))"
   ]
  },
  {
   "cell_type": "code",
   "execution_count": 13,
   "metadata": {
    "collapsed": true
   },
   "outputs": [],
   "source": [
    "def train_svm(X, y, C_svm, matched_pairs):\n",
    "\n",
    "    # For good luck\n",
    "\n",
    "    print(\"Fitting\")\n",
    "    tuned_parameters = [#{'kernel': ['rbf'], 'gamma': [1e-3, 1e-4], 'C': [1, 10, 100, 1000]},\n",
    "                    {'C': [a * C_svm for a in [1, 2, 3, 5, 7, 8, 9]]}]\n",
    "    train_indices = []\n",
    "    test_indices = []\n",
    "    y_l = len(y)\n",
    "    for pair in matched_pairs:\n",
    "        train = []\n",
    "        test = []\n",
    "        for ind in range(y_l):\n",
    "            if ind in pair:\n",
    "                test.append(ind)\n",
    "            else:\n",
    "                train.append(ind)\n",
    "        train_indices.append(train)\n",
    "        test_indices.append(test)\n",
    "    print(len(train_indices), len(test_indices))\n",
    "   # print([len(t) for t in test_indices])\n",
    "    lpo = zip(train_indices, test_indices)\n",
    "    clf = GridSearchCV(svm.LinearSVC(), tuned_parameters, cv=lpo, scoring = 'accuracy')\n",
    "    clf.fit(X, y)\n",
    "    \n",
    " #   logreg = GridSearchCV(linear_model.LogisticRegression(), linear_tuned_parameters, cv=lpo, scoring= 'accuracy')\n",
    " #   logreg.fit(X, y)\n",
    "\n",
    "    print(\"Best parameters set found on development set:\")\n",
    "    print()\n",
    "    print(clf.best_estimator_)\n",
    "    print()\n",
    "    print(\"Grid scores on development set:\")\n",
    "    print()\n",
    "    cur = 0\n",
    "    best_scores = []\n",
    "    for params, mean_score, scores in clf.grid_scores_:\n",
    "        print(\"%0.3f for %r\"\n",
    "              % (mean_score, params), scipy.stats.sem(scores))\n",
    "        if mean_score > cur:\n",
    "            best_scores = scores\n",
    "            cur = mean_score\n",
    "    print(cur)\n",
    "    return best_scores\n",
    "    \n",
    " #   for params, mean_score, scores in logreg.grid_scores_:\n",
    " #       print(\"%0.3f (+/-%0.03f) for %r\"\n",
    " #             % (mean_score, scores.std() * 1.96, params))\n",
    "\n",
    "#    print(scores.mean())\n",
    "#    print scores"
   ]
  },
  {
   "cell_type": "code",
   "execution_count": 14,
   "metadata": {},
   "outputs": [
    {
     "name": "stdout",
     "output_type": "stream",
     "text": [
      "Fitting\n",
      "353 353\n",
      "Best parameters set found on development set:\n",
      "\n",
      "LinearSVC(C=0.005, class_weight=None, dual=True, fit_intercept=True,\n",
      "     intercept_scaling=1, loss='squared_hinge', max_iter=1000,\n",
      "     multi_class='ovr', penalty='l2', random_state=None, tol=0.0001,\n",
      "     verbose=0)\n",
      "\n",
      "Grid scores on development set:\n",
      "\n",
      "0.532 for {'C': 0.001} 0.0169128598058\n",
      "0.546 for {'C': 0.002} 0.0174638463356\n",
      "0.543 for {'C': 0.003} 0.0173891743396\n",
      "0.558 for {'C': 0.005} 0.0175924905164\n",
      "0.557 for {'C': 0.007} 0.0176267317678\n",
      "0.558 for {'C': 0.008} 0.0176753589309\n",
      "0.558 for {'C': 0.009000000000000001} 0.0176753589309\n",
      "0.557989690722\n"
     ]
    },
    {
     "name": "stderr",
     "output_type": "stream",
     "text": [
      "/home/yiqing/miniconda3/lib/python3.6/site-packages/sklearn/model_selection/_search.py:747: DeprecationWarning: The grid_scores_ attribute was deprecated in version 0.18 in favor of the more elaborate cv_results_ attribute. The grid_scores_ attribute will not be available from 0.20\n",
      "  DeprecationWarning)\n"
     ]
    }
   ],
   "source": [
    "human_p = train_svm(X, y, 0.001, matched_pairs)"
   ]
  },
  {
   "cell_type": "code",
   "execution_count": 15,
   "metadata": {
    "collapsed": true
   },
   "outputs": [],
   "source": [
    "with open('human_p.json', 'w') as f:\n",
    "    json.dump(list(human_p), f)"
   ]
  },
  {
   "cell_type": "code",
   "execution_count": 128,
   "metadata": {
    "collapsed": true
   },
   "outputs": [],
   "source": [
    "def plot_coefficients(classifier, feature_names, top_neg_features, top_pos_features):\n",
    "    coef = classifier.coef_.ravel()\n",
    "    print(coef)\n",
    "    top_positive_coefficients = np.argsort(coef)[-top_neg_features:]\n",
    "    top_negative_coefficients = np.argsort(coef)[:top_pos_features]\n",
    "    top_coefficients = np.hstack([top_negative_coefficients, top_positive_coefficients])\n",
    "    \n",
    "    # create plot\n",
    "    plt.figure(figsize=(15, 5))\n",
    "    colors = ['red' if c < 0 else 'blue' for c in coef[top_coefficients]]\n",
    "    plt.bar(np.arange((top_pos_features + top_neg_features)), coef[top_coefficients], color=colors, alpha=0.5)\n",
    "    names = np.array(feature_names)\n",
    "    plt.xticks(np.arange(0, (top_pos_features + top_neg_features)), names[top_coefficients], rotation=60, ha='right')\n",
    "    plt.title('Top Positive and Negative Features')\n",
    "    plt.show()\n",
    "    return list(names[top_positive_coefficients]), list(names[top_negative_coefficients])"
   ]
  },
  {
   "cell_type": "code",
   "execution_count": 135,
   "metadata": {},
   "outputs": [
    {
     "name": "stdout",
     "output_type": "stream",
     "text": [
      "[-0.06579943 -0.08426909 -0.09197855 -0.06094589 -0.05309516 -0.0290337\n",
      " -0.00674611 -0.09105681 -0.02602349 -0.02785159  0.00781402]\n"
     ]
    },
    {
     "data": {
      "image/png": "[encoded data removed]",
      "text/plain": [
       "<matplotlib.figure.Figure at 0x7fccd9cc1320>"
      ]
     },
     "metadata": {},
     "output_type": "display_data"
    }
   ],
   "source": [
    "classifier = linear_model.LogisticRegression(C=0.005)\n",
    "classifier.fit(X, y)\n",
    "top_pos, top_neg= plot_coefficients(classifier, feature_names, 10, 1)"
   ]
  },
  {
   "cell_type": "markdown",
   "metadata": {},
   "source": [
    "# Annotator Agreement"
   ]
  },
  {
   "cell_type": "code",
   "execution_count": 41,
   "metadata": {
    "collapsed": true
   },
   "outputs": [],
   "source": [
    "def add_row_to_coincidence(o, row, columns):\n",
    "    m_u = row.sum(1)\n",
    "    for i in columns:\n",
    "        for j in columns:\n",
    "            if i == j:\n",
    "                o[i][j] = o[i][j] + row[i]*(row[i]-1)/(m_u-1)\n",
    "            else:\n",
    "                o[i][j] = o[i][j] + row[i]*row[j]/(m_u-1)\n",
    "    return o\n",
    "\n",
    "def make_coincidence_matrix(df, columns):\n",
    "    df = df[columns]\n",
    "    n = df.shape[0]\n",
    "    num_cols = len(columns)\n",
    "    o = pd.DataFrame(np.zeros((num_cols,num_cols)), index = columns, columns=columns)\n",
    "    for i in range(n):\n",
    "        o = add_row_to_coincidence(o, df[i:i+1], columns)\n",
    "    return o\n",
    "\n",
    "def binary_distance(i,j):\n",
    "    return i!=j\n",
    "\n",
    "def interval_distance(i,j):\n",
    "    return (int(i)-int(j))**2\n",
    "\n",
    "def e(n, i, j):\n",
    "    if i == j:\n",
    "        return n[i]*(n[i]-1)/sum(n)-1\n",
    "    else:\n",
    "        return n[i]*n[j]/sum(n)-1\n",
    "\n",
    "def D_e(o, columns, distance):\n",
    "    n = o.sum(1)\n",
    "    output = 0\n",
    "    for i in columns:\n",
    "        for j in columns:\n",
    "            output = output + e(n,i,j)*distance(i,j)\n",
    "    return output\n",
    "\n",
    "def D_o(o, columns, distance):\n",
    "    output = 0\n",
    "    for i in columns:\n",
    "        for j in columns:\n",
    "            output = output + o[i][j]*distance(i,j)\n",
    "    return output\n",
    "\n",
    "def Krippendorf_alpha(df, columns, distance = binary_distance, o = None):\n",
    "    if o is None:\n",
    "        o = make_coincidence_matrix(df, columns)\n",
    "    d_o = D_o(o, columns, distance)\n",
    "    d_e = D_e(o, columns, distance)\n",
    "    return (1 - d_o/d_e)"
   ]
  },
  {
   "cell_type": "code",
   "execution_count": 51,
   "metadata": {},
   "outputs": [
    {
     "name": "stdout",
     "output_type": "stream",
     "text": [
      "0.2306910569105691\n",
      "All Annotator Agreement: Number of Examples : 1968, Kalpha : 0.360666\n",
      "5 Annotator Agreement: Number of Examples : 454, Kalpha : 0.651448\n",
      "20 Annotator Agreement: Number of Examples : 1189, Kalpha : 0.264007\n"
     ]
    }
   ],
   "source": [
    "TOXIC_COLUMNS = ['not_toxic_job2', 'toxic_job2','not_sure_toxic_job2']\n",
    "\n",
    "total = conv_df[['not_toxic_job2', 'toxic_job2','not_sure_toxic_job2']]\n",
    "total = total.fillna(int(0)).reset_index()\n",
    "total['sum'] = total['not_toxic_job2'] + total['toxic_job2'] + total['not_sure_toxic_job2']\n",
    "#total = total[total['sum'] ==20]\n",
    "\n",
    "print(len(total[total['sum'] == 5]) / len(total))\n",
    "\n",
    "#total = total[total['sum'] == 5]\n",
    "\n",
    "total['toxic_job2'] = total.apply(lambda x: int(x['toxic_job2']), axis=1)\n",
    "total[['sum']].plot.hist\n",
    "\n",
    "n,bins,batches = plt.hist(total['not_toxic_job2'])\n",
    "\n",
    "#print(len(total[total['not_toxic_job2'] > 20]) / len(total))\n",
    "\n",
    "#plt.show()\n",
    "\n",
    "#total = total[~(total['_unit_id'].isin(_excluded))]\n",
    "\n",
    "print('All Annotator Agreement: Number of Examples : %d, Kalpha : %f'%(len(total), Krippendorf_alpha(total, TOXIC_COLUMNS)))\n",
    "print('5 Annotator Agreement: Number of Examples : %d, Kalpha : %f'%(len(total[total['sum'] == 5]),  Krippendorf_alpha(total[total['sum'] == 5], TOXIC_COLUMNS)))\n",
    "print('20 Annotator Agreement: Number of Examples : %d, Kalpha : %f'%(len(total[total['sum'] == 20]), Krippendorf_alpha(total[total['sum'] == 20], TOXIC_COLUMNS)))\n"
   ]
  },
  {
   "cell_type": "code",
   "execution_count": 60,
   "metadata": {},
   "outputs": [
    {
     "name": "stdout",
     "output_type": "stream",
     "text": [
      "0.45351617284 0.00200466797891\n"
     ]
    }
   ],
   "source": [
    "TOXIC_COLUMNS = ['not_toxic_job2', 'toxic_job2','not_sure_toxic_job2']\n",
    "\n",
    "kalphas = []\n",
    "for ind in range(10):\n",
    "    total = conv_df[['not_toxic_job2', 'toxic_job2','not_sure_toxic_job2']]\n",
    "\n",
    "    new_total = []\n",
    "    for index, row in total.iterrows():\n",
    "        s = row['not_toxic_job2'] + row['toxic_job2'] + row['not_sure_toxic_job2']\n",
    "        if s > 5:\n",
    "            al = [0] * int(row['not_toxic_job2']) + [1] * int(row['toxic_job2']) + [2] * int(row['not_sure_toxic_job2'])\n",
    "            picked = random.sample(al, 5)\n",
    "            entries = ['not_toxic_job2', 'toxic_job2','not_sure_toxic_job2']\n",
    "            new_row = {'not_toxic_job2' : 0, 'toxic_job2': 0,'not_sure_toxic_job2': 0}\n",
    "            for r in picked:\n",
    "                new_row[entries[r]] += 1\n",
    "            new_total.append(new_row)\n",
    "        else:\n",
    "            new_total.append(row)\n",
    "    total = pd.DataFrame(new_total)    \n",
    "    total = total.fillna(int(0)).reset_index()\n",
    "    total['sum'] = total['not_toxic_job2'] + total['toxic_job2'] + total['not_sure_toxic_job2']\n",
    "    total['toxic_job2'] = total.apply(lambda x: int(x['toxic_job2']), axis=1)\n",
    "    total[['sum']].plot.hist\n",
    "    kalphas.append(Krippendorf_alpha(total, TOXIC_COLUMNS))\n",
    "print(np.mean(kalphas), scipy.stats.sem(kalphas))\n"
   ]
  },
  {
   "cell_type": "code",
   "execution_count": 164,
   "metadata": {},
   "outputs": [
    {
     "name": "stdout",
     "output_type": "stream",
     "text": [
      "2643 0.282819056548\n"
     ]
    }
   ],
   "source": [
    "TOXIC_COLUMNS = ['no_toxic', 'toxic']\n",
    "\n",
    "no_toxic = pd.DataFrame({'no_toxic': df[df['toxic'] == 0].groupby('_unit_id').size()}).reset_index().set_index('_unit_id')\n",
    "toxic = pd.DataFrame({'toxic': df[df['toxic'] == 1].groupby('_unit_id').size()}).reset_index().set_index('_unit_id')\n",
    "total = toxic.join(no_toxic, how='outer')\n",
    "total = total.fillna(0).reset_index()\n",
    "total['sum'] = total['toxic'] + total['no_toxic']\n",
    "total = total[total['sum'] ==20]"
   ]
  }
 ],
 "metadata": {
  "kernelspec": {
   "display_name": "Python [default]",
   "language": "python",
   "name": "python3"
  },
  "language_info": {
   "codemirror_mode": {
    "name": "ipython",
    "version": 3
   },
   "file_extension": ".py",
   "mimetype": "text/x-python",
   "name": "python",
   "nbconvert_exporter": "python",
   "pygments_lexer": "ipython3",
   "version": "3.6.1"
  }
 },
 "nbformat": 4,
 "nbformat_minor": 2
}
