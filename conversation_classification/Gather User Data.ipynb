{
 "cells": [
  {
   "cell_type": "code",
   "execution_count": 12,
   "metadata": {
    "collapsed": true
   },
   "outputs": [],
   "source": [
    "import json\n",
    "import pickle as cPickle\n",
    "import numpy as np\n",
    "from collections import defaultdict\n",
    "import os\n",
    "import csv\n",
    "import datetime\n",
    "import pandas as pd\n",
    "import requests"
   ]
  },
  {
   "cell_type": "code",
   "execution_count": 30,
   "metadata": {
    "collapsed": true
   },
   "outputs": [],
   "source": [
    "def load_data(page):\n",
    "    apilink = 'https://en.wikipedia.org/w/api.php'\n",
    "\n",
    "    #?action=query&list=users&format=json'\n",
    "    response = requests.get(apilink, \n",
    "              params={'action': 'query', 'titles': page, 'prop': 'info', 'inprop': 'subjectid', 'format':'json'}) \n",
    "   # print(response.json())\n",
    "    data = response.json()\n",
    "    tmp = data['query']['pages']\n",
    "    if 'subjectid' in tmp[list(tmp.keys())[0]]:\n",
    "        return tmp[list(tmp.keys())[0]]['subjectid']\n",
    "    else:\n",
    "        return -1"
   ]
  },
  {
   "cell_type": "code",
   "execution_count": null,
   "metadata": {
    "collapsed": true
   },
   "outputs": [],
   "source": [
    "#api.php?action=query&titles=Albert%20Einstein&prop=info&intestactions=edit|delete|rollback&formatversion=2"
   ]
  },
  {
   "cell_type": "code",
   "execution_count": 6,
   "metadata": {
    "collapsed": true
   },
   "outputs": [],
   "source": [
    "constraints = ['delta2_no_users', 'delta2_no_users_attacker_in_conv']"
   ]
  },
  {
   "cell_type": "code",
   "execution_count": 7,
   "metadata": {
    "collapsed": true
   },
   "outputs": [],
   "source": [
    "users = defaultdict(list)"
   ]
  },
  {
   "cell_type": "code",
   "execution_count": 8,
   "metadata": {
    "collapsed": true
   },
   "outputs": [],
   "source": [
    "for constraint in constraints:\n",
    "    with open('/scratch/wiki_dumps/expr_with_matching/%s/data/all.json'%(constraint)) as f:\n",
    "        for line in f:\n",
    "            conv_id, clss, conversation = json.loads(line)\n",
    "            start_time = np.inf\n",
    "            for action in conversation['action_feature']:\n",
    "                start_time = max(start_time, action['timestamp_in_sec'])\n",
    "            for action in conversation['action_feature']:\n",
    "                if 'user_text' in action:\n",
    "                    users['user_text'].append(start_time)"
   ]
  },
  {
   "cell_type": "code",
   "execution_count": 9,
   "metadata": {
    "collapsed": true
   },
   "outputs": [],
   "source": [
    "with open('/scratch/wiki_dumps/user_data/user_timestamp_pair.json', 'w') as w:\n",
    "    json.dump(users,w)"
   ]
  },
  {
   "cell_type": "code",
   "execution_count": 31,
   "metadata": {},
   "outputs": [],
   "source": [
    "pages = {}\n",
    "for constraint in constraints:\n",
    "    with open('/scratch/wiki_dumps/expr_with_matching/%s/data/all.json'%(constraint)) as f:\n",
    "        for line in f:\n",
    "            conv_id, clss, conversation = json.loads(line)\n",
    "            page = conversation['action_feature'][0]['page_title']\n",
    "            pages[page] = load_data(page)"
   ]
  },
  {
   "cell_type": "code",
   "execution_count": null,
   "metadata": {
    "collapsed": true
   },
   "outputs": [],
   "source": [
    "with open('/scratch/wiki_dumps/user_data/user_timestamp_pair.json', 'w') as w:\n",
    "    json.dump(users,w)"
   ]
  },
  {
   "cell_type": "code",
   "execution_count": null,
   "metadata": {
    "collapsed": true
   },
   "outputs": [],
   "source": [
    "def get_activity_cnt(ns, year):\n",
    "\n",
    "    users = set([])\n",
    "    os.system('tar -xzf /scratch/wiki_dumps/wikipedia_talk_corpus/comments_%s_%d.tar.gz' % (ns, year))\n",
    "    data_dir = \"comments_%s_%d\" % (ns, year)\n",
    "    activity_dict = {}\n",
    "    for month in range(1, 13):\n",
    "        activity_dict[month] = []\n",
    "    total = []\n",
    "    for _, _, filenames in os.walk(data_dir):\n",
    "        for filename in filenames:\n",
    "            if re.match(\"chunk_\\d*.tsv\", filename):\n",
    "                df = pd.read_csv(os.path.join(data_dir, filename), sep = \"\\t\")\n",
    "                df = df[df['user_text'].isin(usrlst)]\n",
    "                total.append(df)\n",
    "    ret = pd.concat(total)\n",
    "    os.system('rm -r comments_%s_%d' % (ns, year))\n",
    "    return ret"
   ]
  },
  {
   "cell_type": "code",
   "execution_count": null,
   "metadata": {
    "collapsed": true
   },
   "outputs": [],
   "source": [
    "for year in range(2001, 2016):\n",
    "    activity = []\n",
    "    for ns in ['article', 'user']:\n",
    "        with gzip.open(\"../user_activity_monthly_count/activity_%s_%d.csv.gz\"%(ns, year)) as f:\n",
    "            activity.append(pd.read_csv(f, sep=\"\\t\"))\n",
    "        act = get_activity_cnt(ns, year)\n",
    "        with gzip.open(\"../user_activity_monthly_count/activity_%s_%d.csv.gz\"%(ns, year), \"wb\") as f:\n",
    "            act.to_csv(f, sep=\"\\t\", encoding='utf-8')\n",
    "        break\n"
   ]
  },
  {
   "cell_type": "code",
   "execution_count": 20,
   "metadata": {},
   "outputs": [
    {
     "name": "stdout",
     "output_type": "stream",
     "text": [
      "45773\n"
     ]
    }
   ],
   "source": [
    "users_of_interest = list(users.keys())\n",
    "print(len(users_of_interest))\n",
    "with open('/scratch/wiki_dumps/user_data.json', 'w') as w:\n",
    "    json.dump(users_of_interest,w)"
   ]
  },
  {
   "cell_type": "code",
   "execution_count": 1,
   "metadata": {
    "collapsed": true
   },
   "outputs": [],
   "source": [
    "# Article Activity Data\n",
    "# From Toktrack https://zenodo.org/record/345571#.WdwhSyErLCL\n",
    "# revisions.7z\n",
    "# gather_user_data.py"
   ]
  },
  {
   "cell_type": "code",
   "execution_count": 3,
   "metadata": {
    "collapsed": true
   },
   "outputs": [],
   "source": [
    "# Metadata\n",
    "with open('/scratch/wiki_dumps/user_data/metadata.json') as f:\n",
    "    usrdata = json.load(f)\n",
    "values = set([])\n",
    "for user, data in usrdata.items():\n",
    "    if 'groups' in data:\n",
    "        values = values | set(data['groups'])"
   ]
  },
  {
   "cell_type": "code",
   "execution_count": null,
   "metadata": {
    "collapsed": true
   },
   "outputs": [],
   "source": [
    "# Talk Page Activity Data\n",
    "# Only Considering insertion"
   ]
  }
 ],
 "metadata": {
  "kernelspec": {
   "display_name": "Python [default]",
   "language": "python",
   "name": "python3"
  },
  "language_info": {
   "codemirror_mode": {
    "name": "ipython",
    "version": 3
   },
   "file_extension": ".py",
   "mimetype": "text/x-python",
   "name": "python",
   "nbconvert_exporter": "python",
   "pygments_lexer": "ipython3",
   "version": "3.6.1"
  }
 },
 "nbformat": 4,
 "nbformat_minor": 2
}
