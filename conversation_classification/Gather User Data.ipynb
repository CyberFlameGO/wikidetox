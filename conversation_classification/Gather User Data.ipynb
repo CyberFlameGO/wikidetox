{
 "cells": [
  {
   "cell_type": "code",
   "execution_count": 2,
   "metadata": {
    "collapsed": true
   },
   "outputs": [],
   "source": [
    "import json\n",
    "import pickle as cPickle\n",
    "import numpy as np\n",
    "from collections import defaultdict\n",
    "import os\n",
    "import csv\n",
    "import datetime\n",
    "import pandas as pd"
   ]
  },
  {
   "cell_type": "code",
   "execution_count": 2,
   "metadata": {
    "collapsed": true
   },
   "outputs": [],
   "source": [
    "constraints = ['delta2_no_users', 'delta2_no_users_attacker_in_conv']"
   ]
  },
  {
   "cell_type": "code",
   "execution_count": 18,
   "metadata": {
    "collapsed": true
   },
   "outputs": [],
   "source": [
    "users = {}"
   ]
  },
  {
   "cell_type": "code",
   "execution_count": 19,
   "metadata": {
    "collapsed": true
   },
   "outputs": [],
   "source": [
    "for constraint in constraints:\n",
    "    with open('/scratch/wiki_dumps/expr_with_matching/%s/data/all.json'%(constraint)) as f:\n",
    "        for line in f:\n",
    "            conv_id, clss, conversation = json.loads(line)\n",
    "            for action in conversation['action_feature']:\n",
    "                if 'user_id' in action:\n",
    "                    users[action['user_id']] = []\n",
    "                else:\n",
    "                    if 'user_text' in action:\n",
    "                        users['0|'+action['user_text']] = []"
   ]
  },
  {
   "cell_type": "code",
   "execution_count": 20,
   "metadata": {},
   "outputs": [
    {
     "name": "stdout",
     "output_type": "stream",
     "text": [
      "45773\n"
     ]
    }
   ],
   "source": [
    "users_of_interest = list(users.keys())\n",
    "print(len(users_of_interest))\n",
    "with open('/scratch/wiki_dumps/user_data.json', 'w') as w:\n",
    "    json.dump(users_of_interest,w)"
   ]
  },
  {
   "cell_type": "code",
   "execution_count": 1,
   "metadata": {
    "collapsed": true
   },
   "outputs": [],
   "source": [
    "# Article Activity Data\n",
    "# From Toktrack https://zenodo.org/record/345571#.WdwhSyErLCL\n",
    "# revisions.7z\n",
    "# gather_user_data.py"
   ]
  },
  {
   "cell_type": "code",
   "execution_count": 3,
   "metadata": {
    "collapsed": true
   },
   "outputs": [],
   "source": [
    "# Metadata\n",
    "with open('/scratch/wiki_dumps/user_data/metadata.json') as f:\n",
    "    usrdata = json.load(f)\n",
    "values = set([])\n",
    "for user, data in usrdata.items():\n",
    "    if 'groups' in data:\n",
    "        values = values | set(data['groups'])"
   ]
  },
  {
   "cell_type": "code",
   "execution_count": null,
   "metadata": {
    "collapsed": true
   },
   "outputs": [],
   "source": [
    "# Talk Page Activity Data\n",
    "# Only Considering insertion"
   ]
  }
 ],
 "metadata": {
  "kernelspec": {
   "display_name": "Python [default]",
   "language": "python",
   "name": "python3"
  },
  "language_info": {
   "codemirror_mode": {
    "name": "ipython",
    "version": 3
   },
   "file_extension": ".py",
   "mimetype": "text/x-python",
   "name": "python",
   "nbconvert_exporter": "python",
   "pygments_lexer": "ipython3",
   "version": "3.6.1"
  }
 },
 "nbformat": 4,
 "nbformat_minor": 2
}
