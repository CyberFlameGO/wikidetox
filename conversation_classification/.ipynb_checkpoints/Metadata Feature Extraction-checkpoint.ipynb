{
 "cells": [
  {
   "cell_type": "code",
   "execution_count": 1,
   "metadata": {
    "collapsed": true
   },
   "outputs": [],
   "source": [
    "import json\n",
    "import pandas as pd\n",
    "import numpy as np\n",
    "import datetime\n",
    "import os"
   ]
  },
  {
   "cell_type": "code",
   "execution_count": 2,
   "metadata": {
    "collapsed": true
   },
   "outputs": [],
   "source": [
    "with open('/scratch/wiki_dumps/user_data/metadata.json') as f:\n",
    "     usrdata = json.load(f) "
   ]
  },
  {
   "cell_type": "code",
   "execution_count": 3,
   "metadata": {
    "collapsed": true
   },
   "outputs": [],
   "source": [
    "with open('/scratch/wiki_dumps/talk_page_article_link.json') as f:\n",
    "     subjectpage = json.load(f)"
   ]
  },
  {
   "cell_type": "code",
   "execution_count": 4,
   "metadata": {
    "collapsed": true
   },
   "outputs": [],
   "source": [
    "def timestamp_2_sec(timestamp):\n",
    "    return (datetime.datetime.strptime(timestamp, '%Y-%m-%dT%H:%M:%SZ') -datetime.datetime(1970,1,1)).total_seconds()"
   ]
  },
  {
   "cell_type": "code",
   "execution_count": 5,
   "metadata": {
    "collapsed": true
   },
   "outputs": [],
   "source": [
    "registration = {}\n",
    "groups = {}\n",
    "blocking = {}\n",
    "for user, data in usrdata.items():\n",
    "    if 'registration' in data and data['registration']:\n",
    "       registration[user] = timestamp_2_sec(data['registration'])\n",
    "    if 'groups' in data:\n",
    "       groups[user] = data['groups']\n",
    "    else:\n",
    "       groups[user] = []\n",
    "    if 'blockedtimestamp' in data:\n",
    "       blocking[user] = timestamp_2_sec(data['blockedtimestamp'])"
   ]
  },
  {
   "cell_type": "code",
   "execution_count": 6,
   "metadata": {},
   "outputs": [
    {
     "name": "stderr",
     "output_type": "stream",
     "text": [
      "/home/yiqing/miniconda3/lib/python3.6/site-packages/IPython/core/interactiveshell.py:2698: DtypeWarning: Columns (4) have mixed types. Specify dtype option on import or set low_memory=False.\n",
      "  interactivity=interactivity, compiler=compiler, result=result)\n"
     ]
    }
   ],
   "source": [
    "edits = []\n",
    "data_dir = \"/scratch/wiki_dumps/user_data/editing_data\"\n",
    "for _, _, filenames in os.walk(data_dir):\n",
    "    for filename in filenames:\n",
    "        df = pd.read_csv(os.path.join(data_dir, filename))\n",
    "        edits.append(df)\n",
    "edits = pd.concat(edits)"
   ]
  },
  {
   "cell_type": "code",
   "execution_count": 7,
   "metadata": {
    "collapsed": true
   },
   "outputs": [],
   "source": [
    "edits_bak = edits\n",
    "edits = edits.head(100)"
   ]
  },
  {
   "cell_type": "code",
   "execution_count": null,
   "metadata": {
    "collapsed": true
   },
   "outputs": [],
   "source": [
    "with open('/scratch/wiki_dumps/user_data/editing_data/all_edits.csv', 'w') as f:\n",
    "    edits_bak.to_csv(f)"
   ]
  },
  {
   "cell_type": "code",
   "execution_count": null,
   "metadata": {
    "collapsed": true
   },
   "outputs": [],
   "source": [
    "res = {}\n",
    "edits['timestamp'] = pd.to_datetime(edits['timestamp'])\n",
    "edits['year'] = edits['timestamp'].apply(lambda x: x.year)\n",
    "edits['month'] = edits['timestamp'].apply(lambda x: x.month)\n",
    "year, month_groups = edits.groupby(['year', 'month'])\n",
    "month_dict_edits = {}\n",
    "for ind, dfg in month_groups:\n",
    "    cur = dfg.groupby(['user', 'page_id']).size().to_frame().reset_index(name='count')\n",
    "    month_dict_edits[ind] = dfg\n",
    "    res[ind] = cur\n",
    "edits_months = pd.concat(res, axis=1)"
   ]
  },
  {
   "cell_type": "code",
   "execution_count": null,
   "metadata": {
    "collapsed": true
   },
   "outputs": [],
   "source": [
    "edits['timestamp'].head(10)"
   ]
  },
  {
   "cell_type": "code",
   "execution_count": null,
   "metadata": {
    "collapsed": true
   },
   "outputs": [],
   "source": [
    "edits['month'] = edits"
   ]
  },
  {
   "cell_type": "code",
   "execution_count": 8,
   "metadata": {
    "collapsed": true
   },
   "outputs": [],
   "source": [
    "talk_page = []\n",
    "for year in range(2001, 2016):\n",
    "    df = pd.read_csv('/scratch/wiki_dumps/user_data/talk_data/activity_article_%d.csv'%year, sep=\"\\t\")\n",
    "    talk_page.append(df)\n",
    "talk_page = pd.concat(talk_page)"
   ]
  },
  {
   "cell_type": "code",
   "execution_count": 11,
   "metadata": {
    "collapsed": true
   },
   "outputs": [],
   "source": [
    "talk_page['timestamp_in_sec'] = talk_page.apply(lambda x: timestamp_2_sec(x['timestamp']), axis=1)"
   ]
  },
  {
   "cell_type": "code",
   "execution_count": 14,
   "metadata": {},
   "outputs": [
    {
     "data": {
      "text/plain": [
       "60478"
      ]
     },
     "execution_count": 14,
     "metadata": {},
     "output_type": "execute_result"
    }
   ],
   "source": [
    "len(sub_edits)"
   ]
  },
  {
   "cell_type": "code",
   "execution_count": 15,
   "metadata": {},
   "outputs": [
    {
     "data": {
      "text/plain": [
       "2"
      ]
     },
     "execution_count": 15,
     "metadata": {},
     "output_type": "execute_result"
    }
   ],
   "source": [
    "len(ids)"
   ]
  },
  {
   "cell_type": "code",
   "execution_count": 17,
   "metadata": {},
   "outputs": [
    {
     "ename": "NameError",
     "evalue": "name 'sub_edits_same_page_cnts' is not defined",
     "output_type": "error",
     "traceback": [
      "\u001b[0;31m---------------------------------------------------------------------------\u001b[0m",
      "\u001b[0;31mNameError\u001b[0m                                 Traceback (most recent call last)",
      "\u001b[0;32m<ipython-input-17-f7c6bc8d299d>\u001b[0m in \u001b[0;36m<module>\u001b[0;34m()\u001b[0m\n\u001b[0;32m----> 1\u001b[0;31m \u001b[0msub_edits_same_page_cnts\u001b[0m\u001b[0;34m\u001b[0m\u001b[0m\n\u001b[0m",
      "\u001b[0;31mNameError\u001b[0m: name 'sub_edits_same_page_cnts' is not defined"
     ]
    }
   ],
   "source": [
    "constraints = ['delta2_no_users', 'delta2_no_users_attacker_in_conv']\n",
    "for constraint in constraints:\n",
    "    with open('/scratch/wiki_dumps/expr_with_matching/%s/data/all.json'%(constraint)) as f:\n",
    "        for line in f:\n",
    "            conv_id, clss, conversation = json.loads(line)\n",
    "            break"
   ]
  },
  {
   "cell_type": "code",
   "execution_count": null,
   "metadata": {
    "collapsed": true
   },
   "outputs": [],
   "source": [
    "users = []\n",
    "user_id = {}\n",
    "start_time = np.inf\n",
    "for action in conversation['action_feature']:\n",
    "    start_time = min(start_time, action['timestamp_in_sec'])\n",
    "    if 'user_text' in action:\n",
    "        users.append(action['user_text'])      \n",
    "    if 'user_id' in action:\n",
    "        user_id[action['user_text']] = action['user_id']\n",
    "    else:\n",
    "        user_id[action['user_text']] = '0|'+ action['user_text']\n",
    "    page_title = conversation['action_feature'][0]['page_title']\n",
    "    if page_title in subjectpage:  \n",
    "        p_id = subjectpage[page_title]            \n",
    "    else:\n",
    "        p_id = -1\n",
    "    user_features = {}\n",
    "    ids = list(user_id.values())\n",
    "    date = datetime.datetime.fromtimestamp(start_time)\n",
    "    year = date.year\n",
    "    month = date.month"
   ]
  },
  {
   "cell_type": "code",
   "execution_count": 13,
   "metadata": {},
   "outputs": [
    {
     "ename": "TypeError",
     "evalue": "reset_index() got an unexpected keyword argument 'name'",
     "output_type": "error",
     "traceback": [
      "\u001b[0;31m---------------------------------------------------------------------------\u001b[0m",
      "\u001b[0;31mTypeError\u001b[0m                                 Traceback (most recent call last)",
      "\u001b[0;32m<ipython-input-13-8162308e77f1>\u001b[0m in \u001b[0;36m<module>\u001b[0;34m()\u001b[0m\n\u001b[1;32m     24\u001b[0m             \u001b[0msub_edits\u001b[0m \u001b[0;34m=\u001b[0m \u001b[0medits\u001b[0m\u001b[0;34m[\u001b[0m\u001b[0medits\u001b[0m\u001b[0;34m[\u001b[0m\u001b[0;34m'user'\u001b[0m\u001b[0;34m]\u001b[0m\u001b[0;34m.\u001b[0m\u001b[0misin\u001b[0m\u001b[0;34m(\u001b[0m\u001b[0mids\u001b[0m\u001b[0;34m)\u001b[0m\u001b[0;34m]\u001b[0m\u001b[0;34m\u001b[0m\u001b[0m\n\u001b[1;32m     25\u001b[0m             \u001b[0msub_edits\u001b[0m \u001b[0;34m=\u001b[0m \u001b[0msub_edits\u001b[0m\u001b[0;34m[\u001b[0m\u001b[0msub_edits\u001b[0m\u001b[0;34m[\u001b[0m\u001b[0;34m'timestamp_in_sec'\u001b[0m\u001b[0;34m]\u001b[0m \u001b[0;34m<\u001b[0m \u001b[0mstart_time\u001b[0m\u001b[0;34m]\u001b[0m\u001b[0;34m\u001b[0m\u001b[0m\n\u001b[0;32m---> 26\u001b[0;31m             \u001b[0msub_edits_cnts\u001b[0m \u001b[0;34m=\u001b[0m \u001b[0msub_edits\u001b[0m\u001b[0;34m.\u001b[0m\u001b[0mgroupby\u001b[0m\u001b[0;34m(\u001b[0m\u001b[0;34m'user'\u001b[0m\u001b[0;34m)\u001b[0m\u001b[0;34m.\u001b[0m\u001b[0msize\u001b[0m\u001b[0;34m(\u001b[0m\u001b[0;34m)\u001b[0m\u001b[0;34m.\u001b[0m\u001b[0mreset_index\u001b[0m\u001b[0;34m(\u001b[0m\u001b[0;34m)\u001b[0m\u001b[0;34m.\u001b[0m\u001b[0mreset_index\u001b[0m\u001b[0;34m(\u001b[0m\u001b[0mname\u001b[0m\u001b[0;34m=\u001b[0m\u001b[0;34m'counts'\u001b[0m\u001b[0;34m)\u001b[0m\u001b[0;34m\u001b[0m\u001b[0m\n\u001b[0m\u001b[1;32m     27\u001b[0m             \u001b[0msub_edits\u001b[0m \u001b[0;34m=\u001b[0m \u001b[0msub_edits\u001b[0m\u001b[0;34m[\u001b[0m\u001b[0msub_edits\u001b[0m\u001b[0;34m[\u001b[0m\u001b[0;34m'page_id'\u001b[0m\u001b[0;34m]\u001b[0m \u001b[0;34m==\u001b[0m \u001b[0mp_id\u001b[0m\u001b[0;34m]\u001b[0m\u001b[0;34m\u001b[0m\u001b[0m\n\u001b[1;32m     28\u001b[0m             \u001b[0msub_edits_same_page_cnts\u001b[0m \u001b[0;34m=\u001b[0m \u001b[0msub_edits\u001b[0m\u001b[0;34m.\u001b[0m\u001b[0mgroupby\u001b[0m\u001b[0;34m(\u001b[0m\u001b[0;34m'user'\u001b[0m\u001b[0;34m)\u001b[0m\u001b[0;34m.\u001b[0m\u001b[0msize\u001b[0m\u001b[0;34m(\u001b[0m\u001b[0;34m)\u001b[0m\u001b[0;34m.\u001b[0m\u001b[0mreset_index\u001b[0m\u001b[0;34m(\u001b[0m\u001b[0;34m)\u001b[0m\u001b[0;34m.\u001b[0m\u001b[0mreset_index\u001b[0m\u001b[0;34m(\u001b[0m\u001b[0mname\u001b[0m\u001b[0;34m=\u001b[0m\u001b[0;34m'counts'\u001b[0m\u001b[0;34m)\u001b[0m\u001b[0;34m\u001b[0m\u001b[0m\n",
      "\u001b[0;31mTypeError\u001b[0m: reset_index() got an unexpected keyword argument 'name'"
     ]
    }
   ],
   "source": [
    "constraints = ['delta2_no_users', 'delta2_no_users_attacker_in_conv']\n",
    "for constraint in constraints:\n",
    "    with open('/scratch/wiki_dumps/expr_with_matching/%s/data/all.json'%(constraint)) as f:\n",
    "        for line in f:\n",
    "            conv_id, clss, conversation = json.loads(line)\n",
    "            users = []\n",
    "            user_id = {}\n",
    "            start_time = np.inf\n",
    "            for action in conversation['action_feature']:\n",
    "                start_time = min(start_time, action['timestamp_in_sec'])\n",
    "                if 'user_text' in action:\n",
    "                    users.append(action['user_text'])      \n",
    "                    if 'user_id' in action:\n",
    "                       user_id[action['user_text']] = action['user_id']\n",
    "                    else:\n",
    "                       user_id[action['user_text']] = '0|'+ action['user_text']\n",
    "            page_title = conversation['action_feature'][0]['page_title']\n",
    "            if page_title in subjectpage:  \n",
    "                p_id = subjectpage[page_title]            \n",
    "            else:\n",
    "                p_id = -1\n",
    "            user_features = {}\n",
    "            ids = list(user_id.values())\n",
    "            date = datetime.datetime.fromtimestamp(start_time)\n",
    "            year = date.year\n",
    "            month = date.month\n",
    "            edit_cnts = edits_months[edits_months['user'].isin(ids)]\n",
    "            edit_cnts = pd.concat([edit_cnts[(edit_cnts['year'] < year) & (edit_cnts['month'] <= month)],\\\n",
    "                                  edit_cnts[(edit_cnts['year'] == year) & (edit_cnts['month'] < month)]])\n",
    "            edit_cnts = edit_cnts.groupby(['user', 'page_id'])['count'].sum().reset_index('count')\n",
    "            cur_month_cnts = month_dict_edits[(year, month)]\n",
    "            cur_month_cnts = cur_month_cnts[cur_month_cnts['user'].isin(ids)]\n",
    "            cur_month_cnts = cur_month_cnts[cur_month_cnts['timestamp_in_sec'] < start_time]\n",
    "            cur_month_cnts = cur_month_cnts.groupby(['user', 'page_id']).size().reset_index(name='count')\n",
    "            edit_cnts = pd.concat([edit_cnts, cur_month_cnts])\n",
    "            edit_cnts = edit_cnts.groupby(['user', 'page_id'])['count'].sum().reset_index(name='count')\n",
    "            sub_edits_cnts = edit_cnts.groupby('user')['count'].sum().reset_index(name='counts')\n",
    "            edit_cnts = edit_cnts[edit_cnts['page_id'] == p_id]\n",
    "            sub_edits_same_page_cnts = edit_cnts.groupby('user').size().reset_index(name='counts')\n",
    "            break\n",
    "            \n",
    "            sub_edits = edits[edits['user'].isin(ids)]\n",
    "            sub_edits = sub_edits[sub_edits['timestamp_in_sec'] < start_time]\n",
    "            sub_edits_cnts = sub_edits.groupby('user').size().reset_index(name='counts')\n",
    "            sub_edits = sub_edits[sub_edits['page_id'] == p_id]\n",
    "            sub_edits_same_page_cnts = sub_edits.groupby('user').size().reset_index(name='counts')\n",
    "            break\n",
    "            sub_talks = talk_page[talk_page['user_text'].isin(users)]\n",
    "            week = 7 * 24 * 60 * 60\n",
    "            sub_talks = sub_talks[sub_talks['timestamp_in_sec'] < start_time]\n",
    "            comments = sub_talk[sub_talks['timestamp_in_sec'] < start_time - week][['user_text', 'comment']]\n",
    "            comments = comments.groupby('user_text').head(100).reset_index(drop=True)\n",
    "            comments['conversation_id'] = conv_id\n",
    "            last_100_comments.append(comments)\n",
    "            \n",
    "            sub_talks_cnts = sub_talks.groupby('user').size().reset_index(name='counts')\n",
    "            sub_talks = sub_talks[sub_talks['page_title'] == page_title]\n",
    "            sub_talks_same_page_cnts = sub_talks.groupby('user').size().reset_index(name='counts')\n",
    "            \n",
    "            \n",
    "            \n",
    "            for user in users:\n",
    "                info = {}\n",
    "                # metadata\n",
    "                if user in registration: \n",
    "                   info['registration'] = registration[user]\n",
    "                else:\n",
    "                   info['anon'] = True\n",
    "                info['groups'] = groups[user]\n",
    "                if user in blocking and blocking[user] < start_time: \n",
    "                   info['blocked'] = blocking[user]\n",
    "                \n",
    "                # editing data\n",
    "                u_id = user_id[user]\n",
    "\n",
    "                info['edits_on_subjectpage'] = sub_edits_cnts.loc[user]['counts']\n",
    "                info['edits_on_wikipedia_articles'] = sub_edits_same_page_cnts.loc[user]['counts']\n",
    "                \n",
    "                # talk page data\n",
    "                info['edits_on_this_talk_page'] = sub_talks_cnts.loc[user]['counts']\n",
    "                info['edits_on_wikipedia_talks'] = sub_talks_same_page_cnts.loc[user]['counts']                \n",
    "                \n",
    "                \n",
    "                print(comments)\n",
    "                print(info)\n",
    "                break\n",
    "                user_features[user] = info\n",
    "            break\n",
    "            with open('/scratch/wiki_dumps/expr_with_matching/%s/data/user_features.json'%(constraint), 'a') as w:\n",
    "                w.write(json.dumps([conv_id, user_features]) + '\\n')\n",
    "        break"
   ]
  },
  {
   "cell_type": "code",
   "execution_count": null,
   "metadata": {
    "collapsed": true
   },
   "outputs": [],
   "source": [
    "last_100_comments = pd.concat(last_100_comments)"
   ]
  }
 ],
 "metadata": {
  "kernelspec": {
   "display_name": "Python [default]",
   "language": "python",
   "name": "python3"
  },
  "language_info": {
   "codemirror_mode": {
    "name": "ipython",
    "version": 3
   },
   "file_extension": ".py",
   "mimetype": "text/x-python",
   "name": "python",
   "nbconvert_exporter": "python",
   "pygments_lexer": "ipython3",
   "version": "3.6.1"
  }
 },
 "nbformat": 4,
 "nbformat_minor": 2
}
