{
 "cells": [
  {
   "cell_type": "code",
   "execution_count": 1,
   "metadata": {
    "collapsed": true
   },
   "outputs": [],
   "source": [
    "import json\n",
    "import pandas as pd\n",
    "import csv\n",
    "import random\n",
    "import numpy as np\n",
    "import matplotlib.pyplot as plt\n",
    "import scipy.stats"
   ]
  },
  {
   "cell_type": "markdown",
   "metadata": {},
   "source": [
    "# Utils"
   ]
  },
  {
   "cell_type": "code",
   "execution_count": 2,
   "metadata": {
    "collapsed": true
   },
   "outputs": [],
   "source": [
    "def get_ids(df):\n",
    "    conversations = df.values.tolist()\n",
    "    conversation_ids = []\n",
    "    for conv in conversations:\n",
    "        cur_conv = json.loads(conv)\n",
    "        conversation_ids.append(list(cur_conv.keys())[0])\n",
    "    return conversation_ids"
   ]
  },
  {
   "cell_type": "code",
   "execution_count": 3,
   "metadata": {
    "collapsed": true
   },
   "outputs": [],
   "source": [
    "def non_readable_or_not_sure(df):\n",
    "    df['not_English'] = (df['na'] == True)\n",
    "    df['not_sure_toxicity'] = (df['toxic'] == -1)\n",
    "    non_english = pd.DataFrame({'not_readable': df.groupby('_unit_id')['not_English'].mean() >=0.5}).reset_index()\n",
    "    non_english = non_english[non_english['not_readable'] == True]['_unit_id'].values.tolist()\n",
    "    not_sure_toxicity = pd.DataFrame({'not_sure_toxicity': df.groupby('_unit_id')['not_sure_toxicity'].mean() >= 0.5}).reset_index()\n",
    "    not_sure_toxicity = not_sure_toxicity[not_sure_toxicity['not_sure_toxicity'] == True]['_unit_id'].values.tolist()\n",
    "    return non_english + not_sure_toxicity"
   ]
  },
  {
   "cell_type": "code",
   "execution_count": 4,
   "metadata": {
    "collapsed": true
   },
   "outputs": [],
   "source": [
    "def add_row_to_coincidence(o, row, columns):\n",
    "    m_u = row.sum(1)\n",
    "    for i in columns:\n",
    "        for j in columns:\n",
    "            if i == j:\n",
    "                o[i][j] = o[i][j] + row[i]*(row[i]-1)/(m_u-1)\n",
    "            else:\n",
    "                o[i][j] = o[i][j] + row[i]*row[j]/(m_u-1)\n",
    "    return o\n",
    "\n",
    "def make_coincidence_matrix(df, columns):\n",
    "    df = df[columns]\n",
    "    n = df.shape[0]\n",
    "    num_cols = len(columns)\n",
    "    o = pd.DataFrame(np.zeros((num_cols,num_cols)), index = columns, columns=columns)\n",
    "    for i in range(n):\n",
    "        o = add_row_to_coincidence(o, df[i:i+1], columns)\n",
    "    return o\n",
    "\n",
    "def binary_distance(i,j):\n",
    "    return i!=j\n",
    "\n",
    "def interval_distance(i,j):\n",
    "    return (int(i)-int(j))**2\n",
    "\n",
    "def e(n, i, j):\n",
    "    if i == j:\n",
    "        return n[i]*(n[i]-1)/sum(n)-1\n",
    "    else:\n",
    "        return n[i]*n[j]/sum(n)-1\n",
    "\n",
    "def D_e(o, columns, distance):\n",
    "    n = o.sum(1)\n",
    "    output = 0\n",
    "    for i in columns:\n",
    "        for j in columns:\n",
    "            output = output + e(n,i,j)*distance(i,j)\n",
    "    return output\n",
    "\n",
    "def D_o(o, columns, distance):\n",
    "    output = 0\n",
    "    for i in columns:\n",
    "        for j in columns:\n",
    "            output = output + o[i][j]*distance(i,j)\n",
    "    return output\n",
    "\n",
    "def Krippendorf_alpha(df, columns, distance = binary_distance, o = None):\n",
    "    if o is None:\n",
    "        o = make_coincidence_matrix(df, columns)\n",
    "    d_o = D_o(o, columns, distance)\n",
    "    d_e = D_e(o, columns, distance)\n",
    "    return (1 - d_o/d_e)"
   ]
  },
  {
   "cell_type": "code",
   "execution_count": 5,
   "metadata": {
    "collapsed": true
   },
   "outputs": [],
   "source": [
    "def checkEachLineCount(mat):\n",
    "    \"\"\" Assert that each line has a constant number of ratings\n",
    "        @param mat The matrix checked\n",
    "        @return The number of ratings\n",
    "        @throws AssertionError If lines contain different number of ratings \"\"\"\n",
    "    n = sum(mat[0])\n",
    "    \n",
    "    assert all(sum(line) == n for line in mat[1:]), \"Line count != %d (n value).\" % n\n",
    "    return n"
   ]
  },
  {
   "cell_type": "code",
   "execution_count": 6,
   "metadata": {
    "collapsed": true
   },
   "outputs": [],
   "source": [
    "def computeKappa(mat):\n",
    "    \"\"\" Computes the Kappa value\n",
    "        @param n Number of rating per subjects (number of human raters)\n",
    "        @param mat Matrix[subjects][categories]\n",
    "        @return The Kappa value \"\"\"\n",
    "    n = checkEachLineCount(mat)   # PRE : every line count must be equal to n\n",
    "    N = len(mat)\n",
    "    k = len(mat[0])\n",
    "    \n",
    "    \n",
    "    # Computing p[]\n",
    "    p = [0.0] * k\n",
    "    for j in range(k):\n",
    "        p[j] = 0.0\n",
    "        for i in range(N):\n",
    "            p[j] += mat[i][j]\n",
    "        p[j] /= N*n\n",
    "    \n",
    "    # Computing P[]    \n",
    "    P = [0.0] * N\n",
    "    for i in range(N):\n",
    "        P[i] = 0.0\n",
    "        for j in range(k):\n",
    "            P[i] += mat[i][j] * mat[i][j]\n",
    "        P[i] = (P[i] - n) / (n * (n - 1))\n",
    "  #  if DEBUG: print \"P =\", P\n",
    "    \n",
    "    # Computing Pbar\n",
    "    Pbar = sum(P) / N\n",
    "  #  if DEBUG: print \"Pbar =\", Pbar\n",
    "    \n",
    "    # Computing PbarE\n",
    "    PbarE = 0.0\n",
    "    for pj in p:\n",
    "        PbarE += pj * pj\n",
    "   # if DEBUG: print \"PbarE =\", PbarE\n",
    "    \n",
    "    kappa = (Pbar - PbarE) / (1 - PbarE)\n",
    "    print(PbarE, Pbar)\n",
    "    #if DEBUG: print \"kappa =\", kappa\n",
    "    \n",
    "    return kappa\n"
   ]
  },
  {
   "cell_type": "markdown",
   "metadata": {},
   "source": [
    "# JOB 1"
   ]
  },
  {
   "cell_type": "code",
   "execution_count": 7,
   "metadata": {
    "collapsed": true
   },
   "outputs": [],
   "source": [
    "with open('/scratch/wiki_dumps/annotated/job1_constraintsAB_v017.csv') as f:\n",
    "     df = pd.read_csv(f, encoding = 'utf-8', index_col=None, quoting=csv.QUOTE_ALL)\n",
    "\n",
    "toxicity = df[df['toxic'] >= 0]\n",
    "toxic_before = pd.DataFrame({'toxic_before': toxicity.groupby('_unit_id')['toxic'].mean() >= 0.5}).\\\n",
    "            reset_index()\n",
    "toxic_before = toxic_before[toxic_before['toxic_before'] == True]['_unit_id'].values.tolist()\n",
    "_excluded = list(set(non_readable_or_not_sure(df) + toxic_before))\n",
    "annotated = set(get_ids(df['conversations']))\n",
    "excluded_1 = set(get_ids(df[df['_unit_id'].isin(_excluded)]['conversations']))"
   ]
  },
  {
   "cell_type": "code",
   "execution_count": 9,
   "metadata": {
    "collapsed": true
   },
   "outputs": [],
   "source": [
    "TOXIC_COLUMNS = ['no_toxic', 'toxic']\n",
    "\n",
    "no_toxic = pd.DataFrame({'no_toxic': df[df['toxic'] == 0].groupby('_unit_id').size()}).reset_index().set_index('_unit_id')\n",
    "toxic = pd.DataFrame({'toxic': df[df['toxic'] == 1].groupby('_unit_id').size()}).reset_index().set_index('_unit_id')\n",
    "total = toxic.join(no_toxic, how='outer')\n",
    "total = total.fillna(int(0)).reset_index()\n",
    "total['sum'] = total['toxic'] + total['no_toxic']\n",
    "#total = total[total['sum'] ==20]"
   ]
  },
  {
   "cell_type": "code",
   "execution_count": 10,
   "metadata": {},
   "outputs": [
    {
     "data": {
      "text/plain": [
       "0.5574067964368196"
      ]
     },
     "execution_count": 10,
     "metadata": {},
     "output_type": "execute_result"
    }
   ],
   "source": [
    "len(total[total['sum'] >=20]) / len(total)"
   ]
  },
  {
   "cell_type": "code",
   "execution_count": 198,
   "metadata": {
    "collapsed": true
   },
   "outputs": [],
   "source": [
    "total = total[total['sum'] == 5]"
   ]
  },
  {
   "cell_type": "code",
   "execution_count": 194,
   "metadata": {
    "collapsed": true
   },
   "outputs": [],
   "source": [
    "total['toxic'] = total.apply(lambda x: int(x['toxic']), axis=1)"
   ]
  },
  {
   "cell_type": "code",
   "execution_count": 199,
   "metadata": {},
   "outputs": [
    {
     "name": "stdout",
     "output_type": "stream",
     "text": [
      "1111 -0.0204549600356\n"
     ]
    }
   ],
   "source": [
    "print(len(total), Krippendorf_alpha(total, TOXIC_COLUMNS))"
   ]
  },
  {
   "cell_type": "code",
   "execution_count": 173,
   "metadata": {
    "collapsed": true
   },
   "outputs": [
    {
     "name": "stdout",
     "output_type": "stream",
     "text": [
      "0.8499687505510296 0.8678006503962459\n",
      "0.11885457136902251\n",
      "MannwhitneyuResult(statistic=5491940.5, pvalue=0.19181043767508715)\n",
      "0.8499687505510296 0.8660452120102394\n",
      "0.10715408635370896\n"
     ]
    }
   ],
   "source": [
    "mat = []\n",
    "for index, row in total.iterrows():\n",
    "    mat.append([int(row['toxic']), int(row['no_toxic'])])\n",
    "\n",
    "import copy\n",
    "\n",
    "randomized_mat = copy.deepcopy(mat)\n",
    "l = len(randomized_mat) - 1\n",
    "for i in range(50000):\n",
    "    x = random.randint(0, l)\n",
    "    y = random.randint(0, l)\n",
    "    xx = random.randint(0, 1)\n",
    "    yy = random.randint(0, 1)\n",
    "    if randomized_mat[x][xx] > 0 and randomized_mat[y][yy] > 0:\n",
    "        randomized_mat[x][xx] -= 1\n",
    "        randomized_mat[y][xx] += 1\n",
    "        randomized_mat[y][yy] -= 1\n",
    "        randomized_mat[x][yy] += 1\n",
    "\n",
    "#np.transpose(mat)[0]\n",
    "\n",
    "print(computeKappa(mat))\n",
    "\n",
    "#np.transpose(randomized_mat)[0]\n",
    "\n",
    "#np.transpose(randomized_mat)[1]\n",
    "x = []\n",
    "y = []\n",
    "for i in range(len(randomized_mat)):\n",
    "    x.append(max(randomized_mat[i][0], randomized_mat[i][1]))\n",
    "    y.append(max(mat[i][0], mat[i][1]))\n",
    "    \n",
    "print(scipy.stats.mannwhitneyu(x, y, alternative='less'))\n",
    "\n",
    "print(computeKappa(randomized_mat))"
   ]
  },
  {
   "cell_type": "code",
   "execution_count": 122,
   "metadata": {
    "collapsed": true
   },
   "outputs": [],
   "source": [
    "total['sum'] = total['toxic'] + total['no_toxic']"
   ]
  },
  {
   "cell_type": "code",
   "execution_count": 135,
   "metadata": {},
   "outputs": [
    {
     "data": {
      "text/plain": [
       "<bound method FramePlotMethods.hist of <pandas.plotting._core.FramePlotMethods object at 0x7f2a616362e8>>"
      ]
     },
     "execution_count": 135,
     "metadata": {},
     "output_type": "execute_result"
    }
   ],
   "source": [
    "total[['sum']].plot.hist"
   ]
  },
  {
   "cell_type": "code",
   "execution_count": 144,
   "metadata": {
    "collapsed": true
   },
   "outputs": [],
   "source": [
    "n,bins,batches = plt.hist(total['no_toxic'])"
   ]
  },
  {
   "cell_type": "code",
   "execution_count": 148,
   "metadata": {},
   "outputs": [
    {
     "data": {
      "text/plain": [
       "0.9871025794841032"
      ]
     },
     "execution_count": 148,
     "metadata": {},
     "output_type": "execute_result"
    }
   ],
   "source": [
    "len(total[total['no_toxic'] > 20]) / len(total)"
   ]
  },
  {
   "cell_type": "code",
   "execution_count": 145,
   "metadata": {},
   "outputs": [
    {
     "data": {
      "image/png": "[encoded data removed]",
      "text/plain": [
       "<matplotlib.figure.Figure at 0x7f2a6407ff28>"
      ]
     },
     "metadata": {},
     "output_type": "display_data"
    }
   ],
   "source": [
    "plt.show()"
   ]
  },
  {
   "cell_type": "code",
   "execution_count": 119,
   "metadata": {},
   "outputs": [
    {
     "name": "stdout",
     "output_type": "stream",
     "text": [
      "5950 0.0861351020084\n"
     ]
    }
   ],
   "source": [
    "total = total[~(total['_unit_id'].isin(_excluded))]\n",
    "\n",
    "print(len(total), Krippendorf_alpha(total, TOXIC_COLUMNS))"
   ]
  },
  {
   "cell_type": "code",
   "execution_count": null,
   "metadata": {
    "collapsed": true
   },
   "outputs": [],
   "source": [
    "# Each Conversation is annotated by 5~22 workers JOB1"
   ]
  },
  {
   "cell_type": "markdown",
   "metadata": {},
   "source": [
    "# JOB 2"
   ]
  },
  {
   "cell_type": "code",
   "execution_count": 11,
   "metadata": {
    "collapsed": true
   },
   "outputs": [],
   "source": [
    "with open('/scratch/wiki_dumps/annotated/job2_constraintsAB_v017.csv') as f:\n",
    "     df = pd.read_csv(f, encoding = 'utf-8', index_col=None, quoting=csv.QUOTE_ALL)\n",
    "\n",
    "_excluded = list(set(non_readable_or_not_sure(df)))\n",
    "excluded_2 = set(get_ids(df[df['_unit_id'].isin(_excluded)]['conversations']))\n",
    "excluded = (excluded_1 | excluded_2)"
   ]
  },
  {
   "cell_type": "code",
   "execution_count": 12,
   "metadata": {
    "collapsed": true
   },
   "outputs": [],
   "source": [
    "df['conv_id'] = df.apply(lambda x: list(json.loads(x['conversations']).keys())[0], axis=1)"
   ]
  },
  {
   "cell_type": "code",
   "execution_count": 13,
   "metadata": {
    "collapsed": true
   },
   "outputs": [],
   "source": [
    "toxicity = df[df['toxic'] >= 0]\n",
    "toxic = pd.DataFrame({'toxic': toxicity.groupby('_unit_id')['toxic'].mean() >= 0.5}).reset_index()\n",
    "bad_convs = toxic[toxic['toxic'] == True]['_unit_id'].values.tolist()\n",
    "bad_conversations = set(get_ids(df[df['_unit_id'].isin(bad_convs)]['conversations']))"
   ]
  },
  {
   "cell_type": "code",
   "execution_count": 164,
   "metadata": {},
   "outputs": [
    {
     "name": "stdout",
     "output_type": "stream",
     "text": [
      "2643 0.282819056548\n"
     ]
    }
   ],
   "source": [
    "TOXIC_COLUMNS = ['no_toxic', 'toxic']\n",
    "\n",
    "no_toxic = pd.DataFrame({'no_toxic': df[df['toxic'] == 0].groupby('_unit_id').size()}).reset_index().set_index('_unit_id')\n",
    "toxic = pd.DataFrame({'toxic': df[df['toxic'] == 1].groupby('_unit_id').size()}).reset_index().set_index('_unit_id')\n",
    "total = toxic.join(no_toxic, how='outer')\n",
    "total = total.fillna(0).reset_index()\n",
    "total['sum'] = total['toxic'] + total['no_toxic']\n",
    "total = total[total['sum'] ==20]\n",
    "print(len(total), Krippendorf_alpha(total, TOXIC_COLUMNS))"
   ]
  },
  {
   "cell_type": "code",
   "execution_count": 168,
   "metadata": {},
   "outputs": [
    {
     "name": "stdout",
     "output_type": "stream",
     "text": [
      "0.5044058449213501 0.6445964514009275\n",
      "0.282873809230719\n",
      "MannwhitneyuResult(statistic=3741727.5, pvalue=0.99999674764091862)\n",
      "0.5044058449213501 0.6601131091064856\n",
      "0.3141830116225342\n"
     ]
    }
   ],
   "source": [
    "mat = []\n",
    "for index, row in total.iterrows():\n",
    "    mat.append([int(row['toxic']), int(row['no_toxic'])])\n",
    "\n",
    "import copy\n",
    "\n",
    "randomized_mat = copy.deepcopy(mat)\n",
    "l = len(randomized_mat) - 1\n",
    "for i in range(70000):\n",
    "    x = random.randint(0, l)\n",
    "    y = random.randint(0, l)\n",
    "    xx = random.randint(0, 1)\n",
    "    yy = random.randint(0, 1)\n",
    "    if randomized_mat[x][xx] > 0 and randomized_mat[y][yy] > 0:\n",
    "        randomized_mat[x][xx] -= 1\n",
    "        randomized_mat[y][xx] += 1\n",
    "        randomized_mat[y][yy] -= 1\n",
    "        randomized_mat[x][yy] += 1\n",
    "\n",
    "#np.transpose(mat)[0]\n",
    "\n",
    "print(computeKappa(mat))\n",
    "\n",
    "#np.transpose(randomized_mat)[0]\n",
    "\n",
    "#np.transpose(randomized_mat)[1]\n",
    "x = []\n",
    "y = []\n",
    "for i in range(len(randomized_mat)):\n",
    "    x.append(max(randomized_mat[i][0], randomized_mat[i][1]))\n",
    "    y.append(max(mat[i][0], mat[i][1]))\n",
    "    \n",
    "print(scipy.stats.mannwhitneyu(x, y, alternative='less'))\n",
    "\n",
    "print(computeKappa(randomized_mat))"
   ]
  },
  {
   "cell_type": "code",
   "execution_count": 13,
   "metadata": {},
   "outputs": [
    {
     "data": {
      "text/plain": [
       "nan"
      ]
     },
     "execution_count": 13,
     "metadata": {},
     "output_type": "execute_result"
    }
   ],
   "source": [
    "Krippendorf_alpha(total, TOXIC_COLUMNS)"
   ]
  },
  {
   "cell_type": "code",
   "execution_count": 14,
   "metadata": {
    "collapsed": true
   },
   "outputs": [],
   "source": [
    "df['has_disagreement'] = ~(df['disagreement'] == None)\n",
    "disagreement = pd.DataFrame({'disagreement': df.groupby('_unit_id')['has_disagreement'].mean() >= 0.5}).reset_index()\n",
    "disagree_convs = disagreement[disagreement['disagreement'] == True]['_unit_id'].values.tolist()\n",
    "disagree_conversations = set(get_ids(df[df['_unit_id'].isin(disagree_convs)]['conversations']))"
   ]
  },
  {
   "cell_type": "code",
   "execution_count": 15,
   "metadata": {
    "collapsed": true
   },
   "outputs": [],
   "source": [
    "bad_and_disagree = (bad_conversations & disagree_conversations - excluded)\n",
    "good_and_disagree = (disagree_conversations - bad_conversations - excluded)"
   ]
  },
  {
   "cell_type": "code",
   "execution_count": 17,
   "metadata": {
    "collapsed": true
   },
   "outputs": [],
   "source": [
    "def attacker_in_conv(conv):\n",
    "    actions = conv['action_feature']\n",
    "    end_time = max([a['timestamp_in_sec'] for a in actions])\n",
    "    attacker = None\n",
    "    for a in actions:\n",
    "        if a['timestamp_in_sec'] == end_time:\n",
    "            attacker = a['user_text']\n",
    "    for a in actions:\n",
    "        if a['timestamp_in_sec'] < end_time and a['user_text'] == attacker:\n",
    "            return True\n",
    "    return False"
   ]
  },
  {
   "cell_type": "code",
   "execution_count": null,
   "metadata": {},
   "outputs": [],
   "source": [
    "goods = {}\n",
    "bads = []\n",
    "all_data = {}\n",
    "with open('/scratch/wiki_dumps/expr_with_matching/delta2_no_users_attacker_in_conv/data/all.json') as f:\n",
    "    for line in f:\n",
    "        conv_id, clss, conversation = json.loads(line)\n",
    "        all_data[conv_id] = [conv_id, clss, conversation]\n",
    "        if clss == 0 and (attacker_in_conv(all_data[conversation['action_feature'][0]['good_conversation_id']][2])):\n",
    "            bads.append([conv_id, clss, conversation])\n",
    "            goods[conv_id] = all_data[conversation['action_feature'][0]['good_conversation_id']]\n",
    "cleaned_data = bads + list(goods.values())"
   ]
  },
  {
   "cell_type": "code",
   "execution_count": null,
   "metadata": {
    "collapsed": true
   },
   "outputs": [],
   "source": [
    "len(cleand_data)"
   ]
  },
  {
   "cell_type": "code",
   "execution_count": 16,
   "metadata": {
    "collapsed": true
   },
   "outputs": [],
   "source": [
    "data = []\n",
    "bad_disagree = []\n",
    "good_disagree = []\n",
    "xs = []\n",
    "total_bad = 0\n",
    "total_good = 0\n",
    "with open('/scratch/wiki_dumps/expr_with_matching/delta2_no_users_attacker_in_conv/data/all.json') as f:\n",
    "    for line in f:\n",
    "        conv_id, clss, conversation = json.loads(line)\n",
    "        idlist = [k['id'] for k in conversation['action_feature']]\n",
    "        is_annotated = not(annotated.isdisjoint(idlist))\n",
    "        is_excluded = not(excluded.isdisjoint(idlist))\n",
    "        is_bd = not(bad_and_disagree.isdisjoint(idlist))\n",
    "        is_gd = not(good_and_disagree.isdisjoint(idlist))\n",
    "        annotated_class = bad_conversations.isdisjoint(idlist)\n",
    "        same_class = (int(annotated_class) == clss)\n",
    "        if 'good_conversation_id' in conversation['action_feature'][0]:\n",
    "            matched_id = conversation['action_feature'][0]['good_conversation_id']\n",
    "        else:\n",
    "            matched_id = conversation['action_feature'][0]['bad_conversation_id']\n",
    "        dt = {'conversation_id': conv_id, 'annotated': is_annotated, 'excluded': is_excluded, \\\n",
    "                     'annotated_class': annotated_class, 'class': clss, 'matched_id': matched_id, 'same_class': same_class}\n",
    "        if is_bd and not(is_excluded) and is_annotated:\n",
    "            bad_disagree.append(dt)\n",
    "        if is_gd and not(is_excluded):\n",
    "            good_disagree.append(dt)\n",
    "        if annotated_class:\n",
    "            total_good += 1\n",
    "        else:total_bad += 1\n",
    "        data.append(dt)"
   ]
  },
  {
   "cell_type": "code",
   "execution_count": 32,
   "metadata": {},
   "outputs": [
    {
     "name": "stdout",
     "output_type": "stream",
     "text": [
      "1668\n",
      "1720\n",
      "0.9697674418604652\n"
     ]
    }
   ],
   "source": [
    "bad_but_disagree = pd.DataFrame(bad_disagree)\n",
    "print(len(bad_but_disagree))\n",
    "print(total_bad)\n",
    "print(len(bad_but_disagree) / total_bad)"
   ]
  },
  {
   "cell_type": "code",
   "execution_count": 33,
   "metadata": {},
   "outputs": [
    {
     "name": "stdout",
     "output_type": "stream",
     "text": [
      "3602\n",
      "4744\n",
      "0.7592748735244519\n"
     ]
    }
   ],
   "source": [
    "good_but_disagree = pd.DataFrame(good_disagree)\n",
    "\n",
    "print(len(good_but_disagree))\n",
    "print(total_good)\n",
    "print(len(good_but_disagree) / total_good)"
   ]
  },
  {
   "cell_type": "code",
   "execution_count": 152,
   "metadata": {},
   "outputs": [
    {
     "data": {
      "text/plain": [
       "0.31650853889943076"
      ]
     },
     "execution_count": 152,
     "metadata": {},
     "output_type": "execute_result"
    }
   ],
   "source": [
    "1668/(1668+3602) # toxic&disagree / all disagree"
   ]
  },
  {
   "cell_type": "code",
   "execution_count": 153,
   "metadata": {},
   "outputs": [
    {
     "data": {
      "text/plain": [
       "0.2660891089108911"
      ]
     },
     "execution_count": 153,
     "metadata": {},
     "output_type": "execute_result"
    }
   ],
   "source": [
    "1720/(1720+4744) # toxic / all_data"
   ]
  },
  {
   "cell_type": "code",
   "execution_count": 14,
   "metadata": {
    "collapsed": true
   },
   "outputs": [],
   "source": [
    "annotation_aggregated = pd.DataFrame(data)\n",
    "class_bad_annotation_good = annotation_aggregated[(annotation_aggregated['annotated'] == True)\\\n",
    "                                              & (annotation_aggregated['excluded'] == False)\\\n",
    "                                              & (annotation_aggregated['same_class'] == False)\\\n",
    "                                              & (annotation_aggregated['class'] == False)]\n",
    "annotation_aggregated = annotation_aggregated[(annotation_aggregated['annotated'] == True)\\\n",
    "                                              & (annotation_aggregated['excluded'] == False)\\\n",
    "                                              & (annotation_aggregated['same_class'] == True)]\n",
    "left_ids = annotation_aggregated['conversation_id'].values.tolist()\n",
    "annotation_aggregated = annotation_aggregated[annotation_aggregated['matched_id'].isin(left_ids)]"
   ]
  },
  {
   "cell_type": "code",
   "execution_count": 15,
   "metadata": {
    "collapsed": true
   },
   "outputs": [],
   "source": [
    "verified_pairs = annotation_aggregated['conversation_id'].values.tolist()\n",
    "goods = {}\n",
    "bads = []\n",
    "all_data = {}\n",
    "with open('/scratch/wiki_dumps/expr_with_matching/delta2_no_users_attacker_in_conv/data/all_verified.json', 'w') as w:\n",
    "    with open('/scratch/wiki_dumps/expr_with_matching/delta2_no_users_attacker_in_conv/data/all.json') as f:\n",
    "        for line in f:\n",
    "            conv_id, clss, conversation = json.loads(line)\n",
    "            if conv_id in verified_pairs:\n",
    "                w.write(json.dumps([conv_id, clss, conversation]) + '\\n')\n",
    "                all_data[conv_id] = [conv_id, clss, conversation]\n",
    "                if clss == 0:\n",
    "                    bads.append([conv_id, clss, conversation])\n",
    "                    goods[conv_id] = all_data[conversation['action_feature'][0]['good_conversation_id']]\n",
    "                    if conv_id ==  '55624552.2155.2155': print(conv_id, goods[conv_id][0])"
   ]
  },
  {
   "cell_type": "code",
   "execution_count": 22,
   "metadata": {
    "collapsed": true
   },
   "outputs": [],
   "source": [
    "verified_pairs = annotation_aggregated['conversation_id'].values.tolist()\n",
    "goods = {}\n",
    "bads = []\n",
    "all_data = {}\n",
    "with open('/scratch/wiki_dumps/expr_with_matching/delta2_no_users_attacker_in_conv/data/all_verified_cleaned.json', 'w') as w:\n",
    "    with open('/scratch/wiki_dumps/expr_with_matching/delta2_no_users_attacker_in_conv/data/all.json') as f:\n",
    "        for line in f:\n",
    "            conv_id, clss, conversation = json.loads(line)\n",
    "            if conv_id in verified_pairs:\n",
    "                w.write(json.dumps([conv_id, clss, conversation]) + '\\n')\n",
    "                all_data[conv_id] = [conv_id, clss, conversation]\n",
    "                if clss == 0 and (attacker_in_conv(all_data[conversation['action_feature'][0]['good_conversation_id']][2])):\n",
    "                    bads.append([conv_id, clss, conversation])\n",
    "                    goods[conv_id] = all_data[conversation['action_feature'][0]['good_conversation_id']]"
   ]
  },
  {
   "cell_type": "code",
   "execution_count": 29,
   "metadata": {},
   "outputs": [
    {
     "data": {
      "text/plain": [
       "False"
      ]
     },
     "execution_count": 29,
     "metadata": {},
     "output_type": "execute_result"
    }
   ],
   "source": [
    " '55624552.2155.2155' in bads"
   ]
  },
  {
   "cell_type": "code",
   "execution_count": 23,
   "metadata": {
    "collapsed": true
   },
   "outputs": [],
   "source": [
    "test = {}\n",
    "with open('/scratch/wiki_dumps/expr_with_matching/delta2_no_users_attacker_in_conv/data/bak.json') as f:\n",
    "    for line in f:\n",
    "        conv_id, clss, conversation = json.loads(line)\n",
    "        test[conv_id] = True"
   ]
  },
  {
   "cell_type": "code",
   "execution_count": 18,
   "metadata": {},
   "outputs": [
    {
     "data": {
      "text/plain": [
       "1492"
      ]
     },
     "execution_count": 18,
     "metadata": {},
     "output_type": "execute_result"
    }
   ],
   "source": [
    "len(test.keys())"
   ]
  },
  {
   "cell_type": "code",
   "execution_count": 30,
   "metadata": {
    "collapsed": true
   },
   "outputs": [],
   "source": [
    "left = []\n",
    "with open('/scratch/wiki_dumps/expr_with_matching/delta2_no_users_attacker_in_conv/data/test_verified.json', 'w') as w:\n",
    "    for conv in bads:\n",
    "        conv_id, clss, conversation = conv\n",
    "        if not(conv_id in test):\n",
    "            left.append(conv)\n",
    "            left.append(goods[conv_id])\n",
    "        else:\n",
    "            w.write(json.dumps(conv) + '\\n')\n",
    "            w.write(json.dumps(goods[conv_id]) + '\\n')\n",
    "\n",
    "with open('/scratch/wiki_dumps/expr_with_matching/delta2_no_users_attacker_in_conv/data/train_verified.json', 'w') as w:\n",
    "    for conv in left:\n",
    "        w.write(json.dumps(conv) + '\\n')\n",
    "    #    w.write(json.dumps(goods[conv[0]]) + '\\n')"
   ]
  },
  {
   "cell_type": "code",
   "execution_count": 24,
   "metadata": {
    "collapsed": true
   },
   "outputs": [],
   "source": [
    "left = []\n",
    "with open('/scratch/wiki_dumps/expr_with_matching/delta2_no_users_attacker_in_conv/data/test_cleaned_verified.json', 'w') as w:\n",
    "    for conv in bads:\n",
    "        conv_id, clss, conversation = conv\n",
    "        if not(conv_id in test):\n",
    "            left.append(conv)\n",
    "            left.append(goods[conv_id])\n",
    "        else:\n",
    "            w.write(json.dumps(conv) + '\\n')\n",
    "            w.write(json.dumps(goods[conv_id]) + '\\n')\n",
    "\n",
    "with open('/scratch/wiki_dumps/expr_with_matching/delta2_no_users_attacker_in_conv/data/train_cleaned_verified.json', 'w') as w:\n",
    "    for conv in left:\n",
    "        w.write(json.dumps(conv) + '\\n')"
   ]
  },
  {
   "cell_type": "code",
   "execution_count": 28,
   "metadata": {},
   "outputs": [
    {
     "data": {
      "text/plain": [
       "1314.0"
      ]
     },
     "execution_count": 28,
     "metadata": {},
     "output_type": "execute_result"
    }
   ],
   "source": [
    "len(annotation_aggregated) / 2"
   ]
  },
  {
   "cell_type": "code",
   "execution_count": 39,
   "metadata": {
    "collapsed": true
   },
   "outputs": [],
   "source": [
    "reannotation_needed = class_bad_annotation_good['conversation_id'].values.tolist()\n",
    "with open(\"toxicity_in_context.json\", 'w') as f:\n",
    "    json.dump(reannotation_needed, f)"
   ]
  },
  {
   "cell_type": "code",
   "execution_count": null,
   "metadata": {
    "collapsed": true
   },
   "outputs": [],
   "source": [
    "if __name__ == '__main__': \n",
    "    print(\"Example from http://en.wikipedia.org/wiki/Krippendorff's_Alpha\")\n",
    "\n",
    "    data = (\n",
    "        \"*    *    *    *    *    3    4    1    2    1    1    3    3    *    3\", # coder A\n",
    "        \"1    *    2    1    3    3    4    3    *    *    *    *    *    *    *\", # coder B\n",
    "        \"*    *    2    1    3    4    4    *    2    1    1    3    3    *    4\", # coder C\n",
    "    )\n",
    "\n",
    "    missing = '*' # indicator for missing values\n",
    "    array = [d.split() for d in data]  # convert to 2D list of string items\n",
    "    \n",
    "    print(\"nominal metric: %.3f\" % krippendorff_alpha(array, nominal_metric, missing_items=missing))\n",
    "    print(\"interval metric: %.3f\" % krippendorff_alpha(array, interval_metric, missing_items=missing))"
   ]
  }
 ],
 "metadata": {
  "kernelspec": {
   "display_name": "Python [default]",
   "language": "python",
   "name": "python3"
  },
  "language_info": {
   "codemirror_mode": {
    "name": "ipython",
    "version": 3
   },
   "file_extension": ".py",
   "mimetype": "text/x-python",
   "name": "python",
   "nbconvert_exporter": "python",
   "pygments_lexer": "ipython3",
   "version": "3.6.1"
  }
 },
 "nbformat": 4,
 "nbformat_minor": 2
}
