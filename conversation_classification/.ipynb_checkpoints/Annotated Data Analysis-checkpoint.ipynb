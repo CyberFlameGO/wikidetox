{
 "cells": [
  {
   "cell_type": "code",
   "execution_count": 1,
   "metadata": {
    "collapsed": true
   },
   "outputs": [],
   "source": [
    "import json\n",
    "import pandas as pd\n",
    "import csv\n",
    "import random\n",
    "import numpy as np\n",
    "import matplotlib.pyplot as plt\n",
    "import scipy.stats"
   ]
  },
  {
   "cell_type": "markdown",
   "metadata": {},
   "source": [
    "# Utils"
   ]
  },
  {
   "cell_type": "code",
   "execution_count": 2,
   "metadata": {
    "collapsed": true
   },
   "outputs": [],
   "source": [
    "def get_ids(df):\n",
    "    conversations = df.values.tolist()\n",
    "    conversation_ids = []\n",
    "    for conv in conversations:\n",
    "        cur_conv = json.loads(conv)\n",
    "        conversation_ids.append(list(cur_conv.keys())[0])\n",
    "    return conversation_ids"
   ]
  },
  {
   "cell_type": "code",
   "execution_count": 49,
   "metadata": {
    "collapsed": true
   },
   "outputs": [],
   "source": [
    "def get_action_lst(conv):\n",
    "\n",
    "    cur_conv = json.loads(conv)\n",
    "    return list(cur_conv.keys())[0]"
   ]
  },
  {
   "cell_type": "code",
   "execution_count": 3,
   "metadata": {
    "collapsed": true
   },
   "outputs": [],
   "source": [
    "def non_readable_or_not_sure(df):\n",
    "    df['not_English'] = (df['na'] == True)\n",
    "    df['not_sure_toxicity'] = (df['toxic'] == -1)\n",
    "    non_english = pd.DataFrame({'not_readable': df.groupby('_unit_id')['not_English'].mean() >=0.5}).reset_index()\n",
    "    non_english = non_english[non_english['not_readable'] == True]['_unit_id'].values.tolist()\n",
    "    not_sure_toxicity = pd.DataFrame({'not_sure_toxicity': df.groupby('_unit_id')['not_sure_toxicity'].mean() >= 0.5}).reset_index()\n",
    "    not_sure_toxicity = not_sure_toxicity[not_sure_toxicity['not_sure_toxicity'] == True]['_unit_id'].values.tolist()\n",
    "    return non_english + not_sure_toxicity"
   ]
  },
  {
   "cell_type": "code",
   "execution_count": 55,
   "metadata": {
    "collapsed": true
   },
   "outputs": [],
   "source": [
    "goods = {}\n",
    "bads = []\n",
    "all_data = {}\n",
    "included = {}\n",
    "with open('/scratch/wiki_dumps/expr_with_matching/delta2_no_users_attacker_in_conv/data/all.json') as f:\n",
    "    for line in f:\n",
    "        conv_id, clss, conversation = json.loads(line)\n",
    "        if conv_id in all_data:\n",
    "            continue\n",
    "        all_data[conv_id] = [conv_id, clss, conversation]\n",
    "        if clss == 0 and (attacker_in_conv(all_data[conversation['action_feature'][0]['good_conversation_id']][2])):\n",
    "            bads.append([conv_id, clss, conversation])\n",
    "            goods[conv_id] = all_data[conversation['action_feature'][0]['good_conversation_id']]\n",
    "cleaned_data = bads + list(goods.values())"
   ]
  },
  {
   "cell_type": "markdown",
   "metadata": {},
   "source": [
    "# JOB 1"
   ]
  },
  {
   "cell_type": "code",
   "execution_count": 98,
   "metadata": {
    "collapsed": true
   },
   "outputs": [],
   "source": [
    "with open('/scratch/wiki_dumps/annotated/job1_constraintsAB_v017.csv') as f:\n",
    "     df = pd.read_csv(f, encoding = 'utf-8', index_col=None, quoting=csv.QUOTE_ALL)\n",
    "\n",
    "toxicity = df[df['toxic'] >= 0]\n",
    "toxic_before = pd.DataFrame({'toxic_before': toxicity.groupby('_unit_id')['toxic'].mean() >= 0.5}).\\\n",
    "            reset_index()\n",
    "toxic_before = toxic_before[toxic_before['toxic_before'] == True]['_unit_id'].values.tolist()\n",
    "_excluded = list(set(non_readable_or_not_sure(df) + toxic_before))\n",
    "annotated = set(get_ids(df['conversations']))\n",
    "excluded_1 = set(get_ids(df[df['_unit_id'].isin(_excluded)]['conversations']))"
   ]
  },
  {
   "cell_type": "code",
   "execution_count": 85,
   "metadata": {
    "collapsed": true
   },
   "outputs": [],
   "source": [
    "toxicity_score = pd.DataFrame({'toxicity_score': toxicity.groupby('_unit_id')['toxic'].mean()}).\\\n",
    "            reset_index()\n",
    "disagreement = df[df['disagreement'] >= 0]\n",
    "disagreement_score = pd.DataFrame({'disagree_score': disagreement.groupby('_unit_id')['disagreement'].mean()}).\\\n",
    "            reset_index()\n",
    "lead_to_toxic= df[~np.isnan(df['lead_to_toxic'])]\n",
    "lead_to_toxic_score = pd.DataFrame({'lead_to_toxic_score': lead_to_toxic.groupby('_unit_id')['lead_to_toxic'].mean()}).reset_index()"
   ]
  },
  {
   "cell_type": "code",
   "execution_count": 104,
   "metadata": {
    "collapsed": true
   },
   "outputs": [],
   "source": [
    "no_annotators = pd.DataFrame({'no_annotators': df.groupby('_unit_id').size()}).\\\n",
    "            reset_index()"
   ]
  },
  {
   "cell_type": "code",
   "execution_count": 112,
   "metadata": {
    "collapsed": true
   },
   "outputs": [],
   "source": [
    "unit_ids = df[['_unit_id','conversations']].values.tolist()\n",
    "\n",
    "id_conv_mapping = {}\n",
    "for unit_id in unit_ids:\n",
    "    curid, conv = unit_id\n",
    "    id_conv_mapping[curid] = get_action_lst(conv)\n",
    "unit_ids = id_conv_mapping\n",
    "\n",
    "data = []\n",
    "appeared = {}\n",
    "for line in cleaned_data:\n",
    "    conv_id, clss, conversation = line\n",
    "    idlist = [k['id'] for k in conversation['action_feature']]\n",
    "    if clss:\n",
    "        matched_id = conversation['action_feature'][0]['bad_conversation_id']\n",
    "    else:\n",
    "        matched_id = conversation['action_feature'][0]['good_conversation_id']\n",
    "    for curid, conv in id_conv_mapping.items():\n",
    "        if conv in idlist and not(conv_id in appeared):\n",
    "            data.append({'_unit_id': curid, 'conv_id': conv_id, 'matched_id': matched_id, 'class' : clss})\n",
    "            appeared[conv_id] = True"
   ]
  },
  {
   "cell_type": "code",
   "execution_count": 113,
   "metadata": {
    "collapsed": true
   },
   "outputs": [],
   "source": [
    "conv_df = pd.DataFrame(data).set_index('_unit_id')\n",
    "\n",
    "conv_df = conv_df.join(toxicity_score.set_index('_unit_id'))\n",
    "conv_df = conv_df.join(disagreement_score.set_index('_unit_id'))\n",
    "conv_df = conv_df.join(lead_to_toxic_score.set_index('_unit_id'))\n",
    "conv_df = conv_df.join(no_annotators.set_index('_unit_id'))"
   ]
  },
  {
   "cell_type": "code",
   "execution_count": null,
   "metadata": {
    "collapsed": true
   },
   "outputs": [],
   "source": []
  },
  {
   "cell_type": "code",
   "execution_count": 84,
   "metadata": {},
   "outputs": [
    {
     "data": {
      "text/plain": [
       "Index(['class', 'matched_id', 'toxicity_score', 'disagree_score',\n",
       "       'lead_to_toxic', 'toxicity_annotation', 'disagree_annotation'],\n",
       "      dtype='object')"
      ]
     },
     "execution_count": 84,
     "metadata": {},
     "output_type": "execute_result"
    }
   ],
   "source": [
    "conv_df.columns"
   ]
  },
  {
   "cell_type": "code",
   "execution_count": null,
   "metadata": {
    "collapsed": true
   },
   "outputs": [],
   "source": [
    "# Each Conversation is annotated by 5~22 workers JOB1"
   ]
  },
  {
   "cell_type": "markdown",
   "metadata": {},
   "source": [
    "# JOB 2"
   ]
  },
  {
   "cell_type": "code",
   "execution_count": 11,
   "metadata": {
    "collapsed": true
   },
   "outputs": [],
   "source": [
    "with open('/scratch/wiki_dumps/annotated/job2_constraintsAB_v017.csv') as f:\n",
    "     df = pd.read_csv(f, encoding = 'utf-8', index_col=None, quoting=csv.QUOTE_ALL)\n",
    "\n",
    "_excluded = list(set(non_readable_or_not_sure(df)))\n",
    "excluded_2 = set(get_ids(df[df['_unit_id'].isin(_excluded)]['conversations']))\n",
    "excluded = (excluded_1 | excluded_2)"
   ]
  },
  {
   "cell_type": "code",
   "execution_count": 12,
   "metadata": {
    "collapsed": true
   },
   "outputs": [],
   "source": [
    "df['conv_id'] = df.apply(lambda x: list(json.loads(x['conversations']).keys())[0], axis=1)"
   ]
  },
  {
   "cell_type": "code",
   "execution_count": 13,
   "metadata": {
    "collapsed": true
   },
   "outputs": [],
   "source": [
    "toxicity = df[df['toxic'] >= 0]\n",
    "toxic = pd.DataFrame({'toxic': toxicity.groupby('_unit_id')['toxic'].mean() >= 0.5}).reset_index()\n",
    "bad_convs = toxic[toxic['toxic'] == True]['_unit_id'].values.tolist()\n",
    "bad_conversations = set(get_ids(df[df['_unit_id'].isin(bad_convs)]['conversations']))"
   ]
  },
  {
   "cell_type": "code",
   "execution_count": 14,
   "metadata": {
    "collapsed": true
   },
   "outputs": [],
   "source": [
    "df['has_disagreement'] = ~(df['disagreement'] == None)\n",
    "disagreement = pd.DataFrame({'disagreement': df.groupby('_unit_id')['has_disagreement'].mean() >= 0.5}).reset_index()\n",
    "disagree_convs = disagreement[disagreement['disagreement'] == True]['_unit_id'].values.tolist()\n",
    "disagree_conversations = set(get_ids(df[df['_unit_id'].isin(disagree_convs)]['conversations']))"
   ]
  },
  {
   "cell_type": "code",
   "execution_count": 15,
   "metadata": {
    "collapsed": true
   },
   "outputs": [],
   "source": [
    "bad_and_disagree = (bad_conversations & disagree_conversations - excluded)\n",
    "good_and_disagree = (disagree_conversations - bad_conversations - excluded)"
   ]
  },
  {
   "cell_type": "code",
   "execution_count": 17,
   "metadata": {
    "collapsed": true
   },
   "outputs": [],
   "source": [
    "def attacker_in_conv(conv):\n",
    "    actions = conv['action_feature']\n",
    "    end_time = max([a['timestamp_in_sec'] for a in actions])\n",
    "    attacker = None\n",
    "    for a in actions:\n",
    "        if a['timestamp_in_sec'] == end_time:\n",
    "            attacker = a['user_text']\n",
    "    for a in actions:\n",
    "        if a['timestamp_in_sec'] < end_time and a['user_text'] == attacker:\n",
    "            return True\n",
    "    return False"
   ]
  },
  {
   "cell_type": "code",
   "execution_count": 30,
   "metadata": {},
   "outputs": [
    {
     "data": {
      "text/plain": [
       "5078"
      ]
     },
     "execution_count": 30,
     "metadata": {},
     "output_type": "execute_result"
    }
   ],
   "source": [
    "len(cleaned_data)"
   ]
  },
  {
   "cell_type": "code",
   "execution_count": 32,
   "metadata": {
    "collapsed": true
   },
   "outputs": [],
   "source": [
    "data = []\n",
    "bad_disagree = []\n",
    "good_disagree = []\n",
    "xs = []\n",
    "total_bad = 0\n",
    "total_good = 0\n",
    "for line in cleaned_data:\n",
    "    conv_id, clss, conversation = line\n",
    "    idlist = [k['id'] for k in conversation['action_feature']]\n",
    "    is_annotated = not(annotated.isdisjoint(idlist))\n",
    "    is_excluded = not(excluded.isdisjoint(idlist))\n",
    "    is_bd = not(bad_and_disagree.isdisjoint(idlist))\n",
    "    is_gd = not(good_and_disagree.isdisjoint(idlist))\n",
    "    annotated_class = bad_conversations.isdisjoint(idlist)\n",
    "    same_class = (int(annotated_class) == clss)\n",
    "    if 'good_conversation_id' in conversation['action_feature'][0]:\n",
    "        matched_id = conversation['action_feature'][0]['good_conversation_id']\n",
    "    else:\n",
    "        matched_id = conversation['action_feature'][0]['bad_conversation_id']\n",
    "    dt = {'conversation_id': conv_id, 'annotated': is_annotated, 'excluded': is_excluded, \\\n",
    "        'annotated_class': annotated_class, 'class': clss, 'matched_id': matched_id, 'same_class': same_class}\n",
    "    if is_bd and not(is_excluded) and is_annotated:\n",
    "        bad_disagree.append(dt)\n",
    "    if is_gd and not(is_excluded):\n",
    "        good_disagree.append(dt)\n",
    "    if annotated_class:\n",
    "        total_good += 1\n",
    "    else:total_bad += 1\n",
    "    data.append(dt)"
   ]
  },
  {
   "cell_type": "code",
   "execution_count": 40,
   "metadata": {},
   "outputs": [
    {
     "name": "stdout",
     "output_type": "stream",
     "text": [
      "Number of bad conversations with disagreement : 1291\n",
      "Total Number of bad conversations: 1334\n",
      "Number of good conversations with disagreement : 2897\n",
      "Total Number of bad conversations: 3744\n",
      "Good conversations with disagreement / good conversations: 0.7737713675213675\n",
      "Bad conversations with disagreement / bad conversations: 0.9677661169415293\n",
      "Bad conversations with disagreement / all conversations with disagreement 0.30826170009551096\n",
      "Number of bad conversations / all conversations: 0.26270185112248917\n"
     ]
    }
   ],
   "source": [
    "bad_but_disagree = pd.DataFrame(bad_disagree)\n",
    "good_but_disagree = pd.DataFrame(good_disagree)\n",
    "print('Number of bad conversations with disagreement :', len(bad_but_disagree))\n",
    "print('Total Number of bad conversations:', total_bad)\n",
    "print('Number of good conversations with disagreement :', len(good_but_disagree))\n",
    "print('Total Number of bad conversations:', total_good)\n",
    "print('Good conversations with disagreement / good conversations:', len(good_but_disagree) / total_good)\n",
    "print('Bad conversations with disagreement / bad conversations:', len(bad_but_disagree) / total_bad)\n",
    "print('Bad conversations with disagreement / all conversations with disagreement', len(bad_but_disagree) / (len(good_but_disagree) + len(bad_but_disagree)))\n",
    "print('Number of bad conversations / all conversations:', total_bad/(total_bad+total_good))"
   ]
  },
  {
   "cell_type": "code",
   "execution_count": 33,
   "metadata": {},
   "outputs": [
    {
     "name": "stdout",
     "output_type": "stream",
     "text": [
      "3602\n",
      "4744\n",
      "0.7592748735244519\n"
     ]
    }
   ],
   "source": [
    "\n"
   ]
  },
  {
   "cell_type": "code",
   "execution_count": 152,
   "metadata": {},
   "outputs": [
    {
     "data": {
      "text/plain": [
       "0.31650853889943076"
      ]
     },
     "execution_count": 152,
     "metadata": {},
     "output_type": "execute_result"
    }
   ],
   "source": [
    "1668/(1668+3602) # toxic&disagree / all disagree"
   ]
  },
  {
   "cell_type": "code",
   "execution_count": 153,
   "metadata": {},
   "outputs": [
    {
     "data": {
      "text/plain": [
       "0.2660891089108911"
      ]
     },
     "execution_count": 153,
     "metadata": {},
     "output_type": "execute_result"
    }
   ],
   "source": [
    "1720/(1720+4744) # toxic / all_data"
   ]
  },
  {
   "cell_type": "code",
   "execution_count": 38,
   "metadata": {},
   "outputs": [
    {
     "name": "stdout",
     "output_type": "stream",
     "text": [
      "Number of Conversations Annotated: 4306\n",
      "Number of Conversations Excluded: 118\n",
      "Number of Conversations left: 2066\n"
     ]
    }
   ],
   "source": [
    "annotation_aggregated = pd.DataFrame(data)\n",
    "print('Number of Conversations Annotated:', len(annotation_aggregated[annotation_aggregated['annotated'] == True]))\n",
    "print('Number of Conversations Excluded:', len(annotation_aggregated[annotation_aggregated['excluded'] == True]))\n",
    "annotation_aggregated = annotation_aggregated[(annotation_aggregated['annotated'] == True)\\\n",
    "                                              & (annotation_aggregated['excluded'] == False)\\\n",
    "                                              & (annotation_aggregated['same_class'] == True)]\n",
    "left_ids = annotation_aggregated['conversation_id'].values.tolist()\n",
    "annotation_aggregated = annotation_aggregated[annotation_aggregated['matched_id'].isin(left_ids)]\n",
    "print('Number of Conversations left:', len(annotation_aggregated))"
   ]
  },
  {
   "cell_type": "code",
   "execution_count": 114,
   "metadata": {
    "collapsed": true
   },
   "outputs": [],
   "source": [
    "verified_pairs = annotation_aggregated['conversation_id'].values.tolist()\n",
    "conv_df = conv_df[conv_df['conv_id'].isin(verified_pairs)]"
   ]
  },
  {
   "cell_type": "code",
   "execution_count": 115,
   "metadata": {
    "collapsed": true
   },
   "outputs": [],
   "source": [
    "conv_df = conv_df.set_index('conv_id')"
   ]
  },
  {
   "cell_type": "code",
   "execution_count": 126,
   "metadata": {
    "collapsed": true
   },
   "outputs": [],
   "source": [
    "for var in ['toxicity', 'disagree', 'lead_to_toxic']:\n",
    "    conv_df['%s_equals'%(var)] = conv_df.apply(lambda x: 1 if conv_df.loc[x['matched_id']]['%s_score'%(var)] == x['%s_score'%(var)] else 0, axis=1)\n",
    "    conv_df['%s_annotation'%(var)] = conv_df.apply(lambda x: 1 if conv_df.loc[x['matched_id']]['%s_score'%(var)] > x['%s_score'%(var)] else 0, axis=1)"
   ]
  },
  {
   "cell_type": "code",
   "execution_count": 119,
   "metadata": {},
   "outputs": [
    {
     "data": {
      "text/plain": [
       "0.3465634075508228"
      ]
     },
     "execution_count": 119,
     "metadata": {},
     "output_type": "execute_result"
    }
   ],
   "source": [
    "716 / 2066"
   ]
  },
  {
   "cell_type": "code",
   "execution_count": 117,
   "metadata": {},
   "outputs": [
    {
     "data": {
      "text/html": [
       "<div>\n",
       "<style>\n",
       "    .dataframe thead tr:only-child th {\n",
       "        text-align: right;\n",
       "    }\n",
       "\n",
       "    .dataframe thead th {\n",
       "        text-align: left;\n",
       "    }\n",
       "\n",
       "    .dataframe tbody tr th {\n",
       "        vertical-align: top;\n",
       "    }\n",
       "</style>\n",
       "<table border=\"1\" class=\"dataframe\">\n",
       "  <thead>\n",
       "    <tr style=\"text-align: right;\">\n",
       "      <th></th>\n",
       "      <th>class</th>\n",
       "      <th>matched_id</th>\n",
       "      <th>toxicity_score</th>\n",
       "      <th>disagree_score</th>\n",
       "      <th>lead_to_toxic_score</th>\n",
       "      <th>no_annotators</th>\n",
       "      <th>toxicity_equals</th>\n",
       "      <th>toxicity_annotation</th>\n",
       "      <th>disagree_equals</th>\n",
       "      <th>disagree_annotation</th>\n",
       "      <th>lead_to_toxic_equals</th>\n",
       "      <th>lead_to_toxic_annotation</th>\n",
       "    </tr>\n",
       "    <tr>\n",
       "      <th>conv_id</th>\n",
       "      <th></th>\n",
       "      <th></th>\n",
       "      <th></th>\n",
       "      <th></th>\n",
       "      <th></th>\n",
       "      <th></th>\n",
       "      <th></th>\n",
       "      <th></th>\n",
       "      <th></th>\n",
       "      <th></th>\n",
       "      <th></th>\n",
       "      <th></th>\n",
       "    </tr>\n",
       "  </thead>\n",
       "  <tbody>\n",
       "    <tr>\n",
       "      <th>190487534.13440.13440</th>\n",
       "      <td>1</td>\n",
       "      <td>190997014.13874.13874</td>\n",
       "      <td>0.000000</td>\n",
       "      <td>0.000000</td>\n",
       "      <td>-1.80</td>\n",
       "      <td>5</td>\n",
       "      <td>1</td>\n",
       "      <td>1</td>\n",
       "      <td>0</td>\n",
       "      <td>0</td>\n",
       "      <td>0</td>\n",
       "      <td>1</td>\n",
       "    </tr>\n",
       "    <tr>\n",
       "      <th>316716601.2.2</th>\n",
       "      <td>1</td>\n",
       "      <td>316528439.2682.2682</td>\n",
       "      <td>0.000000</td>\n",
       "      <td>0.350000</td>\n",
       "      <td>-1.40</td>\n",
       "      <td>20</td>\n",
       "      <td>0</td>\n",
       "      <td>0</td>\n",
       "      <td>0</td>\n",
       "      <td>1</td>\n",
       "      <td>1</td>\n",
       "      <td>1</td>\n",
       "    </tr>\n",
       "    <tr>\n",
       "      <th>98633047.3430.3430</th>\n",
       "      <td>1</td>\n",
       "      <td>98902400.5863.5863</td>\n",
       "      <td>0.000000</td>\n",
       "      <td>0.000000</td>\n",
       "      <td>-2.00</td>\n",
       "      <td>5</td>\n",
       "      <td>0</td>\n",
       "      <td>0</td>\n",
       "      <td>0</td>\n",
       "      <td>0</td>\n",
       "      <td>0</td>\n",
       "      <td>0</td>\n",
       "    </tr>\n",
       "    <tr>\n",
       "      <th>193889268.1595.1595</th>\n",
       "      <td>1</td>\n",
       "      <td>193845128.960.960</td>\n",
       "      <td>0.000000</td>\n",
       "      <td>0.200000</td>\n",
       "      <td>-1.80</td>\n",
       "      <td>5</td>\n",
       "      <td>0</td>\n",
       "      <td>0</td>\n",
       "      <td>0</td>\n",
       "      <td>0</td>\n",
       "      <td>0</td>\n",
       "      <td>0</td>\n",
       "    </tr>\n",
       "    <tr>\n",
       "      <th>257450657.21131.21131</th>\n",
       "      <td>1</td>\n",
       "      <td>255747452.20375.20375</td>\n",
       "      <td>0.150000</td>\n",
       "      <td>0.150000</td>\n",
       "      <td>-1.15</td>\n",
       "      <td>20</td>\n",
       "      <td>1</td>\n",
       "      <td>1</td>\n",
       "      <td>0</td>\n",
       "      <td>0</td>\n",
       "      <td>0</td>\n",
       "      <td>0</td>\n",
       "    </tr>\n",
       "    <tr>\n",
       "      <th>166342666.20.23</th>\n",
       "      <td>1</td>\n",
       "      <td>165653948.0.0</td>\n",
       "      <td>0.150000</td>\n",
       "      <td>0.450000</td>\n",
       "      <td>-0.80</td>\n",
       "      <td>20</td>\n",
       "      <td>0</td>\n",
       "      <td>1</td>\n",
       "      <td>0</td>\n",
       "      <td>1</td>\n",
       "      <td>0</td>\n",
       "      <td>1</td>\n",
       "    </tr>\n",
       "    <tr>\n",
       "      <th>603098444.13856.13856</th>\n",
       "      <td>1</td>\n",
       "      <td>603068273.12038.12038</td>\n",
       "      <td>0.000000</td>\n",
       "      <td>0.400000</td>\n",
       "      <td>-1.40</td>\n",
       "      <td>5</td>\n",
       "      <td>0</td>\n",
       "      <td>0</td>\n",
       "      <td>0</td>\n",
       "      <td>0</td>\n",
       "      <td>0</td>\n",
       "      <td>0</td>\n",
       "    </tr>\n",
       "    <tr>\n",
       "      <th>188493057.9027.9027</th>\n",
       "      <td>1</td>\n",
       "      <td>184657238.8439.8439</td>\n",
       "      <td>0.050000</td>\n",
       "      <td>0.650000</td>\n",
       "      <td>-1.30</td>\n",
       "      <td>20</td>\n",
       "      <td>0</td>\n",
       "      <td>0</td>\n",
       "      <td>0</td>\n",
       "      <td>1</td>\n",
       "      <td>0</td>\n",
       "      <td>0</td>\n",
       "    </tr>\n",
       "    <tr>\n",
       "      <th>223998422.18889.18889</th>\n",
       "      <td>1</td>\n",
       "      <td>295010253.32943.32943</td>\n",
       "      <td>0.166667</td>\n",
       "      <td>0.300000</td>\n",
       "      <td>-0.65</td>\n",
       "      <td>20</td>\n",
       "      <td>0</td>\n",
       "      <td>0</td>\n",
       "      <td>0</td>\n",
       "      <td>0</td>\n",
       "      <td>0</td>\n",
       "      <td>0</td>\n",
       "    </tr>\n",
       "    <tr>\n",
       "      <th>667264776.1516.1516</th>\n",
       "      <td>1</td>\n",
       "      <td>658888258.158.158</td>\n",
       "      <td>0.000000</td>\n",
       "      <td>0.315789</td>\n",
       "      <td>-1.55</td>\n",
       "      <td>20</td>\n",
       "      <td>0</td>\n",
       "      <td>0</td>\n",
       "      <td>0</td>\n",
       "      <td>0</td>\n",
       "      <td>0</td>\n",
       "      <td>0</td>\n",
       "    </tr>\n",
       "  </tbody>\n",
       "</table>\n",
       "</div>"
      ],
      "text/plain": [
       "                       class             matched_id  toxicity_score  \\\n",
       "conv_id                                                               \n",
       "190487534.13440.13440      1  190997014.13874.13874        0.000000   \n",
       "316716601.2.2              1    316528439.2682.2682        0.000000   \n",
       "98633047.3430.3430         1     98902400.5863.5863        0.000000   \n",
       "193889268.1595.1595        1      193845128.960.960        0.000000   \n",
       "257450657.21131.21131      1  255747452.20375.20375        0.150000   \n",
       "166342666.20.23            1          165653948.0.0        0.150000   \n",
       "603098444.13856.13856      1  603068273.12038.12038        0.000000   \n",
       "188493057.9027.9027        1    184657238.8439.8439        0.050000   \n",
       "223998422.18889.18889      1  295010253.32943.32943        0.166667   \n",
       "667264776.1516.1516        1      658888258.158.158        0.000000   \n",
       "\n",
       "                       disagree_score  lead_to_toxic_score  no_annotators  \\\n",
       "conv_id                                                                     \n",
       "190487534.13440.13440        0.000000                -1.80              5   \n",
       "316716601.2.2                0.350000                -1.40             20   \n",
       "98633047.3430.3430           0.000000                -2.00              5   \n",
       "193889268.1595.1595          0.200000                -1.80              5   \n",
       "257450657.21131.21131        0.150000                -1.15             20   \n",
       "166342666.20.23              0.450000                -0.80             20   \n",
       "603098444.13856.13856        0.400000                -1.40              5   \n",
       "188493057.9027.9027          0.650000                -1.30             20   \n",
       "223998422.18889.18889        0.300000                -0.65             20   \n",
       "667264776.1516.1516          0.315789                -1.55             20   \n",
       "\n",
       "                       toxicity_equals  toxicity_annotation  disagree_equals  \\\n",
       "conv_id                                                                        \n",
       "190487534.13440.13440                1                    1                0   \n",
       "316716601.2.2                        0                    0                0   \n",
       "98633047.3430.3430                   0                    0                0   \n",
       "193889268.1595.1595                  0                    0                0   \n",
       "257450657.21131.21131                1                    1                0   \n",
       "166342666.20.23                      0                    1                0   \n",
       "603098444.13856.13856                0                    0                0   \n",
       "188493057.9027.9027                  0                    0                0   \n",
       "223998422.18889.18889                0                    0                0   \n",
       "667264776.1516.1516                  0                    0                0   \n",
       "\n",
       "                       disagree_annotation  lead_to_toxic_equals  \\\n",
       "conv_id                                                            \n",
       "190487534.13440.13440                    0                     0   \n",
       "316716601.2.2                            1                     1   \n",
       "98633047.3430.3430                       0                     0   \n",
       "193889268.1595.1595                      0                     0   \n",
       "257450657.21131.21131                    0                     0   \n",
       "166342666.20.23                          1                     0   \n",
       "603098444.13856.13856                    0                     0   \n",
       "188493057.9027.9027                      1                     0   \n",
       "223998422.18889.18889                    0                     0   \n",
       "667264776.1516.1516                      0                     0   \n",
       "\n",
       "                       lead_to_toxic_annotation  \n",
       "conv_id                                          \n",
       "190487534.13440.13440                         1  \n",
       "316716601.2.2                                 1  \n",
       "98633047.3430.3430                            0  \n",
       "193889268.1595.1595                           0  \n",
       "257450657.21131.21131                         0  \n",
       "166342666.20.23                               1  \n",
       "603098444.13856.13856                         0  \n",
       "188493057.9027.9027                           0  \n",
       "223998422.18889.18889                         0  \n",
       "667264776.1516.1516                           0  "
      ]
     },
     "execution_count": 117,
     "metadata": {},
     "output_type": "execute_result"
    }
   ],
   "source": [
    "conv_df.tail(10)"
   ]
  },
  {
   "cell_type": "code",
   "execution_count": 125,
   "metadata": {},
   "outputs": [
    {
     "data": {
      "text/plain": [
       "class                                         0\n",
       "matched_id                  193889268.1595.1595\n",
       "toxicity_score                              0.3\n",
       "disagree_score                             0.45\n",
       "lead_to_toxic_score                       -0.55\n",
       "no_annotators                                20\n",
       "toxicity_equals                               0\n",
       "toxicity_annotation                           1\n",
       "disagree_equals                               0\n",
       "disagree_annotation                           1\n",
       "lead_to_toxic_equals                          0\n",
       "lead_to_toxic_annotation                      1\n",
       "Name: 193845128.960.960, dtype: object"
      ]
     },
     "execution_count": 125,
     "metadata": {},
     "output_type": "execute_result"
    }
   ],
   "source": [
    "conv_df.loc['193845128.960.960']"
   ]
  },
  {
   "cell_type": "code",
   "execution_count": 127,
   "metadata": {},
   "outputs": [
    {
     "name": "stdout",
     "output_type": "stream",
     "text": [
      "toxicity accuracy : 0.5663117134559535\n",
      "toxicity number of equals: 716\n",
      "toxicity accuracy without equals: 0.6014814814814815\n",
      "\n",
      "\n",
      "disagree accuracy : 0.5575992255566312\n",
      "disagree number of equals: 112\n",
      "disagree accuracy without equals: 0.5609007164790174\n",
      "\n",
      "\n",
      "lead_to_toxic accuracy : 0.5595353339787028\n",
      "lead_to_toxic number of equals: 84\n",
      "lead_to_toxic accuracy without equals: 0.562058526740666\n",
      "\n",
      "\n"
     ]
    }
   ],
   "source": [
    "for var in ['toxicity', 'disagree', 'lead_to_toxic']:\n",
    "    print(var + ' accuracy :', len(conv_df[conv_df['%s_annotation'%(var)] == conv_df['class']]) / len(conv_df))\n",
    "    tmp_df = conv_df[conv_df['%s_equals'%var] == 0]\n",
    "    print(var + ' number of equals:', len(conv_df) - len(tmp_df))\n",
    "    print(var + ' accuracy without equals:', len(tmp_df[tmp_df['%s_annotation'%(var)] == tmp_df['class']]) \\\n",
    "        / len(tmp_df))\n",
    "    print('\\n')"
   ]
  },
  {
   "cell_type": "code",
   "execution_count": 134,
   "metadata": {},
   "outputs": [
    {
     "name": "stderr",
     "output_type": "stream",
     "text": [
      "/home/yiqing/miniconda3/lib/python3.6/site-packages/ipykernel/__main__.py:3: SettingWithCopyWarning: \n",
      "A value is trying to be set on a copy of a slice from a DataFrame.\n",
      "Try using .loc[row_indexer,col_indexer] = value instead\n",
      "\n",
      "See the caveats in the documentation: http://pandas.pydata.org/pandas-docs/stable/indexing.html#indexing-view-versus-copy\n",
      "  app.launch_new_instance()\n"
     ]
    },
    {
     "data": {
      "image/png": "[encoded data removed]",
      "text/plain": [
       "<matplotlib.figure.Figure at 0x7f40aa667fd0>"
      ]
     },
     "metadata": {},
     "output_type": "display_data"
    },
    {
     "name": "stdout",
     "output_type": "stream",
     "text": [
      "Bad - Good < 0 269\n",
      "Bad - Good > 0 406\n",
      "Bad - Good == 0 358\n"
     ]
    },
    {
     "data": {
      "image/png": "[encoded data removed]",
      "text/plain": [
       "<matplotlib.figure.Figure at 0x7f41266dbfd0>"
      ]
     },
     "metadata": {},
     "output_type": "display_data"
    },
    {
     "name": "stdout",
     "output_type": "stream",
     "text": [
      "Bad - Good < 0 429\n",
      "Bad - Good > 0 548\n",
      "Bad - Good == 0 56\n"
     ]
    },
    {
     "data": {
      "image/png": "[encoded data removed]",
      "text/plain": [
       "<matplotlib.figure.Figure at 0x7f41397f2fd0>"
      ]
     },
     "metadata": {},
     "output_type": "display_data"
    },
    {
     "name": "stdout",
     "output_type": "stream",
     "text": [
      "Bad - Good < 0 434\n",
      "Bad - Good > 0 557\n",
      "Bad - Good == 0 42\n"
     ]
    }
   ],
   "source": [
    "for var in ['toxicity', 'disagree', 'lead_to_toxic']:\n",
    "    all_good = conv_df[conv_df['class'] == 1]\n",
    "    all_good['%s_gap'%(var)] = all_good.apply(lambda x: conv_df.loc[x['matched_id']]['%s_score'%(var)] - x['%s_score'%(var)], axis=1)\n",
    "    plt.figure()\n",
    "    all_good['%s_gap'%(var)].plot.hist(alpha=0.5)\n",
    "    plt.xlabel('Bad - Good : human annotation on %s'%(var))\n",
    "    plt.show()\n",
    "    print('Bad - Good < 0', len(all_good[all_good['%s_gap'%(var)] < 0]))\n",
    "    print('Bad - Good > 0', len(all_good[all_good['%s_gap'%(var)] > 0]))\n",
    "    print('Bad - Good == 0', len(all_good[all_good['%s_gap'%(var)] == 0]))"
   ]
  },
  {
   "cell_type": "code",
   "execution_count": 15,
   "metadata": {
    "collapsed": true
   },
   "outputs": [],
   "source": [
    "verified_pairs = annotation_aggregated['conversation_id'].values.tolist()\n",
    "goods = {}\n",
    "bads = []\n",
    "all_data = {}\n",
    "with open('/scratch/wiki_dumps/expr_with_matching/delta2_no_users_attacker_in_conv/data/all_verified.json', 'w') as w:\n",
    "    with open('/scratch/wiki_dumps/expr_with_matching/delta2_no_users_attacker_in_conv/data/all.json') as f:\n",
    "        for line in f:\n",
    "            conv_id, clss, conversation = json.loads(line)\n",
    "            if conv_id in verified_pairs:\n",
    "                w.write(json.dumps([conv_id, clss, conversation]) + '\\n')\n",
    "                all_data[conv_id] = [conv_id, clss, conversation]\n",
    "                if clss == 0:\n",
    "                    bads.append([conv_id, clss, conversation])\n",
    "                    goods[conv_id] = all_data[conversation['action_feature'][0]['good_conversation_id']]"
   ]
  },
  {
   "cell_type": "markdown",
   "metadata": {},
   "source": [
    "# Annotator Agreement"
   ]
  },
  {
   "cell_type": "code",
   "execution_count": 9,
   "metadata": {
    "collapsed": true
   },
   "outputs": [],
   "source": [
    "TOXIC_COLUMNS = ['no_toxic', 'toxic']\n",
    "\n",
    "no_toxic = pd.DataFrame({'no_toxic': df[df['toxic'] == 0].groupby('_unit_id').size()}).reset_index().set_index('_unit_id')\n",
    "toxic = pd.DataFrame({'toxic': df[df['toxic'] == 1].groupby('_unit_id').size()}).reset_index().set_index('_unit_id')\n",
    "total = toxic.join(no_toxic, how='outer')\n",
    "total = total.fillna(int(0)).reset_index()\n",
    "total['sum'] = total['toxic'] + total['no_toxic']\n",
    "#total = total[total['sum'] ==20]\n",
    "\n",
    "len(total[total['sum'] >=20]) / len(total)\n",
    "\n",
    "total = total[total['sum'] == 5]\n",
    "\n",
    "total['toxic'] = total.apply(lambda x: int(x['toxic']), axis=1)\n",
    "\n",
    "total['sum'] = total['toxic'] + total['no_toxic']\n",
    "\n",
    "total[['sum']].plot.hist\n",
    "\n",
    "n,bins,batches = plt.hist(total['no_toxic'])\n",
    "\n",
    "len(total[total['no_toxic'] > 20]) / len(total)\n",
    "\n",
    "plt.show()\n",
    "\n",
    "total = total[~(total['_unit_id'].isin(_excluded))]\n",
    "\n",
    "print(len(total), Krippendorf_alpha(total, TOXIC_COLUMNS))"
   ]
  },
  {
   "cell_type": "code",
   "execution_count": 164,
   "metadata": {},
   "outputs": [
    {
     "name": "stdout",
     "output_type": "stream",
     "text": [
      "2643 0.282819056548\n"
     ]
    }
   ],
   "source": [
    "TOXIC_COLUMNS = ['no_toxic', 'toxic']\n",
    "\n",
    "no_toxic = pd.DataFrame({'no_toxic': df[df['toxic'] == 0].groupby('_unit_id').size()}).reset_index().set_index('_unit_id')\n",
    "toxic = pd.DataFrame({'toxic': df[df['toxic'] == 1].groupby('_unit_id').size()}).reset_index().set_index('_unit_id')\n",
    "total = toxic.join(no_toxic, how='outer')\n",
    "total = total.fillna(0).reset_index()\n",
    "total['sum'] = total['toxic'] + total['no_toxic']\n",
    "total = total[total['sum'] ==20]"
   ]
  }
 ],
 "metadata": {
  "kernelspec": {
   "display_name": "Python [default]",
   "language": "python",
   "name": "python3"
  },
  "language_info": {
   "codemirror_mode": {
    "name": "ipython",
    "version": 3
   },
   "file_extension": ".py",
   "mimetype": "text/x-python",
   "name": "python",
   "nbconvert_exporter": "python",
   "pygments_lexer": "ipython3",
   "version": "3.6.1"
  }
 },
 "nbformat": 4,
 "nbformat_minor": 2
}
