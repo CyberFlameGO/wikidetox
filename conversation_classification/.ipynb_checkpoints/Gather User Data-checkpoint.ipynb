{
 "cells": [
  {
   "cell_type": "code",
   "execution_count": 2,
   "metadata": {
    "collapsed": true
   },
   "outputs": [],
   "source": [
    "import json\n",
    "import pickle as cPickle\n",
    "import numpy as np\n",
    "from collections import defaultdict\n",
    "import os\n",
    "import csv\n",
    "import datetime\n",
    "import pandas as pd\n",
    "import requests"
   ]
  },
  {
   "cell_type": "code",
   "execution_count": null,
   "metadata": {
    "collapsed": true
   },
   "outputs": [],
   "source": [
    "def load_data(page):\n",
    "    apilink = 'https://en.wikipedia.org/w/api.php'\n",
    "    ususers = '|'.join(usrlist) #seperated by '|' #'ususers=' + \n",
    "    usprop = 'blockinfo|groups|editcount|registration|emailable|gender' #'usprop=\n",
    "\n",
    "    #?action=query&list=users&format=json'\n",
    "    response = requests.get(apilink, \n",
    "              params={'action': 'query', 'titles': page, 'prop': 'info', 'inprop': subjectid, 'usprop': usprop}) \n",
    "    data = response.json()\n",
    "    return data['query']"
   ]
  },
  {
   "cell_type": "code",
   "execution_count": null,
   "metadata": {
    "collapsed": true
   },
   "outputs": [],
   "source": [
    "#api.php?action=query&titles=Albert%20Einstein&prop=info&intestactions=edit|delete|rollback&formatversion=2"
   ]
  },
  {
   "cell_type": "code",
   "execution_count": 6,
   "metadata": {
    "collapsed": true
   },
   "outputs": [],
   "source": [
    "constraints = ['delta2_no_users', 'delta2_no_users_attacker_in_conv']"
   ]
  },
  {
   "cell_type": "code",
   "execution_count": 7,
   "metadata": {
    "collapsed": true
   },
   "outputs": [],
   "source": [
    "users = defaultdict(list)"
   ]
  },
  {
   "cell_type": "code",
   "execution_count": 8,
   "metadata": {},
   "outputs": [],
   "source": [
    "for constraint in constraints:\n",
    "    with open('/scratch/wiki_dumps/expr_with_matching/%s/data/all.json'%(constraint)) as f:\n",
    "        for line in f:\n",
    "            conv_id, clss, conversation = json.loads(line)\n",
    "            start_time = np.inf\n",
    "            for action in conversation['action_feature']:\n",
    "                start_time = max(start_time, action['timestamp_in_sec'])\n",
    "            for action in conversation['action_feature']:\n",
    "                if 'user_text' in action:\n",
    "                    users['user_text'].append(start_time)"
   ]
  },
  {
   "cell_type": "code",
   "execution_count": 9,
   "metadata": {
    "collapsed": true
   },
   "outputs": [],
   "source": [
    "with open('/scratch/wiki_dumps/user_data/user_timestamp_pair.json', 'w') as w:\n",
    "    json.dump(users,w)"
   ]
  },
  {
   "cell_type": "code",
   "execution_count": null,
   "metadata": {
    "collapsed": true
   },
   "outputs": [],
   "source": [
    "pages = {}\n",
    "for constraint in constraints:\n",
    "    with open('/scratch/wiki_dumps/expr_with_matching/%s/data/all.json'%(constraint)) as f:\n",
    "        for line in f:\n",
    "            conv_id, clss, conversation = json.loads(line)\n",
    "            page = conversation['action_feature'][0]['page_title']\n",
    "            pages[page] = "
   ]
  },
  {
   "cell_type": "code",
   "execution_count": null,
   "metadata": {
    "collapsed": true
   },
   "outputs": [],
   "source": [
    "with open('/scratch/wiki_dumps/user_data/user_timestamp_pair.json', 'w') as w:\n",
    "    json.dump(users,w)"
   ]
  },
  {
   "cell_type": "code",
   "execution_count": null,
   "metadata": {
    "collapsed": true
   },
   "outputs": [],
   "source": []
  },
  {
   "cell_type": "code",
   "execution_count": 20,
   "metadata": {},
   "outputs": [
    {
     "name": "stdout",
     "output_type": "stream",
     "text": [
      "45773\n"
     ]
    }
   ],
   "source": [
    "users_of_interest = list(users.keys())\n",
    "print(len(users_of_interest))\n",
    "with open('/scratch/wiki_dumps/user_data.json', 'w') as w:\n",
    "    json.dump(users_of_interest,w)"
   ]
  },
  {
   "cell_type": "code",
   "execution_count": 1,
   "metadata": {
    "collapsed": true
   },
   "outputs": [],
   "source": [
    "# Article Activity Data\n",
    "# From Toktrack https://zenodo.org/record/345571#.WdwhSyErLCL\n",
    "# revisions.7z\n",
    "# gather_user_data.py"
   ]
  },
  {
   "cell_type": "code",
   "execution_count": 3,
   "metadata": {
    "collapsed": true
   },
   "outputs": [],
   "source": [
    "# Metadata\n",
    "with open('/scratch/wiki_dumps/user_data/metadata.json') as f:\n",
    "    usrdata = json.load(f)\n",
    "values = set([])\n",
    "for user, data in usrdata.items():\n",
    "    if 'groups' in data:\n",
    "        values = values | set(data['groups'])"
   ]
  },
  {
   "cell_type": "code",
   "execution_count": null,
   "metadata": {
    "collapsed": true
   },
   "outputs": [],
   "source": [
    "# Talk Page Activity Data\n",
    "# Only Considering insertion"
   ]
  }
 ],
 "metadata": {
  "kernelspec": {
   "display_name": "Python [default]",
   "language": "python",
   "name": "python3"
  },
  "language_info": {
   "codemirror_mode": {
    "name": "ipython",
    "version": 3
   },
   "file_extension": ".py",
   "mimetype": "text/x-python",
   "name": "python",
   "nbconvert_exporter": "python",
   "pygments_lexer": "ipython3",
   "version": "3.6.1"
  }
 },
 "nbformat": 4,
 "nbformat_minor": 2
}
