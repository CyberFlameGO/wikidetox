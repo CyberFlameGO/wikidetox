{
 "cells": [
  {
   "cell_type": "code",
   "execution_count": 15,
   "metadata": {
    "collapsed": true
   },
   "outputs": [],
   "source": [
    "import json\n",
    "import numpy as np\n",
    "import matplotlib.mlab as mlab\n",
    "import matplotlib.pyplot as plt"
   ]
  },
  {
   "cell_type": "code",
   "execution_count": 149,
   "metadata": {
    "collapsed": true
   },
   "outputs": [],
   "source": [
    "total_has_bot = 0\n",
    "total = 0\n",
    "only_has_bot = 0\n",
    "length = [[], []]\n",
    "time_gap = [[], []]\n",
    "no_users = [[], []]\n",
    "with open('/scratch/wiki_dumps/train_test/all.json') as f:\n",
    "    for line in f:\n",
    "        conv_id, clss, conversation = json.loads(line)\n",
    "        actions = conversation['action_feature']\n",
    "        has_bot = 0\n",
    "        length[clss].append(len(actions))\n",
    "        max_time = 0\n",
    "        min_time = actions[0]['timestamp_in_sec']\n",
    "        users = {}\n",
    "        for action in actions:\n",
    "            if 'user_text' in action and 'bot' in action['user_text'].lower():\n",
    "                has_bot = 1\n",
    "            max_time = max(max_time, action['timestamp_in_sec'])\n",
    "            min_time = min(min_time, action['timestamp_in_sec'])\n",
    "            if 'user_text' in action:\n",
    "                users['user_text'] = True\n",
    "        no_users[clss].append(len(users.keys()))\n",
    "        time_gap[clss].append(max_time - min_time)\n",
    "        total_has_bot += has_bot\n",
    "        only_has_bot += int(has_bot / len(actions))\n",
    "        total += 1"
   ]
  },
  {
   "cell_type": "code",
   "execution_count": 10,
   "metadata": {},
   "outputs": [
    {
     "name": "stdout",
     "output_type": "stream",
     "text": [
      "0 6319 45032\n"
     ]
    }
   ],
   "source": [
    "print(only_has_bot, total_has_bot, total)"
   ]
  },
  {
   "cell_type": "code",
   "execution_count": 87,
   "metadata": {
    "collapsed": true
   },
   "outputs": [],
   "source": [
    "def bucketing(buckets, lst):\n",
    "    ret = []\n",
    "    cnt = []\n",
    "    for b in buckets:\n",
    "        cnt.append(0)\n",
    "    for item in lst:\n",
    "        last = buckets[0]\n",
    "        r = 0\n",
    "        for b in buckets[1:]:\n",
    "            if item >= last and item < b:\n",
    "                break\n",
    "            r += 1\n",
    "        cnt[r] += 1\n",
    "    return cnt"
   ]
  },
  {
   "cell_type": "code",
   "execution_count": 92,
   "metadata": {
    "collapsed": true
   },
   "outputs": [],
   "source": [
    "buckets = [0, 1, 2, 3, 4, 5, 6, 7, 8, 9, 10, 11]\n",
    "bucket_name = ['0', '1', '2', '3', '4', '5', '6', '7', '8', '9', '10', '>10']\n",
    "bl = [[], []]\n",
    "bl[0] = bucketing(buckets, length[0])\n",
    "bl[1] = bucketing(buckets, length[1])"
   ]
  },
  {
   "cell_type": "code",
   "execution_count": 144,
   "metadata": {},
   "outputs": [],
   "source": [
    "buckets = [0, 60, 60*60, 60*60*24, 60*60*24*7, 60*60*24*15, 60*60*24*30, 60*60*24*30*6, 60*60*24*365]\n",
    "bucket_name = ['In a Minute', 'In an Hour', 'In a Day', 'In a Week', 'In two Weeks', 'In a Month', \\\n",
    "               'In Half a Year', 'In a Year', '> a Year']\n",
    "tl = [[], []]\n",
    "tl[0] = bucketing(buckets, time_gap[0])\n",
    "tl[1] = bucketing(buckets, time_gap[1])"
   ]
  },
  {
   "cell_type": "code",
   "execution_count": 147,
   "metadata": {},
   "outputs": [],
   "source": [
    "def hist(buckets, x, y, xlabel, title):\n",
    "    \n",
    "    fig = plt.figure(figsize=(15,10))\n",
    "    ax = fig.add_subplot(111)\n",
    "\n",
    "    ## the data\n",
    "    N = len(buckets)\n",
    "\n",
    "    ## necessary variables\n",
    "    ind = np.arange(N)                # the x locations for the groups\n",
    "    width = 0.45                      # the width of the bars\n",
    "\n",
    "    ## the bars\n",
    "    rects1 = ax.bar(ind+0.26, x, width,\n",
    "                    color='red',\n",
    "                    alpha = 0.35)\n",
    "\n",
    "    rects2 = ax.bar(ind+width+0.26, y, width,\n",
    "                        color='blue',\n",
    "                        alpha=0.5)\n",
    "\n",
    "    # axes and labels\n",
    "    ax.set_xlim(-width,len(ind)+width)\n",
    "   # ax.set_ylim(0,45)\n",
    "    ax.set_ylabel('Number of Conversations')\n",
    "    ax.set_xlabel(xlabel)\n",
    "    ax.set_title(title)\n",
    "    xTickMarks = buckets\n",
    "    ax.set_xticks(ind+width)\n",
    "    xtickNames = ax.set_xticklabels(xTickMarks)\n",
    "    plt.setp(xtickNames, rotation=45, fontsize=10)\n",
    "\n",
    "    ## add a legend\n",
    "    ax.legend( (rects1[0], rects2[0]), ('Bad', 'Good') )\n",
    "    for item in ([ax.title, ax.xaxis.label, ax.yaxis.label] +\n",
    "             ax.get_xticklabels() + ax.get_yticklabels()):\n",
    "        item.set_fontsize(15)\n",
    "\n",
    "    plt.show()"
   ]
  },
  {
   "cell_type": "code",
   "execution_count": 148,
   "metadata": {},
   "outputs": [
    {
     "data": {
      "image/png": "[encoded data removed]",
      "text/plain": [
       "<matplotlib.figure.Figure at 0x7f113095f358>"
      ]
     },
     "metadata": {},
     "output_type": "display_data"
    }
   ],
   "source": [
    "hist(bucket_name, tl[0], tl[1], 'Duration', 'Number of Conversations with Certain Length of Duration')"
   ]
  },
  {
   "cell_type": "code",
   "execution_count": 7,
   "metadata": {
    "collapsed": true
   },
   "outputs": [],
   "source": [
    "total_has_bot = 0\n",
    "total = 0\n",
    "with open('/scratch/wiki_dumps/train_test/len5-all.json') as f:\n",
    "    for line in f:\n",
    "        conv_id, clss, conversation = json.loads(line)\n",
    "        actions = conversation['action_feature']\n",
    "        has_bot = 0\n",
    "        for action in actions:\n",
    "            if 'user_text' in action and 'bot' in action['user_text'].lower():\n",
    "                has_bot = 1\n",
    "        total_has_bot += has_bot\n",
    "        total += 1"
   ]
  },
  {
   "cell_type": "code",
   "execution_count": 8,
   "metadata": {},
   "outputs": [
    {
     "name": "stdout",
     "output_type": "stream",
     "text": [
      "2894 17150\n"
     ]
    }
   ],
   "source": [
    "print(total_has_bot, total)"
   ]
  },
  {
   "cell_type": "code",
   "execution_count": null,
   "metadata": {
    "collapsed": true
   },
   "outputs": [],
   "source": []
  }
 ],
 "metadata": {
  "kernelspec": {
   "display_name": "Python [default]",
   "language": "python",
   "name": "python3"
  },
  "language_info": {
   "codemirror_mode": {
    "name": "ipython",
    "version": 3
   },
   "file_extension": ".py",
   "mimetype": "text/x-python",
   "name": "python",
   "nbconvert_exporter": "python",
   "pygments_lexer": "ipython3",
   "version": "3.6.1"
  }
 },
 "nbformat": 4,
 "nbformat_minor": 2
}
