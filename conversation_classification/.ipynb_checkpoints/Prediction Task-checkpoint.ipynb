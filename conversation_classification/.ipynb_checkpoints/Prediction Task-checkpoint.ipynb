{
 "cells": [
  {
   "cell_type": "code",
   "execution_count": 3,
   "metadata": {
    "collapsed": true
   },
   "outputs": [],
   "source": [
    "import json\n",
    "import pickle as cPickle\n",
    "import numpy as np\n",
    "\n",
    "from sklearn import svm\n",
    "from scipy.sparse import csr_matrix\n",
    "from sklearn.model_selection import GridSearchCV, cross_val_score\n",
    "from sklearn.metrics import classification_report\n",
    "import random\n",
    "import matplotlib.pyplot as plt\n",
    "\n",
    "from collections import defaultdict\n",
    "import math\n",
    "from sklearn import preprocessing\n",
    "\n",
    "from sklearn.feature_selection import SelectKBest\n",
    "from sklearn.feature_selection import chi2\n",
    "from scipy.stats import spearmanr"
   ]
  },
  {
   "cell_type": "code",
   "execution_count": null,
   "metadata": {
    "collapsed": true
   },
   "outputs": [],
   "source": [
    "# add spearman correlation\n",
    "# change name of the features: graph_feature_..., linguistic_feature_...\n",
    "\n",
    "# Experiment on the smaller set (4-6-bad_convs)"
   ]
  },
  {
   "cell_type": "code",
   "execution_count": 4,
   "metadata": {
    "collapsed": true
   },
   "outputs": [],
   "source": [
    "constraints = ['none', 'no_users', 'attacker_in_conv', 'no_users_attacker_in_conv']"
   ]
  },
  {
   "cell_type": "code",
   "execution_count": 5,
   "metadata": {
    "collapsed": true
   },
   "outputs": [],
   "source": [
    "constraint = constraints[3]"
   ]
  },
  {
   "cell_type": "code",
   "execution_count": 6,
   "metadata": {
    "collapsed": true
   },
   "outputs": [],
   "source": [
    "UNIGRAMS_FILENAME = \"/scratch/wiki_dumps/expr_with_matching/%s/bow_features/unigram50.pkl\"%(constraint)\n",
    "BIGRAMS_FILENAME = \"/scratch/wiki_dumps/expr_with_matching/%s/bow_features/bigram100.pkl\"%(constraint)\n",
    "UNIGRAMS_LIST = cPickle.load(open(UNIGRAMS_FILENAME, \"rb\"))\n",
    "BIGRAMS_LIST = cPickle.load(open(BIGRAMS_FILENAME, \"rb\"))"
   ]
  },
  {
   "cell_type": "code",
   "execution_count": 7,
   "metadata": {
    "collapsed": true
   },
   "outputs": [],
   "source": [
    "with open('feature_extraction/lexicons') as f:\n",
    "    LEXICONS = json.load(f)"
   ]
  },
  {
   "cell_type": "code",
   "execution_count": 8,
   "metadata": {
    "collapsed": true
   },
   "outputs": [],
   "source": [
    "def _get_term_features(document):\n",
    "    actions = document['action_feature']\n",
    "    unigrams, bigrams = set([]), set([])\n",
    "    end_time = 0\n",
    "    for action in actions:\n",
    "        if action['timestamp_in_sec'] > end_time:\n",
    "            end_time = action['timestamp_in_sec'] \n",
    "    actions = sorted(actions, key=lambda k: k['timestamp_in_sec'])[::-1]\n",
    "    f = {}\n",
    "  #  f['max_toxicity'] = 0\n",
    "    for action in actions:\n",
    "        if action['timestamp_in_sec'] == end_time or \\\n",
    "            not(action['comment_type'] == 'COMMENT_ADDING' or\\\n",
    "                action['comment_type'] == 'SECTION_CREATION' or\\\n",
    "                action['comment_type'] == 'COMMENT_MODIFICATION'):\n",
    "            continue\n",
    "    #    f['max_toxicity'] = max(f['max_toxicity'], action['score'])\n",
    "        unigrams = unigrams | set(action['unigrams'])\n",
    "        bigrams = bigrams | set([tuple(x) for x in action['bigrams']]) \n",
    "    f.update(dict(map(lambda x: (\"UNIGRAM_\" + str(x), 1 if x in unigrams else 0), UNIGRAMS_LIST)))\n",
    "    f.update(dict(map(lambda x: (\"BIGRAM_\" + str(x), 1 if tuple(x) in bigrams else 0), BIGRAMS_LIST)))\n",
    "    return f "
   ]
  },
  {
   "cell_type": "code",
   "execution_count": 9,
   "metadata": {
    "collapsed": true
   },
   "outputs": [],
   "source": [
    "def _get_last_three_action_features(document):\n",
    "    # Do or don't, verb start sentence\n",
    "    # quoting\n",
    "    # giving proof ('according to')\n",
    "    # ask for suggestion\n",
    "    actions = document['action_feature']\n",
    "    unigrams, bigrams = set([]), set([])\n",
    "    end_time = 0\n",
    "    for action in actions:\n",
    "        if action['timestamp_in_sec'] > end_time:\n",
    "            end_time = action['timestamp_in_sec'] \n",
    "    ret = {'has_positive': 0, 'has_negative': 0, 'has_polite': 0, 'max_length': 0, 'has_deletion' : 0, \\\n",
    "        'has_modification': 0, 'has_restoration': 0, 'has_agree' : 0, 'has_disagree': 0, \\\n",
    "           'has_greetings': 0, 'has_all_cap': 0, 'has_consecutive_?or!': 0, 'verb start': 0, \\\n",
    "           'do/don\\'t start': 0, 'has_thank': 0, 'you_start': 0}\n",
    "    for key in LEXICONS.keys():\n",
    "        ret[key] = 0\n",
    "    actions = sorted(actions, key=lambda k: k['timestamp_in_sec'])[::-1]\n",
    "    appeared_users = {}\n",
    "    negative = 0\n",
    "    positive = 0\n",
    "    cnt = 3\n",
    "    for action in actions:\n",
    "        if not(action['timestamp_in_sec'] == end_time):\n",
    "            if action['comment_type'] == 'COMMENT_REMOVAL':\n",
    "                ret['has_deletion'] = 1\n",
    "                continue\n",
    "            elif action['comment_type'] == 'COMMENT_RESTORATION':\n",
    "                ret['has_restoration'] = 1\n",
    "                continue\n",
    "            elif action['comment_type'] == 'COMMENT_MODIFICATION':\n",
    "                ret['has_modification'] = 1\n",
    "        else:\n",
    "            continue\n",
    "        cnt -= 1\n",
    "        if cnt == 0:\n",
    "            break\n",
    "        ret['has_agree'] = ret['has_agree'] or action['has_agree']\n",
    "        ret['has_disagree'] = ret['has_disagree'] or action['has_disagree']\n",
    "        \n",
    "        unigrams = [u.lower() for u in action['unigrams']]\n",
    "        ret['has_thank'] = ret['has_thank'] or ('thank' in unigrams) or ('thanks' in unigrams) or \\\n",
    "                           ('appreciated' in unigrams)\n",
    "        ret['has_greetings'] = ret['has_greetings'] or ('hi' in unigrams) or ('hello' in unigrams) or \\\n",
    "                               ('hey' in unigrams)\n",
    "        \n",
    "            \n",
    "        if not(unigrams == []):\n",
    "            pre_u = unigrams[0]\n",
    "            for u in unigrams[1:]:\n",
    "                if u in ['!', '?'] and pre_u in ['!', '?']:\n",
    "                    ret['has_consecutive_?or!'] = 1\n",
    "                pre_u = u\n",
    "                \n",
    "     #   if '\\'' in unigrams or '\\\"' in unigrams:\n",
    "     #       ret['quoting'] = 1\n",
    "                \n",
    "        for s in action['sentences']:\n",
    "            if s.lower().startswith('do ') or s.lower().startswith('don\\'t '):\n",
    "                ret['do/don\\'t start'] = 1\n",
    "            if s.lower().startswith('you ') or s.lower().startswith('you\\'re '):\n",
    "                ret['you_start'] = 1\n",
    "        for p in action['pos_tags']:\n",
    "            if p[0] == 'VB':\n",
    "                ret['verb start'] = 1\n",
    "      #      if 'VBD' in p:\n",
    "      #          ret['past_tense'] = 1\n",
    "        \n",
    "        \n",
    "        for u in action['unigrams']:\n",
    "            if len(u) > 1 and u == u.upper():\n",
    "                ret['has_all_cap'] = 1\n",
    "        \n",
    "        # Polarity\n",
    "        polarity = []\n",
    "        for p in action['polarity']:\n",
    "            if p['compound'] < -0.5:\n",
    "                ret['has_negative'] = 1\n",
    "            if p['compound'] > 0.5:\n",
    "                ret['has_positive'] = 1\n",
    "\n",
    "        \n",
    "        # Politeness\n",
    "        if action['is_request']:\n",
    "            if action['politeness_score']['polite'] >= 0.5:\n",
    "                ret['has_polite'] = 1\n",
    "        \n",
    "        for key in LEXICONS.keys():\n",
    "            if action[key]: ret[key] = 1\n",
    "    \n",
    "    new_ret = {}\n",
    "    for key in ret.keys():\n",
    "        new_ret['last_three_' + key] = ret[key]\n",
    "    return new_ret"
   ]
  },
  {
   "cell_type": "code",
   "execution_count": 10,
   "metadata": {
    "collapsed": true
   },
   "outputs": [],
   "source": [
    "def _get_action_features(document):\n",
    "    # Do or don't, verb start sentence\n",
    "    # quoting\n",
    "    # giving proof ('according to')\n",
    "    # ask for suggestion\n",
    "    actions = document['action_feature']\n",
    "    unigrams, bigrams = set([]), set([])\n",
    "    end_time = 0\n",
    "    for action in actions:\n",
    "        if action['timestamp_in_sec'] > end_time:\n",
    "            end_time = action['timestamp_in_sec'] \n",
    "    ret = {'has_positive': 0, 'has_negative': 0, 'has_polite': 0, 'max_length': 0, 'has_deletion' : 0, \\\n",
    "        'has_modification': 0, 'has_restoration': 0, 'has_agree' : 0, 'has_disagree': 0, \\\n",
    "           'has_greetings': 0, 'has_all_cap': 0, 'has_consecutive_?or!': 0, 'verb start': 0, \\\n",
    "           'do/don\\'t start': 0, 'has_thank': 0,  \\\n",
    "           'block_or_revert_section': 0}\n",
    "    for key in LEXICONS.keys():\n",
    "        ret[key] = 0\n",
    "    actions = sorted(actions, key=lambda k: k['timestamp_in_sec'])[::-1]\n",
    "    appeared_users = {}\n",
    "    negative = 0\n",
    "    positive = 0\n",
    "    for action in actions:\n",
    "        if not(action['timestamp_in_sec'] == end_time):\n",
    "            if action['comment_type'] == 'COMMENT_REMOVAL':\n",
    "                ret['has_deletion'] = 1\n",
    "                continue\n",
    "            elif action['comment_type'] == 'COMMENT_RESTORATION':\n",
    "                ret['has_restoration'] = 1\n",
    "                continue\n",
    "            elif action['comment_type'] == 'COMMENT_MODIFICATION':\n",
    "                ret['has_modification'] = 1\n",
    "        else:\n",
    "            continue\n",
    "        unigrams = [u.lower() for u in action['unigrams']]\n",
    "\n",
    "      #  ret['has_link'] = ret['has_link'] or ('wiki_link' in unigrams) or ('external_link' in unigrams)\n",
    "\n",
    "\n",
    "        if action['comment_type'] == 'SECTION_CREATION':\n",
    "            ret['block_or_revert_section'] = ret['block_or_revert_section'] or \\\n",
    "                        'block' in action['cleaned_content'] or \\\n",
    "                        'revert' in action['cleaned_content']\n",
    "        ret['max_length'] = max(ret['max_length'], action['length'])\n",
    "        if 'user_text' in action:\n",
    "            if action['user_text'] in appeared_users:\n",
    "                continue\n",
    "            appeared_users[action['user_text']] = 1\n",
    "        ret['has_agree'] = ret['has_agree'] or action['has_agree']\n",
    "        ret['has_disagree'] = ret['has_disagree'] or action['has_disagree']\n",
    "        \n",
    "        ret['has_thank'] = ret['has_thank'] or ('thank' in unigrams) or ('thanks' in unigrams) or \\\n",
    "                           ('appreciated' in unigrams)\n",
    "        ret['has_greetings'] = ret['has_greetings'] or ('hi' in unigrams) or ('hello' in unigrams) or \\\n",
    "                               ('hey' in unigrams)\n",
    "        \n",
    "            \n",
    "        if not(unigrams == []):\n",
    "            pre_u = unigrams[0]\n",
    "            for u in unigrams[1:]:\n",
    "                if u in ['!', '?'] and pre_u in ['!', '?']:\n",
    "                    ret['has_consecutive_?or!'] = 1\n",
    "                pre_u = u\n",
    "                \n",
    "   #     if '\\'' in unigrams or '\\\"' in unigrams:\n",
    "   #         ret['quoting'] = 1\n",
    "                \n",
    "        for s in action['sentences']:\n",
    "            if s.lower().startswith('do ') or s.lower().startswith('don\\'t '):\n",
    "                ret['do/don\\'t start'] = 1\n",
    "\n",
    "        for p in action['pos_tags']:\n",
    "            if p[0] == 'VB':\n",
    "                ret['verb start'] = 1\n",
    "       #     if 'VBD' in p:\n",
    "       #         ret['past_tense'] = 1\n",
    "        \n",
    "        \n",
    "        for u in action['unigrams']:\n",
    "            if len(u) > 1 and u == u.upper():\n",
    "                ret['has_all_cap'] = 1\n",
    "        \n",
    "        # Polarity\n",
    "        polarity = []\n",
    "        for p in action['polarity']:\n",
    "            if p['compound'] < -0.5:\n",
    "                ret['has_negative'] = 1\n",
    "            if p['compound'] > 0.5:\n",
    "                ret['has_positive'] = 1\n",
    "\n",
    "        \n",
    "        # Politeness\n",
    "        if action['is_request']:\n",
    "            if action['politeness_score']['polite'] >= 0.5:\n",
    "                ret['has_polite'] = 1\n",
    "        \n",
    "        for key in LEXICONS.keys():\n",
    "            if action[key]: ret[key] = 1\n",
    "    \n",
    "    return ret"
   ]
  },
  {
   "cell_type": "code",
   "execution_count": 11,
   "metadata": {
    "collapsed": true
   },
   "outputs": [],
   "source": [
    "def _get_repeatition_features(document):\n",
    "    actions = document['action_feature']\n",
    "    unigrams, bigrams = set([]), set([])\n",
    "    end_time = 0\n",
    "    for action in actions:\n",
    "        if action['timestamp_in_sec'] > end_time:\n",
    "            end_time = action['timestamp_in_sec'] \n",
    "    ret = {'negative_increase': 0, 'positive_decrease': 0, 'toxicity_raise': 0, 'consecutive_negative': 0,\n",
    "          'negative_decrease': 0, 'positive_increase': 0}\n",
    "    replyTo_feat = 0\n",
    "    self_feat = 0\n",
    "    for repeat in ['content', 'pos', 'stop']:\n",
    "        ret['has_%s_repeat'%(repeat)] = 0\n",
    "        ret['%s_repeat'%(repeat)] = 0\n",
    "    appeared_users = {}\n",
    "    repeat_users = {}\n",
    "    for action in actions:  \n",
    "        if not('replyTo_id' not in action or action['replyTo_id'] == None):\n",
    "            replyTo_feat += 1\n",
    "        last_self = None\n",
    "        if not('user_id' not in action or action['user_id'] == None):\n",
    "            for act in actions:\n",
    "                if not('user_id' not in act or act['user_id'] == None) and \\\n",
    "                   action['user_id'] == act['user_id'] and act['timestamp_in_sec'] < action['timestamp_in_sec']:\n",
    "                    if last_self == None or last_self['timestamp_in_sec'] < act['timestamp_in_sec']:                               \n",
    "                        last_self = act\n",
    "        if action['timestamp_in_sec'] == end_time or \\\n",
    "           action['comment_type'] == 'COMMENT_REMOVAL' or action['comment_type'] == 'COMMENT_RESTORATION' \\\n",
    "            or action['comment_type'] == 'COMMENT_MODIFICATION':\n",
    "                if not(last_self == None):\n",
    "                    self_feat += 1\n",
    "                continue\n",
    "        if 'user_text' in action:\n",
    "            appeared_users[action['user_text']] = 1\n",
    "        if not(last_self == None):\n",
    "            if 'user_text' in action:\n",
    "                repeat_users[action['user_text']] = 1\n",
    "            for repeat in ['content', 'pos', 'stop']:\n",
    "                cur_repeat = document['conversational_features']['last_self_%s_repeat'%(repeat)][self_feat]\n",
    "                if cur_repeat > 0:\n",
    "                    ret['has_%s_repeat'%(repeat)] = 1 \n",
    "                    if not(repeat == 'pos'):\n",
    "                        ret['%s_repeat'%(repeat)] = max(ret['%s_repeat'%(repeat)], \\\n",
    "                                            cur_repeat / float(action['length']))\n",
    "            if last_self['score'] < action['score'] - 0.05:\n",
    "                ret['toxicity_raise'] = 1\n",
    "            last_p = 0\n",
    "            cur_p = 0\n",
    "            for p in last_self['polarity']: \n",
    "                if p['compound'] < -0.5: last_p = 1\n",
    "            for p in action['polarity']: \n",
    "                if p['compound'] < -0.5: cur_p = 1\n",
    "            if cur_p > last_p: ret['negative_increase'] = 1\n",
    "            if cur_p < last_p: ret['negative_decrease'] = 1\n",
    "            if cur_p == 1 and last_p == 1: ret['consecutive_negative'] = 1\n",
    "            last_p = 0\n",
    "            cur_p = 0\n",
    "            for p in last_self['polarity']: \n",
    "                if p['compound'] > 0.5: last_p = 1\n",
    "            for p in action['polarity']: \n",
    "                if p['compound'] > 0.5: cur_p = 1\n",
    "            if cur_p < last_p: ret['positive_decrease'] = 1\n",
    "            if cur_p > last_p: ret['positive_increase'] = 1\n",
    "            self_feat += 1\n",
    "    if len(appeared_users.keys()):\n",
    "        ret['repeat_percentage'] = len(repeat_users.keys()) / float(len(appeared_users.keys()))\n",
    "    else:\n",
    "        ret['repeat_percentage'] = 0\n",
    "    return ret"
   ]
  },
  {
   "cell_type": "code",
   "execution_count": 12,
   "metadata": {
    "collapsed": true
   },
   "outputs": [],
   "source": [
    "def _get_balance_features(document):\n",
    "    EPS = 0.001\n",
    "    actions = document['action_feature']\n",
    "    unigrams, bigrams = set([]), set([])\n",
    "    end_time = 0\n",
    "    no_users = 0\n",
    "    user_set = {}\n",
    "    reply_no = {}\n",
    "    action_no = defaultdict(int)\n",
    "    time_gap = {}\n",
    "    action_dict = {}\n",
    "    total_user = 0\n",
    "    lengths = {}\n",
    "    \n",
    "    for action in actions:\n",
    "        action_dict[action['id']] = action\n",
    "        if action['timestamp_in_sec'] > end_time:\n",
    "            end_time = action['timestamp_in_sec'] \n",
    "        if not('user_text' in action):\n",
    "            continue\n",
    "    for action in actions:\n",
    "        if action['timestamp_in_sec'] == end_time or not('user_text' in action):\n",
    "            continue\n",
    "           # action['user_text'] = 'Anonymous'\n",
    "        user_set[action['user_text']] = 1\n",
    "        if not('bot' in action['user_text'].lower()):\n",
    "            total_user += 1\n",
    "        reply_no[action['user_text']] = EPS\n",
    "        time_gap[action['user_text']] = EPS\n",
    "        lengths[action['user_text']] = EPS\n",
    "        action_no[action['user_text']] = EPS\n",
    "    total_replyTo = len(reply_no.keys()) * EPS\n",
    "    total_time = len(reply_no.keys()) * EPS\n",
    "    total_length = len(reply_no.keys()) * EPS\n",
    "    total_actions = len(reply_no.keys()) * EPS\n",
    "\n",
    "\n",
    "    no_users = len(user_set.keys())\n",
    "    ret = {'question_to_question': 0, 'question_to_non_question': 0, 'non_question_to_question': 0, \\\n",
    "            'has_question' : 0}\n",
    "    replyTo_feat = 0\n",
    "    for adoption in ['content', 'pos', 'stop']:\n",
    "        ret['has_%s_adoption'%(adoption)] = 0\n",
    "        ret['%s_adoption'%(adoption)] = 0\n",
    "    \n",
    "    polarities = []\n",
    "    toxicities = []\n",
    "    total_polarity = 0\n",
    "    total_toxicity = 0\n",
    "    max_depth = 1\n",
    "    reply_pair = defaultdict(int)\n",
    "    unique_reply_pairs = {}\n",
    "    self_replies = {}\n",
    "    ret['max_time_gap'] = 0\n",
    "    min_polar = -1\n",
    "    max_polar = 1\n",
    "    ret['has_negative_reply'] = 0\n",
    "    ret['frac. negative_reply'] = 0\n",
    "    all_replys = 0\n",
    "    for action in actions:\n",
    "        if action['timestamp_in_sec'] < end_time and 'user_text' in action:\n",
    "            action_no[action['user_text']] += 1\n",
    "            total_actions += 1\n",
    "        if action['timestamp_in_sec'] == end_time or \\\n",
    "            action['comment_type'] == 'COMMENT_REMOVAL' or action['comment_type'] == 'COMMENT_RESTORATION' \\\n",
    "            or action['comment_type'] == 'COMMENT_MODIFICATION':\n",
    "                if not('replyTo_id' not in action or action['replyTo_id'] == None):\n",
    "                    replyTo_feat += 1\n",
    "                continue\n",
    "        if 'user_text' in action:\n",
    "            total_length += action['length']\n",
    "            lengths[action['user_text']] += action['length']\n",
    "       # if not(action['polarity'] == []):\n",
    "       #     polarity = action['polarity'][0]['compound']\n",
    "       # else:\n",
    "       #     polarity = 1\n",
    "        is_negative = 0\n",
    "        for p in action['polarity']:\n",
    "            min_polar = min(min_polar, p['compound'])\n",
    "            max_polar = max(max_polar, p['compound'])\n",
    "            polarity = p['compound']#, polarity)\n",
    "            is_negative = is_negative or (p['compound'] < -0.5)\n",
    "            if p['compound'] > 0.5: \n",
    "                polarity = 3\n",
    "            elif polarity < - 0.5:\n",
    "                polarity = 1\n",
    "            else: polarity = 2\n",
    "            polarities.append(polarity)\n",
    "            total_polarity += polarity\n",
    "        toxicities.append(action['score'])\n",
    "        total_toxicity += action['score']\n",
    "        if not('replyTo_id' not in action or action['replyTo_id'] == None):\n",
    "            parent = action_dict[action['replyTo_id']]\n",
    "            ret['has_negative_reply'] = ret['has_negative_reply'] or is_negative\n",
    "            ret['frac. negative_reply'] += is_negative\n",
    "            all_replys += 1\n",
    "            d = 2\n",
    "            cur = parent\n",
    "            while not('replyTo_id' not in cur or cur['replyTo_id'] == None):\n",
    "                cur = action_dict[cur['replyTo_id']]\n",
    "                d += 1\n",
    "            if 'user_text' in parent and 'user_text' in action:\n",
    "                reply_pair[(parent['user_text'], action['user_text'])] += 1\n",
    "                unique_reply_pairs[(min(parent['user_text'], action['user_text']), \\\n",
    "                            max(parent['user_text'], action['user_text']))] = 1\n",
    "                if parent['user_text'] == action['user_text']:\n",
    "                    self_replies[action['user_text']] = 1\n",
    "            max_depth = max(max_depth, d)\n",
    "            \n",
    "            # question or not\n",
    "            if '?' in action['unigrams'] and  '?' in parent['unigrams']:\n",
    "                ret['question_to_question'] = 1\n",
    "            if '?' in action['unigrams'] and  not('?' in parent['unigrams']):\n",
    "                ret['question_to_non_question'] = 1\n",
    "            if not('?' in action['unigrams']) and  '?' in parent['unigrams']:\n",
    "                ret['non_question_to_question'] = 1\n",
    "            if '?' in action['unigrams']:\n",
    "                ret['has_question'] = 1\n",
    "            reply_no[parent['user_text']] += 1\n",
    "            time_gap[parent['user_text']] += action['timestamp_in_sec'] - parent['timestamp_in_sec']\n",
    "            total_time += action['timestamp_in_sec'] - parent['timestamp_in_sec']\n",
    "            ret['max_time_gap'] = max(ret['max_time_gap'], action['timestamp_in_sec'] - parent['timestamp_in_sec'])\n",
    "            total_replyTo += 1\n",
    "            for adoption in ['content', 'pos', 'stop']:\n",
    "                cur_adoption = document['conversational_features']['%s_adoption'%(adoption)][replyTo_feat]\n",
    "                if cur_adoption > 0:\n",
    "                    ret['has_%s_adoption'%(adoption)] = 1 \n",
    "                    if not(adoption == 'pos'):\n",
    "                        ret['%s_adoption'%(adoption)] = max(ret['%s_adoption'%(adoption)], \\\n",
    "                                            cur_adoption / float(action['length']))\n",
    "            replyTo_feat += 1\n",
    "    if no_users:\n",
    "        ret['undirected_graph_density'] = len(unique_reply_pairs.keys()) / (no_users * no_users)\n",
    "        ret['directed_graph_density'] = len(reply_pair.keys()) / (no_users * no_users)\n",
    "        ret['directed_graph_self_loops'] = len(self_replies.keys()) / (no_users * no_users)\n",
    "    else:\n",
    "        ret['undirected_graph_density'] = 0\n",
    "        ret['directed_graph_density'] = 0\n",
    "        ret['directed_graph_self_loops'] = 0\n",
    "    if all_replys:\n",
    "        ret['frac. negative_reply'] /= all_replys\n",
    "        \n",
    "    all_users = sorted(user_set.keys())\n",
    "    ret['imbalance_in_pairs'] = 0\n",
    "    for x in range(4):\n",
    "        ret['graph_feature_triad' + str(x)] = 0\n",
    "    ret['triad_imbalance'] = 0\n",
    "    for ind1, user1 in enumerate(all_users):\n",
    "        for ind2, user2 in enumerate(all_users[ind1+1:]):\n",
    "            pair1 = max(reply_pair[(user1, user2)], reply_pair[(user2, user1)])\n",
    "            pair2 = min(reply_pair[(user1, user2)], reply_pair[(user2, user1)])\n",
    "         #   if pair1 and pair2:\n",
    "         #       entropy =  pair2 / (pair1 + pair2) * math.log(pair2 / (pair1 + pair2))/ math.log(2) \\\n",
    "         #               + pair1 / (pair1 + pair2) * math.log(pair1 / (pair1 + pair2))/ math.log(2)\n",
    "         #       ret['imbalance_in_pairs'] = max(ret['imbalance_in_pairs'], entropy)\n",
    "            for ind3, user3 in enumerate(all_users[ind2+1:]):\n",
    "                no_replied = ((user1, user2) in unique_reply_pairs) + \\\n",
    "                             ((user1, user3) in unique_reply_pairs) + \\\n",
    "                             ((user2, user3) in unique_reply_pairs)\n",
    "                ret['graph_feature_triad' + str(no_replied)] += 1\n",
    "                pairs = [reply_pair[(user1, user2)] + reply_pair[(user2, user1)], \\\n",
    "                         reply_pair[(user1, user3)] + reply_pair[(user3, user1)], \\\n",
    "                         reply_pair[(user3, user2)] + reply_pair[(user2, user3)]]\n",
    "                ret['triad_imbalance'] = max(pairs) - min(pairs)\n",
    "    if no_users >= 3:\n",
    "        for x in range(4):\n",
    "            ret['graph_feature_triad' + str(x)] /= (no_users * (no_users - 1) * (no_users - 2) / 6)\n",
    "            \n",
    "    ret['no_users'] = no_users\n",
    "    ret['has_reply'] = 0\n",
    "    ret['polarity_gap'] = max_polar - min_polar\n",
    "\n",
    "    if total_replyTo > 0:\n",
    "        ret['has_reply'] = 1\n",
    "        ret['reply_entropy'] = 0\n",
    "        ret['time_gap_entropy'] = 0\n",
    "\n",
    "    ret['max_depth'] = max_depth\n",
    "    lp = len(polarities)\n",
    "    ret['polarity_entropy'] = not(lp == 1)\n",
    "    if lp > 1:\n",
    "        for p in polarities:\n",
    "            ret['polarity_entropy'] += p / total_polarity * math.log(p / total_polarity) / math.log(lp)\n",
    "    if ret['polarity_entropy'] > 1:\n",
    "        ret['polarity_entropy'] = 1\n",
    "        \n",
    "    lt = len(toxicities)\n",
    "    ret['toxicity_entropy'] = not(lt == 1)\n",
    "    if lt > 1:\n",
    "        for t in toxicities:\n",
    "            ret['toxicity_entropy'] += t / total_toxicity * math.log(t / total_toxicity) / math.log(lt)\n",
    "    if ret['toxicity_entropy'] > 1:\n",
    "        ret['toxicity_entropy'] = 1\n",
    "        \n",
    "    no_replies = len(reply_no.keys())\n",
    "    no_time_gaps = len(time_gap.keys())\n",
    "    no_actions = len(action_no.keys())\n",
    "    no_lengths = len(lengths.keys())\n",
    "    ret['action_no_entropy'] = not(no_actions == 1)\n",
    "    ret['reply_entropy'] = not(no_replies == 1)\n",
    "    ret['time_gap_entropy'] = not(no_time_gaps == 1)\n",
    "    ret['length_entropy'] = not(no_lengths == 1)\n",
    "    ret['directed_graph_nodes_with_incoming_edge'] = 0\n",
    "    for user in reply_no.keys():\n",
    "        if reply_no[user]:\n",
    "            ret['directed_graph_nodes_with_incoming_edge'] += 1\n",
    "        if no_replies > 1:\n",
    "            ret['reply_entropy'] += reply_no[user] / total_replyTo \\\n",
    "                    * math.log(reply_no[user] / total_replyTo) / math.log(no_replies)\n",
    "        if no_time_gaps > 1:\n",
    "            ret['time_gap_entropy'] += time_gap[user] / total_time \\\n",
    "                    * math.log(time_gap[user] / total_time) / math.log(no_time_gaps)\n",
    "        if no_actions > 1:\n",
    "            ret['action_no_entropy'] += action_no[user] / total_actions \\\n",
    "                    * math.log(action_no[user] / total_actions) / math.log(no_actions)\n",
    "        if no_lengths > 1:\n",
    "            ret['length_entropy'] += lengths[user] / total_length \\\n",
    "                    * math.log(lengths[user] / total_length) / math.log(no_lengths)\n",
    "    ret['directed_graph_nodes_with_incoming_edge'] /= no_users#len(reply_no.keys())\n",
    "    return ret"
   ]
  },
  {
   "cell_type": "code",
   "execution_count": 13,
   "metadata": {
    "collapsed": true
   },
   "outputs": [],
   "source": [
    "def documents2feature_vectors(document_features):\n",
    "    fks = False\n",
    "    X, y = [], []\n",
    "    cnt = 0\n",
    "    max_X = {}\n",
    "    for pair in document_features:\n",
    "        conversation, clss = pair\n",
    "        fs = conversation\n",
    "        if not fks:\n",
    "            fks = sorted(fs.keys())\n",
    "            for f in fks:\n",
    "                max_X[f] = fs[f]\n",
    "        fv = [fs[f] for f in fks]\n",
    "        for f in fks:\n",
    "            max_X[f] = max(max_X[f], fs[f])\n",
    "        if cnt % 1000 == 0:\n",
    "            print(cnt)\n",
    "        cnt += 1\n",
    "        X.append(fv)\n",
    "        y.append(clss)\n",
    "    for fv in X:\n",
    "        for ind, f in enumerate(fks):\n",
    "            if max_X[f] == 0: \n",
    "                continue\n",
    "            fv[ind] /= max_X[f]\n",
    "    X = csr_matrix(np.asarray(X))\n",
    "    y = np.asarray(y)\n",
    "    return X, y, fks"
   ]
  },
  {
   "cell_type": "code",
   "execution_count": 14,
   "metadata": {
    "collapsed": true
   },
   "outputs": [],
   "source": [
    "def train_svm(X, y):\n",
    "\n",
    "    # For good luck\n",
    "\n",
    "    print(\"Fitting\")\n",
    "    tuned_parameters = [#{'kernel': ['rbf'], 'gamma': [1e-3, 1e-4], 'C': [1, 10, 100, 1000]},\n",
    "                    {'C': [0.0007, 0.0008, 0.0005, 0.0006, 0.0009]}]\n",
    "\n",
    "    clf = GridSearchCV(svm.LinearSVC(), tuned_parameters, cv=5, scoring = 'accuracy')\n",
    "    clf.fit(X, y)\n",
    "\n",
    "    print(\"Best parameters set found on development set:\")\n",
    "    print()\n",
    "    print(clf.best_estimator_)\n",
    "    print()\n",
    "    print(\"Grid scores on development set:\")\n",
    "    print()\n",
    "    for params, mean_score, scores in clf.grid_scores_:\n",
    "        print(\"%0.3f (+/-%0.03f) for %r\"\n",
    "              % (mean_score, scores.std() / 2, params))\n",
    "    print()\n",
    "\n",
    "#    print(scores.mean())\n",
    "#    print scores"
   ]
  },
  {
   "cell_type": "code",
   "execution_count": 15,
   "metadata": {
    "collapsed": true
   },
   "outputs": [],
   "source": [
    "documents = []\n",
    "with open('/scratch/wiki_dumps/expr_with_matching/%s/data/train.json'%(constraint)) as f:\n",
    "    for line in f:\n",
    "        conv_id, clss, conversation = json.loads(line)\n",
    "        documents.append((conversation, clss))       \n"
   ]
  },
  {
   "cell_type": "code",
   "execution_count": 16,
   "metadata": {
    "collapsed": true
   },
   "outputs": [],
   "source": [
    "random.shuffle(documents)"
   ]
  },
  {
   "cell_type": "code",
   "execution_count": 17,
   "metadata": {
    "collapsed": true
   },
   "outputs": [],
   "source": [
    "feature_sets = []\n",
    "for pair in documents:\n",
    "    conversation, clss = pair\n",
    "    feature_set = _get_term_features(conversation)\n",
    "    feature_sets.append((feature_set, clss))"
   ]
  },
  {
   "cell_type": "code",
   "execution_count": 18,
   "metadata": {
    "collapsed": true
   },
   "outputs": [],
   "source": [
    "bow_features = feature_sets"
   ]
  },
  {
   "cell_type": "code",
   "execution_count": 19,
   "metadata": {
    "collapsed": true
   },
   "outputs": [],
   "source": [
    "feature_sets = []\n",
    "for ind, pair in enumerate(documents):\n",
    "    conversation, clss = pair\n",
    "    feature_set = _get_last_three_action_features(conversation)\n",
    "    feature_set.update(bow_features[ind][0])\n",
    "    feature_sets.append((feature_set, clss))"
   ]
  },
  {
   "cell_type": "code",
   "execution_count": 20,
   "metadata": {
    "collapsed": true
   },
   "outputs": [],
   "source": [
    "last_three_features = feature_sets"
   ]
  },
  {
   "cell_type": "code",
   "execution_count": 21,
   "metadata": {
    "collapsed": true
   },
   "outputs": [],
   "source": [
    "feature_sets = []\n",
    "for ind, pair in enumerate(documents):\n",
    "    conversation, clss = pair\n",
    "    feature_set = _get_action_features(conversation)\n",
    "    feature_set.update(last_three_features[ind][0])\n",
    "    feature_sets.append((feature_set, clss))"
   ]
  },
  {
   "cell_type": "code",
   "execution_count": 22,
   "metadata": {
    "collapsed": true
   },
   "outputs": [],
   "source": [
    "bow_action_features = feature_sets"
   ]
  },
  {
   "cell_type": "code",
   "execution_count": 23,
   "metadata": {
    "collapsed": true
   },
   "outputs": [],
   "source": [
    "feature_sets = []\n",
    "for ind, pair in enumerate(documents):\n",
    "    conversation, clss = pair\n",
    "    feature_set = _get_repeatition_features(conversation)\n",
    "    feature_set.update(bow_action_features[ind][0])\n",
    "    feature_sets.append((feature_set, clss))"
   ]
  },
  {
   "cell_type": "code",
   "execution_count": 24,
   "metadata": {
    "collapsed": true
   },
   "outputs": [],
   "source": [
    "bow_action_repeat_features = feature_sets"
   ]
  },
  {
   "cell_type": "code",
   "execution_count": 25,
   "metadata": {
    "collapsed": true
   },
   "outputs": [],
   "source": [
    "feature_sets = []\n",
    "features_corr = defaultdict(list)\n",
    "number_users = []\n",
    "for ind, pair in enumerate(documents):\n",
    "    conversation, clss = pair\n",
    "    feature_set = _get_balance_features(conversation)\n",
    "    if feature_set['no_users']:\n",
    "        for key in feature_set.keys():\n",
    "            if 'graph' in key:\n",
    "                features_corr[key].append(feature_set[key])\n",
    "        number_users.append(feature_set['no_users'])\n",
    "    feature_set.update(bow_action_repeat_features[ind][0])\n",
    "    feature_set.update(_get_last_three_action_features(conversation))\n",
    "    feature_sets.append((feature_set, clss))\n",
    "#for key in features_corr:\n",
    "#    x,p = spearmanr(number_users, features_corr[key])\n",
    "#    print(\"FEATURE \", key, \": \", spearmanr(number_users, features_corr[key]))"
   ]
  },
  {
   "cell_type": "code",
   "execution_count": 874,
   "metadata": {
    "collapsed": true
   },
   "outputs": [],
   "source": [
    "corr = []\n",
    "pval = []\n",
    "names = []\n",
    "for key in features_corr:\n",
    "    x,p = spearmanr(number_users, features_corr[key])\n",
    "    corr.append(x)\n",
    "    pval.append(p)\n",
    "    names.append(key)\n"
   ]
  },
  {
   "cell_type": "code",
   "execution_count": 898,
   "metadata": {},
   "outputs": [
    {
     "data": {
      "image/png": "[encoded data removed]",
      "text/plain": [
       "<matplotlib.figure.Figure at 0x7f5c4856d940>"
      ]
     },
     "metadata": {},
     "output_type": "display_data"
    }
   ],
   "source": [
    "N = len(corr)\n",
    "\n",
    "ind = np.arange(N)  # the x locations for the groups\n",
    "width = 0.5       # the width of the bars\n",
    "\n",
    "#plt.subplots()\n",
    "plt.figure(figsize=(15, 5))\n",
    "plt.bar(ind, corr, width, color='green', alpha=0.5, yerr=pval)\n",
    "\n",
    "# add some text for labels, title and axes ticks\n",
    "plt.ylabel('Spearman Correlation')\n",
    "plt.title('Spearman Correlation between graph features and number of users')\n",
    "plt.xticks(ind, names, rotation=60, ha='right')\n",
    "#ax.set_xticklabels(names)\n",
    "\n",
    "plt.show()"
   ]
  },
  {
   "cell_type": "code",
   "execution_count": 32,
   "metadata": {},
   "outputs": [
    {
     "name": "stdout",
     "output_type": "stream",
     "text": [
      "0\n",
      "1000\n",
      "2000\n",
      "3000\n",
      "4000\n"
     ]
    }
   ],
   "source": [
    "X, y, feature_names = documents2feature_vectors(feature_sets)"
   ]
  },
  {
   "cell_type": "code",
   "execution_count": 33,
   "metadata": {
    "scrolled": false
   },
   "outputs": [
    {
     "name": "stdout",
     "output_type": "stream",
     "text": [
      "Fitting\n",
      "Best parameters set found on development set:\n",
      "\n",
      "LinearSVC(C=0.0006, class_weight=None, dual=True, fit_intercept=True,\n",
      "     intercept_scaling=1, loss='squared_hinge', max_iter=1000,\n",
      "     multi_class='ovr', penalty='l2', random_state=None, tol=0.0001,\n",
      "     verbose=0)\n",
      "\n",
      "Grid scores on development set:\n",
      "\n",
      "0.653 (+/-0.007) for {'C': 0.0007}\n",
      "0.651 (+/-0.007) for {'C': 0.0008}\n",
      "0.653 (+/-0.007) for {'C': 0.0005}\n",
      "0.655 (+/-0.007) for {'C': 0.0006}\n",
      "0.650 (+/-0.009) for {'C': 0.0009}\n",
      "\n"
     ]
    },
    {
     "name": "stderr",
     "output_type": "stream",
     "text": [
      "/home/yiqing/miniconda3/lib/python3.6/site-packages/sklearn/model_selection/_search.py:747: DeprecationWarning: The grid_scores_ attribute was deprecated in version 0.18 in favor of the more elaborate cv_results_ attribute. The grid_scores_ attribute will not be available from 0.20\n",
      "  DeprecationWarning)\n"
     ]
    }
   ],
   "source": [
    "train_svm(X, y)"
   ]
  },
  {
   "cell_type": "code",
   "execution_count": 29,
   "metadata": {
    "collapsed": true
   },
   "outputs": [],
   "source": [
    "def plot_coefficients(classifier, feature_names, top_features=20):\n",
    "    coef = classifier.coef_.ravel()\n",
    "    top_positive_coefficients = np.argsort(coef)[-top_features:]\n",
    "    top_negative_coefficients = np.argsort(coef)[:top_features]\n",
    "    top_coefficients = np.hstack([top_negative_coefficients, top_positive_coefficients])\n",
    "    \n",
    "    # create plot\n",
    "    plt.figure(figsize=(15, 5))\n",
    "    colors = ['red' if c < 0 else 'blue' for c in coef[top_coefficients]]\n",
    "    plt.bar(np.arange(2 * top_features), coef[top_coefficients], color=colors, alpha=0.5)\n",
    "    names = np.array(feature_names)\n",
    "    plt.xticks(np.arange(0, 2 * top_features), names[top_coefficients], rotation=60, ha='right')\n",
    "    plt.title('Top Positive and Negative Features')\n",
    "    plt.show()"
   ]
  },
  {
   "cell_type": "code",
   "execution_count": 31,
   "metadata": {},
   "outputs": [
    {
     "data": {
      "image/png": "[encoded data removed]",
      "text/plain": [
       "<matplotlib.figure.Figure at 0x7fba7d37f0b8>"
      ]
     },
     "metadata": {},
     "output_type": "display_data"
    }
   ],
   "source": [
    "classifier = svm.LinearSVC(C=0.0006)\n",
    "classifier.fit(X, y)\n",
    "plot_coefficients(classifier, feature_names)\n",
    "#0.630 (+/-0.007) for {'C': 0.0006}\n"
   ]
  },
  {
   "cell_type": "code",
   "execution_count": 34,
   "metadata": {},
   "outputs": [
    {
     "data": {
      "image/png": "[encoded data removed]",
      "text/plain": [
       "<matplotlib.figure.Figure at 0x7fba7d3cddd8>"
      ]
     },
     "metadata": {},
     "output_type": "display_data"
    }
   ],
   "source": [
    "classifier = svm.LinearSVC(C=0.0006)\n",
    "classifier.fit(X, y)\n",
    "plot_coefficients(classifier, feature_names)\n",
    "# bow + action(last 3 actions) + repeat + entropy\n",
    "# 0.655 (+/-0.007) for {'C': 0.0006}"
   ]
  },
  {
   "cell_type": "code",
   "execution_count": null,
   "metadata": {
    "collapsed": true
   },
   "outputs": [],
   "source": []
  },
  {
   "cell_type": "code",
   "execution_count": null,
   "metadata": {
    "collapsed": true
   },
   "outputs": [],
   "source": []
  }
 ],
 "metadata": {
  "kernelspec": {
   "display_name": "Python 3",
   "language": "python",
   "name": "python3"
  },
  "language_info": {
   "codemirror_mode": {
    "name": "ipython",
    "version": 3
   },
   "file_extension": ".py",
   "mimetype": "text/x-python",
   "name": "python",
   "nbconvert_exporter": "python",
   "pygments_lexer": "ipython3",
   "version": "3.6.1"
  }
 },
 "nbformat": 4,
 "nbformat_minor": 2
}
