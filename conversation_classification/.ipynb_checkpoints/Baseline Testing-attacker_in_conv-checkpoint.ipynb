{
 "cells": [
  {
   "cell_type": "code",
   "execution_count": 1,
   "metadata": {
    "collapsed": true
   },
   "outputs": [],
   "source": [
    "import json\n",
    "import pickle as cPickle\n",
    "import numpy as np\n",
    "\n",
    "from sklearn import svm\n",
    "from scipy.sparse import csr_matrix\n",
    "from sklearn.model_selection import GridSearchCV, cross_val_score\n",
    "from sklearn.metrics import classification_report\n",
    "import random\n",
    "import matplotlib.pyplot as plt\n",
    "\n",
    "from collections import defaultdict\n",
    "import math"
   ]
  },
  {
   "cell_type": "code",
   "execution_count": 2,
   "metadata": {
    "collapsed": true
   },
   "outputs": [],
   "source": [
    "UNIGRAMS_FILENAME = \"attacker_in_conv-bow_features/unigram100.pkl\"\n",
    "BIGRAMS_FILENAME = \"attacker_in_conv-bow_features/bigram500.pkl\"\n",
    "UNIGRAMS_LIST = cPickle.load(open(UNIGRAMS_FILENAME, \"rb\"))\n",
    "BIGRAMS_LIST = cPickle.load(open(BIGRAMS_FILENAME, \"rb\"))"
   ]
  },
  {
   "cell_type": "code",
   "execution_count": 3,
   "metadata": {
    "collapsed": true
   },
   "outputs": [],
   "source": [
    "with open('feature_extraction/lexicons') as f:\n",
    "    LEXICONS = json.load(f)"
   ]
  },
  {
   "cell_type": "code",
   "execution_count": 4,
   "metadata": {
    "collapsed": true
   },
   "outputs": [],
   "source": [
    "def _get_term_features(document):\n",
    "    actions = document['action_feature']\n",
    "    unigrams, bigrams = set([]), set([])\n",
    "    end_time = 0\n",
    "    for action in actions:\n",
    "        if action['timestamp_in_sec'] > end_time:\n",
    "            end_time = action['timestamp_in_sec'] \n",
    "    for action in actions:\n",
    "        if action['timestamp_in_sec'] == end_time or \\\n",
    "            not(action['comment_type'] == 'COMMENT_ADDING' or\\\n",
    "                action['comment_type'] == 'SECTION_CREATION' or\\\n",
    "                action['comment_type'] == 'COMMENT_MODIFICATION'):\n",
    "            continue\n",
    "        unigrams = unigrams | set(action['unigrams'])\n",
    "        bigrams = bigrams | set([tuple(x) for x in action['bigrams']]) \n",
    "    f = {}\n",
    "    f.update(dict(map(lambda x: (\"UNIGRAM_\" + str(x), 1 if x in unigrams else 0), UNIGRAMS_LIST)))\n",
    "    f.update(dict(map(lambda x: (\"BIGRAM_\" + str(x), 1 if tuple(x) in bigrams else 0), BIGRAMS_LIST)))\n",
    "    return f "
   ]
  },
  {
   "cell_type": "code",
   "execution_count": 5,
   "metadata": {
    "collapsed": true
   },
   "outputs": [],
   "source": [
    "def _get_action_features(document):\n",
    "    # polarity, politeness --> max, min\n",
    "    # length --> max, min\n",
    "    # has_agree, has_disagree \n",
    "    \n",
    "    # based on user --> balance among users(avg of each feature)\n",
    "    \n",
    "    # pronoun usage\n",
    "    \n",
    "    # lexicon ratio\n",
    "    actions = document['action_feature']\n",
    "    unigrams, bigrams = set([]), set([])\n",
    "    end_time = 0\n",
    "    for action in actions:\n",
    "        if action['timestamp_in_sec'] > end_time:\n",
    "            end_time = action['timestamp_in_sec'] \n",
    "    ret = {'has_positive': 0, 'has_negative': 0, 'has_polite': 0, 'max_length': 0, 'has_deletion' : 0, \\\n",
    "        'has_modification': 0, 'has_restoration': 0, 'has_agree' : 0, 'has_disagree': 0, 'has_greeting' : 0}\n",
    "    for key in LEXICONS.keys():\n",
    "        ret[key] = 0\n",
    "    for action in actions:\n",
    "        if not(action['timestamp_in_sec'] == end_time):\n",
    "            if action['comment_type'] == 'COMMENT_REMOVAL':\n",
    "                ret['has_deletion'] = 1\n",
    "                continue\n",
    "            elif action['comment_type'] == 'COMMENT_RESTORATION':\n",
    "                ret['has_restoration'] = 1\n",
    "                continue\n",
    "            elif action['comment_type'] == 'COMMENT_MODIFICATION':\n",
    "                ret['has_modification'] = 1\n",
    "        else:\n",
    "            continue\n",
    "        ret['has_agree'] = ret['has_agree'] or action['has_agree']\n",
    "        ret['has_disagree'] = ret['has_disagree'] or action['has_disagree']\n",
    "        \n",
    "        unigrams = [s.lower() for s in action['unigrams']]\n",
    "        ret['has_greeting'] = ('hi' in unigrams) or ('hello' in unigrams) or ('hey' in unigrams)\n",
    "        \n",
    "        # Polarity\n",
    "        polarity = []\n",
    "        for p in action['polarity']:\n",
    "            if p['compound'] < -0.5:\n",
    "                ret['has_negative'] = 1\n",
    "            if p['compound'] > 0.5:\n",
    "                ret['has_positive'] = 1\n",
    "\n",
    "        \n",
    "        # Politeness\n",
    "        if action['is_request']:\n",
    "            if action['politeness_score']['polite'] >= 0.5:\n",
    "                ret['has_polite'] = 1\n",
    "        \n",
    "        # Pronoun\n",
    "        for key in LEXICONS.keys():\n",
    "            if action[key]: ret[key] = 1\n",
    "            \n",
    "     #   ret['length'] += action['length'] \n",
    "     #   ret['max_length'] = max(ret['max_length'], action['length'])\n",
    "     #   ret['min_length'] = min(ret['min_length'], action['length'])\n",
    "    return ret"
   ]
  },
  {
   "cell_type": "code",
   "execution_count": 6,
   "metadata": {
    "collapsed": true
   },
   "outputs": [],
   "source": [
    "def _get_repeatition_features(document):\n",
    "    actions = document['action_feature']\n",
    "    unigrams, bigrams = set([]), set([])\n",
    "    end_time = 0\n",
    "    for action in actions:\n",
    "        if action['timestamp_in_sec'] > end_time:\n",
    "            end_time = action['timestamp_in_sec'] \n",
    "    ret = {}\n",
    "    replyTo_feat = 0\n",
    "    self_feat = 0\n",
    "    for repeat in ['content', 'pos', 'stop']:\n",
    "        ret['has_%s_repeat'%(repeat)] = 0\n",
    "        ret['%s_repeat'%(repeat)] = 0\n",
    "    for action in actions:\n",
    "        if not('replyTo_id' not in action or action['replyTo_id'] == None):\n",
    "            replyTo_feat += 1\n",
    "        last_self = None\n",
    "        if not('user_id' not in action or action['user_id'] == None):\n",
    "            for act in actions:\n",
    "                if not('user_id' not in act or act['user_id'] == None) and \\\n",
    "                   action['user_id'] == act['user_id'] and act['timestamp_in_sec'] < action['timestamp_in_sec']:\n",
    "                    if last_self == None or last_self['timestamp_in_sec'] < act['timestamp_in_sec']:                               \n",
    "                        last_self = act\n",
    "        if action['timestamp_in_sec'] == end_time or \\\n",
    "           action['comment_type'] == 'COMMENT_REMOVAL' or action['comment_type'] == 'COMMENT_RESTORATION' \\\n",
    "            or action['comment_type'] == 'COMMENT_MODIFICATION':\n",
    "                if not(last_self == None):\n",
    "                    self_feat += 1\n",
    "                continue\n",
    "        if not(last_self == None):\n",
    "            for repeat in ['content', 'pos', 'stop']:\n",
    "                cur_repeat = document['conversational_features']['last_self_%s_repeat'%(repeat)][self_feat]\n",
    "                if cur_repeat > 0:\n",
    "                    ret['has_%s_repeat'%(repeat)] = 1 \n",
    "                    ret['%s_repeat'%(repeat)] = max(ret['%s_repeat'%(repeat)], \\\n",
    "                                            cur_repeat / float(len(action['unigrams'])))\n",
    "            self_feat += 1\n",
    "\n",
    "    return ret"
   ]
  },
  {
   "cell_type": "code",
   "execution_count": 60,
   "metadata": {
    "collapsed": true
   },
   "outputs": [],
   "source": [
    "def _get_balance_features(document):\n",
    "    actions = document['action_feature']\n",
    "    unigrams, bigrams = set([]), set([])\n",
    "    end_time = 0\n",
    "    no_users = 0\n",
    "    user_set = {}\n",
    "    reply_no = {}\n",
    "    action_no = defaultdict(int)\n",
    "    time_gap = {}\n",
    "    total_actions = 0\n",
    "    action_dict = {}\n",
    "    total_user = 0\n",
    "    for action in actions:\n",
    "        action_dict[action['id']] = action\n",
    "        if action['timestamp_in_sec'] > end_time:\n",
    "            end_time = action['timestamp_in_sec'] \n",
    "        if 'user_text' in action:\n",
    "            user_set[action['user_text']] = 1\n",
    "            reply_no[action['user_text']] = 0\n",
    "            action_no[action['user_text']] += 1\n",
    "            total_actions += 1\n",
    "            time_gap[action['user_text']] = 0\n",
    "            if not('bot' in action['user_text'].lower()):\n",
    "                total_user += 1\n",
    "    no_users = len(user_set.keys())\n",
    "    ret = {'question_to_question': 0, 'question_to_non_question': 0}\n",
    "    replyTo_feat = 0\n",
    "    total_replyTo = 0\n",
    "    total_time = 0\n",
    "    for adoption in ['content', 'pos', 'stop']:\n",
    "        ret['has_%s_adoption'%(adoption)] = 0\n",
    "        ret['%s_adoption'%(adoption)] = 0\n",
    "    \n",
    "    for action in actions:\n",
    "\n",
    "        if action['timestamp_in_sec'] == end_time or \\\n",
    "            action['comment_type'] == 'COMMENT_REMOVAL' or action['comment_type'] == 'COMMENT_RESTORATION' \\\n",
    "            or action['comment_type'] == 'COMMENT_MODIFICATION':\n",
    "                if not('replyTo_id' not in action or action['replyTo_id'] == None):\n",
    "                    replyTo_feat += 1\n",
    "                continue\n",
    "        if not('replyTo_id' not in action or action['replyTo_id'] == None):\n",
    "            parent = action_dict[action['replyTo_id']]\n",
    "            # question or not\n",
    "            if action['is_request'] and parent['is_request']:\n",
    "                ret['question_to_question'] = 1\n",
    "            if not(action['is_request']) and parent['is_request']:\n",
    "                ret['question_to_non_question'] = 1\n",
    "            reply_no[parent['user_text']] += 1\n",
    "            time_gap[parent['user_text']] += action['timestamp_in_sec'] - parent['timestamp_in_sec']\n",
    "            total_time += action['timestamp_in_sec'] - parent['timestamp_in_sec']\n",
    "            total_replyTo += 1\n",
    "            for adoption in ['content', 'pos', 'stop']:\n",
    "                cur_adoption = document['conversational_features']['%s_adoption'%(adoption)][replyTo_feat]\n",
    "                if cur_adoption > 0:\n",
    "                    ret['has_%s_adoption'%(adoption)] = 1 \n",
    "                    ret['%s_adoption'%(adoption)] = max(ret['%s_adoption'%(adoption)], \\\n",
    "                                            cur_adoption / float(len(action['unigrams'])))\n",
    "            replyTo_feat += 1\n",
    "    ret['has_reply'] = 0\n",
    "    ret['reply_entropy'] = 0\n",
    "    ret['time_gap_entropy'] = 0\n",
    "    if total_replyTo > 0:\n",
    "        ret['has_reply'] = 1\n",
    "   #     ret['reply_entropy'] = 0\n",
    "   #     ret['time_gap_entropy'] = 0\n",
    "\n",
    "    ret['action_no_entropy'] = 0\n",
    "    for user in reply_no.keys():\n",
    "        if total_user > 1 and not('bot' in user):\n",
    "            if reply_no[user] and total_replyTo:\n",
    "                ret['reply_entropy'] -= reply_no[user] / total_replyTo \\\n",
    "                        * math.log(reply_no[user] / total_replyTo) / math.log(total_user)\n",
    "            if time_gap[user] and total_time:\n",
    "                ret['time_gap_entropy'] -= time_gap[user] / total_time \\\n",
    "                        * math.log(time_gap[user] / total_time) / math.log(total_user)\n",
    "            if action_no[user] and total_actions:\n",
    "                ret['action_no_entropy'] -= action_no[user] / total_actions \\\n",
    "                        * math.log(action_no[user] / total_actions) / math.log(total_user)\n",
    "    return ret"
   ]
  },
  {
   "cell_type": "code",
   "execution_count": 8,
   "metadata": {
    "collapsed": true
   },
   "outputs": [],
   "source": [
    "def documents2feature_vectors(document_features):\n",
    "    fks = False\n",
    "    X, y = [], []\n",
    "    cnt = 0\n",
    "    for pair in document_features:\n",
    "        conversation, clss = pair\n",
    "        fs = conversation\n",
    "        if not fks:\n",
    "            fks = sorted(fs.keys())\n",
    "        fv = [fs[f] for f in fks]\n",
    "        if cnt % 1000 == 0:\n",
    "            print(cnt)\n",
    "        cnt += 1\n",
    "        X.append(fv)\n",
    "        y.append(clss)\n",
    "    X = csr_matrix(np.asarray(X))\n",
    "    y = np.asarray(y)\n",
    "    return X, y, fks"
   ]
  },
  {
   "cell_type": "code",
   "execution_count": 9,
   "metadata": {
    "collapsed": true
   },
   "outputs": [],
   "source": [
    "def train_svm(X, y):\n",
    "\n",
    "    # For good luck\n",
    "\n",
    "    print(\"Fitting\")\n",
    "    tuned_parameters = [#{'kernel': ['rbf'], 'gamma': [1e-3, 1e-4], 'C': [1, 10, 100, 1000]},\n",
    "                    {'C': [0.0001]}]\n",
    "\n",
    "    clf = GridSearchCV(svm.LinearSVC(), tuned_parameters, cv=5, scoring = 'accuracy')\n",
    "    clf.fit(X, y)\n",
    "\n",
    "    print(\"Best parameters set found on development set:\")\n",
    "    print()\n",
    "    print(clf.best_estimator_)\n",
    "    print()\n",
    "    print(\"Grid scores on development set:\")\n",
    "    print()\n",
    "    for params, mean_score, scores in clf.grid_scores_:\n",
    "        print(\"%0.3f (+/-%0.03f) for %r\"\n",
    "              % (mean_score, scores.std() / 2, params))\n",
    "    print()\n",
    "\n",
    "#    print(scores.mean())\n",
    "#    print scores"
   ]
  },
  {
   "cell_type": "code",
   "execution_count": 10,
   "metadata": {
    "collapsed": true
   },
   "outputs": [],
   "source": [
    "documents = []\n",
    "with open('/scratch/wiki_dumps/attacker_in_conv/train.json') as f:\n",
    "    for line in f:\n",
    "        conv_id, clss, conversation = json.loads(line)\n",
    "        documents.append((conversation, clss))       \n"
   ]
  },
  {
   "cell_type": "code",
   "execution_count": null,
   "metadata": {
    "collapsed": true
   },
   "outputs": [],
   "source": [
    "\n",
    "\"\"\"\n",
    "173987  unigram total\n",
    "1341812  bigram total\n",
    "UNIGRAM: \n",
    "14865    10\n",
    "11517   15\n",
    "9519    20\n",
    "5213    50\n",
    "3262    100\n",
    "\n",
    "BIGRAM:\n",
    "53036    10\n",
    "28668    20\n",
    "12362    50\n",
    "6298     100\n",
    "1058     500\n",
    "\"\"\""
   ]
  },
  {
   "cell_type": "code",
   "execution_count": null,
   "metadata": {
    "collapsed": true
   },
   "outputs": [],
   "source": [
    "# 0.573 (+/-0.002) for {'C': 0.0001}\n",
    "# unigram50, bigram100\n",
    "\n",
    "# unigram100, bigram100\n",
    "\n",
    "# unigram50, bigram500\n",
    "\n",
    "# 0.573 (+/-0.003) for {'C': 0.0001}\n",
    "# unigram20, bigram100\n",
    "\n",
    "# 0.573 (+/-0.003) for {'C': 0.0001}\n",
    "# unigram20, bigram50"
   ]
  },
  {
   "cell_type": "code",
   "execution_count": 11,
   "metadata": {
    "collapsed": true
   },
   "outputs": [],
   "source": [
    "random.shuffle(documents)"
   ]
  },
  {
   "cell_type": "code",
   "execution_count": 12,
   "metadata": {
    "collapsed": true
   },
   "outputs": [],
   "source": [
    "feature_sets = []\n",
    "for pair in documents:\n",
    "    conversation, clss = pair\n",
    "    feature_set = _get_term_features(conversation)\n",
    "    feature_sets.append((feature_set, clss))"
   ]
  },
  {
   "cell_type": "code",
   "execution_count": 13,
   "metadata": {
    "collapsed": true
   },
   "outputs": [],
   "source": [
    "bow_features = feature_sets"
   ]
  },
  {
   "cell_type": "code",
   "execution_count": 14,
   "metadata": {
    "collapsed": true
   },
   "outputs": [],
   "source": [
    "feature_sets = []\n",
    "for ind, pair in enumerate(documents):\n",
    "    conversation, clss = pair\n",
    "    feature_set = _get_action_features(conversation)\n",
    "    feature_set.update(bow_features[ind][0])\n",
    "    feature_sets.append((feature_set, clss))"
   ]
  },
  {
   "cell_type": "code",
   "execution_count": 15,
   "metadata": {
    "collapsed": true
   },
   "outputs": [],
   "source": [
    "bow_action_features = feature_sets"
   ]
  },
  {
   "cell_type": "code",
   "execution_count": 16,
   "metadata": {
    "collapsed": true
   },
   "outputs": [],
   "source": [
    "feature_sets = []\n",
    "for ind, pair in enumerate(documents):\n",
    "    conversation, clss = pair\n",
    "    feature_set = _get_repeatition_features(conversation)\n",
    "    feature_set.update(bow_action_features[ind][0])\n",
    "    feature_sets.append((feature_set, clss))"
   ]
  },
  {
   "cell_type": "code",
   "execution_count": 17,
   "metadata": {
    "collapsed": true
   },
   "outputs": [],
   "source": [
    "bow_action_repeat_features = feature_sets"
   ]
  },
  {
   "cell_type": "code",
   "execution_count": 61,
   "metadata": {
    "collapsed": true
   },
   "outputs": [],
   "source": [
    "feature_sets = []\n",
    "for ind, pair in enumerate(documents):\n",
    "    conversation, clss = pair\n",
    "    feature_set = _get_balance_features(conversation)\n",
    "    feature_set.update(bow_action_repeat_features[ind][0])\n",
    "    feature_sets.append((feature_set, clss))"
   ]
  },
  {
   "cell_type": "code",
   "execution_count": 62,
   "metadata": {},
   "outputs": [
    {
     "name": "stdout",
     "output_type": "stream",
     "text": [
      "0\n",
      "1000\n",
      "2000\n",
      "3000\n",
      "4000\n",
      "5000\n",
      "6000\n",
      "7000\n",
      "8000\n",
      "9000\n",
      "10000\n",
      "11000\n",
      "12000\n"
     ]
    }
   ],
   "source": [
    "X, y, feature_names = documents2feature_vectors(feature_sets)"
   ]
  },
  {
   "cell_type": "code",
   "execution_count": 63,
   "metadata": {
    "scrolled": true
   },
   "outputs": [
    {
     "name": "stdout",
     "output_type": "stream",
     "text": [
      "Fitting\n",
      "Best parameters set found on development set:\n",
      "\n",
      "LinearSVC(C=0.0001, class_weight=None, dual=True, fit_intercept=True,\n",
      "     intercept_scaling=1, loss='squared_hinge', max_iter=1000,\n",
      "     multi_class='ovr', penalty='l2', random_state=None, tol=0.0001,\n",
      "     verbose=0)\n",
      "\n",
      "Grid scores on development set:\n",
      "\n",
      "0.622 (+/-0.002) for {'C': 0.0001}\n",
      "\n"
     ]
    },
    {
     "name": "stderr",
     "output_type": "stream",
     "text": [
      "/home/yiqing/miniconda3/lib/python3.6/site-packages/sklearn/model_selection/_search.py:747: DeprecationWarning: The grid_scores_ attribute was deprecated in version 0.18 in favor of the more elaborate cv_results_ attribute. The grid_scores_ attribute will not be available from 0.20\n",
      "  DeprecationWarning)\n"
     ]
    }
   ],
   "source": [
    "train_svm(X, y)"
   ]
  },
  {
   "cell_type": "code",
   "execution_count": 25,
   "metadata": {
    "collapsed": true
   },
   "outputs": [],
   "source": [
    "def plot_coefficients(classifier, feature_names, top_features=20):\n",
    "    coef = classifier.coef_.ravel()\n",
    "    top_positive_coefficients = np.argsort(coef)[-top_features:]\n",
    "    top_negative_coefficients = np.argsort(coef)[:top_features]\n",
    "    top_coefficients = np.hstack([top_negative_coefficients, top_positive_coefficients])\n",
    "    \n",
    "    # create plot\n",
    "    plt.figure(figsize=(15, 5))\n",
    "    colors = ['red' if c < 0 else 'blue' for c in coef[top_coefficients]]\n",
    "    plt.bar(np.arange(2 * top_features), coef[top_coefficients], color=colors, alpha=0.5)\n",
    "    feature_names = np.array(feature_names)\n",
    "    plt.xticks(np.arange(1, 1 + 2 * top_features), feature_names[top_coefficients], rotation=60, ha='right')\n",
    "    plt.title('Top Positive and Negative Features')\n",
    "    plt.show()"
   ]
  },
  {
   "cell_type": "code",
   "execution_count": 26,
   "metadata": {},
   "outputs": [
    {
     "data": {
      "image/png": "[encoded data removed]",
      "text/plain": [
       "<matplotlib.figure.Figure at 0x7f5cade754e0>"
      ]
     },
     "metadata": {},
     "output_type": "display_data"
    }
   ],
   "source": [
    "classifier = svm.LinearSVC(C=0.0001)\n",
    "classifier.fit(X, y)\n",
    "plot_coefficients(classifier, feature_names)\n",
    "# 0.606 (+/-0.004) for {'C': 0.0001}"
   ]
  },
  {
   "cell_type": "code",
   "execution_count": 64,
   "metadata": {},
   "outputs": [
    {
     "data": {
      "image/png": "[encoded data removed]",
      "text/plain": [
       "<matplotlib.figure.Figure at 0x7f5cab2a7b38>"
      ]
     },
     "metadata": {},
     "output_type": "display_data"
    }
   ],
   "source": [
    "classifier = svm.LinearSVC(C=0.0001)\n",
    "classifier.fit(X, y)\n",
    "plot_coefficients(classifier, feature_names)\n",
    "# bow + action + repeat + entropy\n",
    "# 0.622 (+/-0.003) for {'C': 0.0001}"
   ]
  },
  {
   "cell_type": "code",
   "execution_count": null,
   "metadata": {
    "collapsed": true
   },
   "outputs": [],
   "source": []
  }
 ],
 "metadata": {
  "kernelspec": {
   "display_name": "Python [default]",
   "language": "python",
   "name": "python3"
  },
  "language_info": {
   "codemirror_mode": {
    "name": "ipython",
    "version": 3
   },
   "file_extension": ".py",
   "mimetype": "text/x-python",
   "name": "python",
   "nbconvert_exporter": "python",
   "pygments_lexer": "ipython3",
   "version": "3.6.1"
  }
 },
 "nbformat": 4,
 "nbformat_minor": 2
}
