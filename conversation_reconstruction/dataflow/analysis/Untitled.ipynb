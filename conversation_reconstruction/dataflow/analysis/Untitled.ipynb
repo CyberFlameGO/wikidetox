{
 "cells": [
  {
   "cell_type": "code",
   "execution_count": 1,
   "metadata": {
    "collapsed": true
   },
   "outputs": [],
   "source": [
    "import pandas as pd"
   ]
  },
  {
   "cell_type": "code",
   "execution_count": 12,
   "metadata": {},
   "outputs": [],
   "source": [
    "with open(\"barack_obama_2016_first_quarter.csv\", \"r\") as f:\n",
    "    df = pd.read_csv(f, index_col = 0)"
   ]
  },
  {
   "cell_type": "code",
   "execution_count": 13,
   "metadata": {},
   "outputs": [],
   "source": [
    "df.loc[df['type'] == \"COMMENT_REMOVAL\", \"type\"] = \"Deletion\""
   ]
  },
  {
   "cell_type": "code",
   "execution_count": 14,
   "metadata": {},
   "outputs": [],
   "source": [
    "df.loc[df['type'] == \"COMMENT_MODIFICATION\", \"type\"] = \"Modification\""
   ]
  },
  {
   "cell_type": "code",
   "execution_count": 15,
   "metadata": {
    "collapsed": true
   },
   "outputs": [],
   "source": [
    "df.loc[df['type'] == \"COMMENT_ADDING\", \"type\"] = \"Addition\""
   ]
  },
  {
   "cell_type": "code",
   "execution_count": 16,
   "metadata": {
    "collapsed": true
   },
   "outputs": [],
   "source": [
    "df.loc[df['type'] == \"SECTION_CREATION\", \"type\"] = \"Creation\""
   ]
  },
  {
   "cell_type": "code",
   "execution_count": 17,
   "metadata": {
    "collapsed": true
   },
   "outputs": [],
   "source": [
    "df.loc[df['type'] == \"COMMENT_RESTORATION\", \"type\"] = \"Restoration\""
   ]
  },
  {
   "cell_type": "code",
   "execution_count": 24,
   "metadata": {},
   "outputs": [],
   "source": [
    "with open(\"data_sample.csv\", \"w\") as f:\n",
    "    df[['content', 'type', 'replyTo', 'parent', 'author', 'revision']].to_csv(f)"
   ]
  },
  {
   "cell_type": "markdown",
   "metadata": {},
   "source": [
    "# Sample Data REAME\n",
    "\n",
    "This is a data sample from WikiConv, for the submission ***WikiConv: A Corpus of the Complete Conversational History of a Large Online Collaborative Community***.\n",
    "The sample includes all the actions from the talk page of [Barack Obama](https://en.wikipedia.org/wiki/Barack_Obama) in the first quarter of 2016.\n",
    "The data has the following schema:\n",
    "\n",
    "- ID: the unique id of the action.\n",
    "- Content: the content of the action.\n",
    "- Type: the type of the action, one of: Creation, Addition, Modification, Deletion, Restoration.\n",
    "- ReplyTo: the action id to which this action is replying to if any.\n",
    "- Parent : the action id from which this action was derived if any.\n",
    "- Revision: the wikipedia revison id where this action took place."
   ]
  },
  {
   "cell_type": "code",
   "execution_count": null,
   "metadata": {
    "collapsed": true
   },
   "outputs": [],
   "source": []
  }
 ],
 "metadata": {
  "kernelspec": {
   "display_name": "Python 3",
   "language": "python",
   "name": "python3"
  },
  "language_info": {
   "codemirror_mode": {
    "name": "ipython",
    "version": 3
   },
   "file_extension": ".py",
   "mimetype": "text/x-python",
   "name": "python",
   "nbconvert_exporter": "python",
   "pygments_lexer": "ipython3",
   "version": "3.6.3"
  }
 },
 "nbformat": 4,
 "nbformat_minor": 2
}
