{
 "cells": [
  {
   "cell_type": "code",
   "execution_count": 241,
   "metadata": {
    "collapsed": true
   },
   "outputs": [],
   "source": [
    "import json\n",
    "import numpy as np\n",
    "import scipy\n",
    "from scipy import stats\n",
    "import matplotlib.pyplot as plt\n",
    "from collections import defaultdict"
   ]
  },
  {
   "cell_type": "code",
   "execution_count": 3,
   "metadata": {
    "collapsed": true
   },
   "outputs": [],
   "source": [
    "Names = {\"10\": \"Article\", \"12\": \"Aux. verb\", \"18\": \"Conjunction\", \"16\": \"Adverb\", \\\n",
    "         \"3\": \"Pers. pron.\", \"9\": \"Indef. pron.\", \"17\": \"Preposition\", \"20\": \"Quantifier\"}"
   ]
  },
  {
   "cell_type": "code",
   "execution_count": 65,
   "metadata": {},
   "outputs": [
    {
     "data": {
      "text/plain": [
       "['Article',\n",
       " 'Quantifier',\n",
       " 'Preposition',\n",
       " 'Aux. verb',\n",
       " 'Conjunction',\n",
       " 'Indef. pron.',\n",
       " 'Adverb',\n",
       " 'Pers. pron.']"
      ]
     },
     "execution_count": 65,
     "metadata": {},
     "output_type": "execute_result"
    }
   ],
   "source": [
    "list(Names.values())"
   ]
  },
  {
   "cell_type": "code",
   "execution_count": 74,
   "metadata": {
    "collapsed": true
   },
   "outputs": [],
   "source": [
    "markers = []\n",
    "for a in range(3):\n",
    "    markers.append(\"Aggregated %d\"%(a+1))\n",
    "for x in ['Quantifier','Conjunction','Indef. pron.',\\\n",
    " 'Adverb','Aux. verb','Article','Pers. pron.',\\\n",
    " 'Preposition']:\n",
    "    markers.append(x)"
   ]
  },
  {
   "cell_type": "code",
   "execution_count": 30,
   "metadata": {
    "collapsed": true
   },
   "outputs": [],
   "source": [
    "def bootstrap_resample(X, n=None):\n",
    "    \"\"\" Bootstrap resample an array_like\n",
    "    Parameters\n",
    "    ----------\n",
    "    X : array_like\n",
    "      data to resample\n",
    "    n : int, optional\n",
    "      length of resampled array, equal to len(X) if n==None\n",
    "    Results\n",
    "    -------\n",
    "    returns X_resamples\n",
    "    \"\"\"\n",
    "    if n == None:\n",
    "        n = len(X)\n",
    "        \n",
    "    resample_i = list(np.floor(np.random.rand(n)*len(X)).astype(int))\n",
    "    X_resample = np.array(X)[resample_i]\n",
    "    return X_resample"
   ]
  },
  {
   "cell_type": "code",
   "execution_count": 5,
   "metadata": {
    "collapsed": true
   },
   "outputs": [],
   "source": [
    "def get_data(where):\n",
    "\n",
    "    with open(\"coordination_on_%s.json\"%(where), \"r\") as f:\n",
    "         c_o = json.load(f)\n",
    "\n",
    "    markers = c_o.keys()\n",
    "    all_users = len(c_o['18'])\n",
    "    average = {}\n",
    "    ret = {}\n",
    "    for m in markers:\n",
    "        average[m] = np.mean([c for c in c_o[m] if c])\n",
    "        print(m, np.mean([c for c in c_o[m] if c]), len(c_o[m]))\n",
    "        ret[Names[m]] = [c for c in c_o[m] if c]\n",
    "    aggregated = [[], [], []]\n",
    "    for x in range(all_users):\n",
    "        cur = []\n",
    "        cur_2 = []\n",
    "        cur_3 = []\n",
    "        valid = 1\n",
    "        for m in markers:\n",
    "            if c_o[m][x] == None:\n",
    "                valid = 0\n",
    "                cur_2.append(average[m])\n",
    "            else:\n",
    "                cur.append(c_o[m][x])\n",
    "                cur_2.append(c_o[m][x])\n",
    "                cur_3.append(c_o[m][x])\n",
    "        if valid:\n",
    "            aggregated[0].append(np.mean(cur))\n",
    "        if len(cur) > 0:\n",
    "            aggregated[1].append(np.mean(cur_2))\n",
    "            aggregated[2].append(np.mean(cur_3))\n",
    "    for a in range(3):\n",
    "        ret['Aggregated %d'%(a+1)] = aggregated[a]\n",
    "        print(a, np.mean(aggregated[a]), len(aggregated[a]))\n",
    "    return ret"
   ]
  },
  {
   "cell_type": "code",
   "execution_count": 249,
   "metadata": {
    "collapsed": true
   },
   "outputs": [],
   "source": [
    "def get_data(where, what):\n",
    "\n",
    "    coordination = defaultdict(list)\n",
    "    utterances = defaultdict(int)\n",
    "    target_and_speaker = {m: defaultdict(int) for m in Names.keys()}\n",
    "    speaker = {m: defaultdict(int) for m in Names.keys()}\n",
    "    target = {m: defaultdict(int) for m in Names.keys()}\n",
    "    with open(\"data/%s_coord.json\"%(where), \"r\") as f:\n",
    "         for line in f:\n",
    "            data = json.loads(line)\n",
    "            if not(data['page_title'].startswith(what)):\n",
    "                continue\n",
    "            user = data['user_text']\n",
    "            for m in Names.keys(): \n",
    "                t,s = data[m]\n",
    "                ts = int(t and s) \n",
    "                target_and_speaker[m][user] += ts\n",
    "                target[m][user] += t\n",
    "                speaker[m][user] += s\n",
    "            utterances[user] += 1        \n",
    "    for user in utterances.keys():\n",
    "        for m in Names.keys():\n",
    "            try:\n",
    "                tmp = target_and_speaker[m][user] / target[m][user] - speaker[m][user] / utterances[user]\n",
    "            except:\n",
    "                tmp = None\n",
    "            coordination[m].append(tmp)\n",
    "\n",
    "    markers = Names.keys()\n",
    "    all_users = len(utterances.keys())\n",
    "    average = {}\n",
    "    ret = {}\n",
    "    for m in markers:\n",
    "        average[m] = np.mean([c for c in coordination[m] if c])\n",
    "        print(m, np.mean([c for c in coordination[m] if c]), len(coordination[m]))\n",
    "        ret[Names[m]] = [c for c in coordination[m] if c]\n",
    "    aggregated = [[], [], []]\n",
    "    for x in range(all_users):\n",
    "        cur = []\n",
    "        cur_2 = []\n",
    "        cur_3 = []\n",
    "        valid = 1\n",
    "        for m in markers:\n",
    "            if coordination[m][x] == None:\n",
    "                valid = 0\n",
    "                cur_2.append(average[m])\n",
    "            else:\n",
    "                cur.append(coordination[m][x])\n",
    "                cur_2.append(coordination[m][x])\n",
    "                cur_3.append(coordination[m][x])\n",
    "        if valid:\n",
    "            aggregated[0].append(np.mean(cur))\n",
    "        if len(cur) > 0:\n",
    "            aggregated[1].append(np.mean(cur_2))\n",
    "            aggregated[2].append(np.mean(cur_3))\n",
    "    for a in range(3):\n",
    "        ret['Aggregated %d'%(a+1)] = aggregated[a]\n",
    "        print(a, np.mean(aggregated[a]), len(aggregated[a]))\n",
    "    return ret"
   ]
  },
  {
   "cell_type": "code",
   "execution_count": 250,
   "metadata": {},
   "outputs": [
    {
     "name": "stdout",
     "output_type": "stream",
     "text": [
      "10 0.0361882998079451 4019\n",
      "20 0.049860020685078534 4019\n",
      "17 0.021387293190535447 4019\n",
      "12 0.03781199201667015 4019\n",
      "18 0.04826351939100019 4019\n",
      "9 0.045680244267865516 4019\n",
      "16 0.04287430629430887 4019\n",
      "3 0.029033117457025685 4019\n",
      "0 0.03462841453533696 3663\n",
      "1 0.03370921200293973 3932\n",
      "2 0.03205838364875463 3932\n"
     ]
    }
   ],
   "source": [
    "data = {}\n",
    "data[\"own\"] = get_data(\"own_page\", \"User talk\")"
   ]
  },
  {
   "cell_type": "code",
   "execution_count": 262,
   "metadata": {},
   "outputs": [
    {
     "name": "stdout",
     "output_type": "stream",
     "text": [
      "10 0.010116365935038028 5154\n",
      "20 0.07939901401367928 5154\n",
      "17 -0.011056474588597591 5154\n",
      "12 -0.010434311664671143 5154\n",
      "18 -0.02510324663572841 5154\n",
      "9 0.03701969963581702 5154\n",
      "16 0.057046317843714306 5154\n",
      "3 -0.0262047161324155 5154\n",
      "0 0.014012845263931328 4693\n",
      "1 0.013398195502887449 5035\n",
      "2 0.012585733561904015 5035\n",
      "10 0.017353478000846644 5252\n",
      "20 0.032309338387859335 5252\n",
      "17 0.010584444003936655 5252\n",
      "12 0.016765673449973748 5252\n",
      "18 0.026296908054901643 5252\n",
      "9 0.020896693903012343 5252\n",
      "16 0.030033049222412282 5252\n",
      "3 0.034062211795041146 5252\n",
      "0 0.022550241930482464 5042\n",
      "1 0.022350408056103888 5190\n",
      "2 0.022595826541263683 5190\n"
     ]
    }
   ],
   "source": [
    "data[\"others_user\"] = get_data(\"reply_on_others\", \"User talk\")\n",
    "data[\"others_article\"] = get_data(\"reply_on_others\", \"Talk\")"
   ]
  },
  {
   "cell_type": "code",
   "execution_count": 6,
   "metadata": {},
   "outputs": [
    {
     "name": "stdout",
     "output_type": "stream",
     "text": [
      "10 0.0361882998079451 4019\n",
      "20 0.04986002068507853 4019\n",
      "17 0.021387293190535447 4019\n",
      "12 0.03781199201667015 4019\n",
      "18 0.04826351939100019 4019\n",
      "9 0.045680244267865516 4019\n",
      "16 0.04287430629430887 4019\n",
      "3 0.029033117457025685 4019\n",
      "0 0.03462841453533696 3663\n",
      "1 0.033709212002939734 3932\n",
      "2 0.03205838364875463 3932\n",
      "10 0.011529720504685856 5365\n",
      "20 0.0574931484577312 5365\n",
      "17 -0.004460995098863284 5365\n",
      "12 0.00046859881989438115 5365\n",
      "18 -0.00229089332297819 5365\n",
      "9 0.02528909294284527 5365\n",
      "16 0.038650471160140615 5365\n",
      "3 -0.0016638015735913204 5365\n",
      "0 0.015791084470530924 5160\n",
      "1 0.015285750711945415 5317\n",
      "2 0.015267553922883514 5317\n"
     ]
    }
   ],
   "source": [
    "data = {}\n",
    "data[\"own\"] = get_data(\"own\")\n",
    "data[\"others\"] = get_data(\"others\")"
   ]
  },
  {
   "cell_type": "code",
   "execution_count": 265,
   "metadata": {},
   "outputs": [
    {
     "name": "stdout",
     "output_type": "stream",
     "text": [
      "Aggregated 1 10.461308109993945 1.8406893281827595e-25\n",
      "Aggregated 2 9.612465568549032 8.981901535004185e-22\n",
      "Aggregated 3 7.080432303012364 1.5433508283646478e-12\n",
      "Quantifier 6.888419617760318 6.05289437272209e-12\n",
      "Conjunction 9.916149498437113 4.7770003185003747e-23\n",
      "Indef. pron. 11.073970136189187 2.671887603466876e-28\n",
      "Adverb 5.504409321215721 3.815272929948463e-08\n",
      "Aux. verb 10.815300317872866 4.49316705385051e-27\n",
      "Article 9.535947489653177 1.9254247237858315e-21\n",
      "Pers. pron. -2.3904189823822097 0.016852032280329814\n",
      "Preposition 6.563922408922158 5.579120637936709e-11\n"
     ]
    }
   ],
   "source": [
    "display_name = []\n",
    "for ind, m in enumerate(markers):\n",
    "    s, p = scipy.stats.ttest_ind(data[\"own\"][m], data[\"others_user\"][m])#, data[\"others_article\"][m])\n",
    "    print(m, s, p)\n",
    "    n = m\n",
    "    #if p < 0.05:\n",
    "    #    n += \"*\"\n",
    "    #if p < 0.01:\n",
    "    #    n += \"*\"\n",
    "    if p < 0.001:\n",
    "        n += \"*\"\n",
    "    display_name.append(n)"
   ]
  },
  {
   "cell_type": "code",
   "execution_count": 297,
   "metadata": {},
   "outputs": [
    {
     "data": {
      "text/plain": [
       "<matplotlib.figure.Figure at 0x7f84ec4b51d0>"
      ]
     },
     "metadata": {},
     "output_type": "display_data"
    },
    {
     "data": {
      "image/png": "[encoded data removed]",
      "text/plain": [
       "<matplotlib.figure.Figure at 0x7f84ec4b5860>"
      ]
     },
     "metadata": {},
     "output_type": "display_data"
    }
   ],
   "source": [
    "f = plt.figure(figsize=(2,15))\n",
    "N = len(markers)\n",
    "all_data = {}\n",
    "err = {}\n",
    "for x in [\"own\", \"others_article\", \"others_user\"]:\n",
    "    all_data[x] = [np.mean(data[x][m])*100 for m in markers]\n",
    "    err[x] = [[], []]\n",
    "resample = 20\n",
    "for ind,m in enumerate(markers):\n",
    "    lst = {}\n",
    "    for x in [\"own\", \"others_article\", \"others_user\"]:\n",
    "        lst[x] = []\n",
    "        for r in range(resample):\n",
    "            tmp = bootstrap_resample(data[x][m])\n",
    "            tmp = np.mean(tmp)*100\n",
    "            lst[x].append(tmp)\n",
    "        l, u = scipy.stats.t.interval(0.95, len(lst[x])-1, loc=np.mean(lst[x]), scale=scipy.stats.sem(lst[x]))\n",
    "        err[x][0].append(all_data[x][ind]-l)\n",
    "        err[x][1].append(u - all_data[x][ind])\n",
    "ind = [np.arange(N)]  # the x locations for the groups\n",
    "width = 0.3       # the width of the bars\n",
    "ind.append(ind[0] + width)\n",
    "ind.append(ind[1] + width)\n",
    "\n",
    "color = [\"r\", \"g\", \"b\"]\n",
    "fig, ax = plt.subplots(figsize=(7.5, 2))\n",
    "rect = []\n",
    "for i, x in enumerate([\"own\", \"others_article\", \"others_user\"]):\n",
    "    rect.append(ax.bar(ind[i], all_data[x], width, color=color[i], yerr=err[x], alpha=0.3))\n",
    "# add some text for labels, title and axes ticks\n",
    "ax.set_ylabel('Coordination')\n",
    "ax.set_xticks(ind[1])\n",
    "ax.set_xticklabels(display_name, rotation=45, ha=\"right\")\n",
    "plt.axvline(x=2.85)\n",
    "ax.legend((rect[0][0], rect[1][0], rect[2][0]), ('Self user talk page (3663, 3932)', 'Article talk page (4693, 5035)', \\\n",
    "                                                 'Other user talk page (5160, 5317)'), bbox_to_anchor=(0., 1.02, 1., .102), loc=3,\n",
    "           mode=\"expand\", borderaxespad=0., ncol=2)\n",
    "\n",
    "plt.show()\n",
    "fig.savefig(\"coordination.pdf\", bbox_inches='tight')"
   ]
  },
  {
   "cell_type": "code",
   "execution_count": 170,
   "metadata": {
    "collapsed": true
   },
   "outputs": [],
   "source": [
    "import pandas as pd\n",
    "import matplotlib.ticker as mtick"
   ]
  },
  {
   "cell_type": "code",
   "execution_count": 301,
   "metadata": {
    "collapsed": true
   },
   "outputs": [],
   "source": [
    "df = pd.DataFrame({\"Toxic\": [28, 4, 6, 9, 4], \"Normal\": [3, 3, 5, 8, 3], \"Severe Toxic\": [86, 1, 1, 1, 1]})"
   ]
  },
  {
   "cell_type": "code",
   "execution_count": 302,
   "metadata": {},
   "outputs": [
    {
     "data": {
      "image/png": "[encoded data removed]",
      "text/plain": [
       "<matplotlib.figure.Figure at 0x7f84e4c58c18>"
      ]
     },
     "metadata": {},
     "output_type": "display_data"
    }
   ],
   "source": [
    "ax = df.T.plot(kind='barh', stacked=True, figsize=(6, 2), alpha=0.5,  edgecolor='none', linewidth=0)\n",
    "plt.legend([\"In a day\", \"In a week\", \"In a month\", \"In a year\", \"After one year\"], bbox_to_anchor=(0., 1.02, 1., .102), loc=3,\n",
    "           ncol=3, mode=\"expand\", borderaxespad=0.)\n",
    "fmt = '%.0f%%' # Format you want the ticks, e.g. '40%'\n",
    "xticks = mtick.FormatStrFormatter(fmt)\n",
    "ax.xaxis.set_major_formatter(xticks)\n",
    "plt.grid(True)\n",
    "#for p in ax.patches:\n",
    "#ax.annotate(str(int(p.get_width()))+ '%', (p.get_x() + p.get_width()/2-1.5, p.get_height()-0.5))\n",
    "#plt.axvline(x=28, color=\"g\")\n",
    "#plt.text(28.2,-0.45,'Normal', color=\"g\")\n",
    "#plt.axvline(x=64, color=\"r\")\n",
    "#plt.text(64.2,-0.45,'Toxic', color=\"r\")\n",
    "plt.xlim((0, 100))\n",
    "plt.savefig(\"toxic-deletion.pdf\", bbox_inches='tight')"
   ]
  },
  {
   "cell_type": "code",
   "execution_count": null,
   "metadata": {
    "collapsed": true
   },
   "outputs": [],
   "source": []
  }
 ],
 "metadata": {
  "kernelspec": {
   "display_name": "Python 3 (enron)",
   "language": "python",
   "name": "enron"
  },
  "language_info": {
   "codemirror_mode": {
    "name": "ipython",
    "version": 3
   },
   "file_extension": ".py",
   "mimetype": "text/x-python",
   "name": "python",
   "nbconvert_exporter": "python",
   "pygments_lexer": "ipython3",
   "version": "3.5.4"
  }
 },
 "nbformat": 4,
 "nbformat_minor": 2
}
