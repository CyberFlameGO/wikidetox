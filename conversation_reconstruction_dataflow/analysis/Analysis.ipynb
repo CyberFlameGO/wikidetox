{
 "cells": [
  {
   "cell_type": "code",
   "execution_count": 47,
   "metadata": {
    "collapsed": true
   },
   "outputs": [],
   "source": [
    "import json\n",
    "import numpy as np\n",
    "import scipy\n",
    "from scipy import stats\n",
    "import matplotlib.pyplot as plt\n",
    "from collections import defaultdict"
   ]
  },
  {
   "cell_type": "code",
   "execution_count": 3,
   "metadata": {
    "collapsed": true
   },
   "outputs": [],
   "source": [
    "Names = {\"10\": \"Article\", \"12\": \"Aux. verb\", \"18\": \"Conjunction\", \"16\": \"Adverb\", \\\n",
    "         \"3\": \"Pers. pron.\", \"9\": \"Indef. pron.\", \"17\": \"Preposition\", \"20\": \"Quantifier\"}"
   ]
  },
  {
   "cell_type": "code",
   "execution_count": 4,
   "metadata": {},
   "outputs": [
    {
     "data": {
      "text/plain": [
       "['Pers. pron.',\n",
       " 'Preposition',\n",
       " 'Conjunction',\n",
       " 'Adverb',\n",
       " 'Aux. verb',\n",
       " 'Quantifier',\n",
       " 'Indef. pron.',\n",
       " 'Article']"
      ]
     },
     "execution_count": 4,
     "metadata": {},
     "output_type": "execute_result"
    }
   ],
   "source": [
    "list(Names.values())"
   ]
  },
  {
   "cell_type": "code",
   "execution_count": 5,
   "metadata": {
    "collapsed": true
   },
   "outputs": [],
   "source": [
    "markers = []\n",
    "for a in range(3):\n",
    "    markers.append(\"Aggregated %d\"%(a+1))\n",
    "for x in ['Quantifier','Conjunction','Indef. pron.',\\\n",
    " 'Adverb','Aux. verb','Article','Pers. pron.',\\\n",
    " 'Preposition']:\n",
    "    markers.append(x)"
   ]
  },
  {
   "cell_type": "code",
   "execution_count": 6,
   "metadata": {
    "collapsed": true
   },
   "outputs": [],
   "source": [
    "def bootstrap_resample(X, n=None):\n",
    "    \"\"\" Bootstrap resample an array_like\n",
    "    Parameters\n",
    "    ----------\n",
    "    X : array_like\n",
    "      data to resample\n",
    "    n : int, optional\n",
    "      length of resampled array, equal to len(X) if n==None\n",
    "    Results\n",
    "    -------\n",
    "    returns X_resamples\n",
    "    \"\"\"\n",
    "    if n == None:\n",
    "        n = len(X)\n",
    "        \n",
    "    resample_i = list(np.floor(np.random.rand(n)*len(X)).astype(int))\n",
    "    X_resample = np.array(X)[resample_i]\n",
    "    return X_resample"
   ]
  },
  {
   "cell_type": "code",
   "execution_count": 7,
   "metadata": {
    "collapsed": true
   },
   "outputs": [],
   "source": [
    "def get_data(where):\n",
    "\n",
    "    with open(\"data/coordination_on_%s.json\"%(where), \"r\") as f:\n",
    "         c_o = json.load(f)\n",
    "\n",
    "    markers = c_o.keys()\n",
    "    all_users = len(c_o['18'])\n",
    "    average = {}\n",
    "    ret = {}\n",
    "    for m in markers:\n",
    "        average[m] = np.mean([c for c in c_o[m] if c])\n",
    "        print(m, np.mean([c for c in c_o[m] if c]), len(c_o[m]))\n",
    "        ret[Names[m]] = [c for c in c_o[m] if c]\n",
    "    aggregated = [[], [], []]\n",
    "    for x in range(all_users):\n",
    "        cur = []\n",
    "        cur_2 = []\n",
    "        cur_3 = []\n",
    "        valid = 1\n",
    "        for m in markers:\n",
    "            if c_o[m][x] == None:\n",
    "                valid = 0\n",
    "                cur_2.append(average[m])\n",
    "            else:\n",
    "                cur.append(c_o[m][x])\n",
    "                cur_2.append(c_o[m][x])\n",
    "                cur_3.append(c_o[m][x])\n",
    "        if valid:\n",
    "            aggregated[0].append(np.mean(cur))\n",
    "        if len(cur) > 0:\n",
    "            aggregated[1].append(np.mean(cur_2))\n",
    "            aggregated[2].append(np.mean(cur_3))\n",
    "    for a in range(3):\n",
    "        ret['Aggregated %d'%(a+1)] = aggregated[a]\n",
    "        print(a, np.mean(aggregated[a]), len(aggregated[a]))\n",
    "    return ret"
   ]
  },
  {
   "cell_type": "code",
   "execution_count": 53,
   "metadata": {
    "collapsed": true
   },
   "outputs": [],
   "source": [
    "def get_data(where, what):\n",
    "\n",
    "    coordination = defaultdict(list)\n",
    "    utterances = defaultdict(int)\n",
    "    target_and_speaker = {m: defaultdict(int) for m in Names.keys()}\n",
    "    speaker = {m: defaultdict(int) for m in Names.keys()}\n",
    "    target = {m: defaultdict(int) for m in Names.keys()}\n",
    "    with open(\"data/%s_coord.json\"%(where), \"r\") as f:\n",
    "         for line in f:\n",
    "            data = json.loads(line)\n",
    "            if not(data['page_title'].startswith(what)):\n",
    "                continue\n",
    "            user = data['user_text']\n",
    "            for m in Names.keys(): \n",
    "                t,s = data[m]\n",
    "                ts = int(t and s) \n",
    "                target_and_speaker[m][user] += ts\n",
    "                target[m][user] += t\n",
    "                speaker[m][user] += s\n",
    "            utterances[user] += 1        \n",
    "    for user in utterances.keys():\n",
    "        for m in Names.keys():\n",
    "            try:\n",
    "                assert(speaker[m][user] >= 3)\n",
    "                tmp = target_and_speaker[m][user] / target[m][user] - speaker[m][user] / utterances[user]\n",
    "            except:\n",
    "                tmp = None\n",
    "            coordination[m].append(tmp)\n",
    "\n",
    "    markers = Names.keys()\n",
    "    all_users = len(utterances.keys())\n",
    "    average = {}\n",
    "    ret = {}\n",
    "    for m in markers:\n",
    "        average[m] = np.mean([c for c in coordination[m] if c])\n",
    "        print(m, np.mean([c for c in coordination[m] if c]), len(coordination[m]))\n",
    "        ret[Names[m]] = [c for c in coordination[m] if c]\n",
    "    aggregated = [[], [], []]\n",
    "    user_list = [[], []]\n",
    "    for x in range(all_users):\n",
    "        cur = []\n",
    "        cur_2 = []\n",
    "        cur_3 = []\n",
    "        valid = 1\n",
    "        for m in markers:\n",
    "            if coordination[m][x] == None:\n",
    "                valid = 0\n",
    "                cur_2.append(average[m])\n",
    "            else:\n",
    "                cur.append(coordination[m][x])\n",
    "                cur_2.append(coordination[m][x])\n",
    "                cur_3.append(coordination[m][x])\n",
    "        if valid:\n",
    "            aggregated[0].append(np.mean(cur))\n",
    "            user_list[0].append(x)\n",
    "        if len(cur) > 0:\n",
    "            aggregated[1].append(np.mean(cur_2))\n",
    "            aggregated[2].append(np.mean(cur_3))\n",
    "            user_list[1].append(x)\n",
    "    for a in range(3):\n",
    "        ret['Aggregated %d'%(a+1)] = aggregated[a]\n",
    "        print(a, np.mean(aggregated[a]), len(aggregated[a]))\n",
    "    return ret, user_list[0], user_list[1]"
   ]
  },
  {
   "cell_type": "code",
   "execution_count": 54,
   "metadata": {},
   "outputs": [
    {
     "name": "stdout",
     "output_type": "stream",
     "text": [
      "3 0.026117999322684323 4019\n",
      "17 0.02004875678566464 4019\n",
      "18 0.04380431156054099 4019\n",
      "16 0.040265975247970376 4019\n",
      "12 0.03574753216136462 4019\n",
      "20 0.04989822147165337 4019\n",
      "9 0.04189310222328749 4019\n",
      "10 0.03548138771274281 4019\n",
      "0 0.03428691602508395 3147\n",
      "1 0.034043827151663174 3559\n",
      "2 0.03264097114646469 3559\n",
      "3 -0.02655892841392331 5154\n",
      "17 -0.011455093566607549 5154\n",
      "18 -0.02622468246053288 5154\n",
      "16 0.0553581390634963 5154\n",
      "12 -0.010650501016732287 5154\n",
      "20 0.0811884046128917 5154\n",
      "9 0.036057293786015285 5154\n",
      "10 0.009276007034208918 5154\n",
      "0 0.014016951800320802 4352\n",
      "1 0.013360611367393464 4738\n",
      "2 0.012278515691483869 4738\n",
      "3 0.03437991516979621 5252\n",
      "17 0.010263080512932891 5252\n",
      "18 0.025829799162821604 5252\n",
      "16 0.02835784162559718 5252\n",
      "12 0.01568785783595939 5252\n",
      "20 0.03334027243945758 5252\n",
      "9 0.020796698745263378 5252\n",
      "10 0.017061327697376345 5252\n",
      "0 0.022831569264758666 4805\n",
      "1 0.022506008353585964 5020\n",
      "2 0.02248555001320598 5020\n"
     ]
    }
   ],
   "source": [
    "data = {}\n",
    "users = {\"own\":[[], []], \"others_user\":[[], []], \"others_article\":[[], []]}\n",
    "data[\"own\"], users[\"own\"][0], users[\"own\"][1] = get_data(\"own_page\", \"User talk\")\n",
    "data[\"others_user\"], users[\"others_user\"][0], users[\"others_user\"][1] = get_data(\"reply_on_others\", \"User talk\")\n",
    "data[\"others_article\"], users['others_article'][0], users[\"others_article\"][1] = get_data(\"reply_on_others\", \"Talk\")"
   ]
  },
  {
   "cell_type": "code",
   "execution_count": 55,
   "metadata": {
    "collapsed": true
   },
   "outputs": [],
   "source": [
    "all_users = [[], []]\n",
    "for r in [0, 1]:\n",
    "    all_users[r] = list(set(users[\"own\"][r])&set(users[\"others_user\"][r])&set(users[\"others_article\"][r]))"
   ]
  },
  {
   "cell_type": "code",
   "execution_count": 56,
   "metadata": {
    "collapsed": true
   },
   "outputs": [],
   "source": [
    "def get_data(where, what, who):\n",
    "\n",
    "    coordination = defaultdict(list)\n",
    "    utterances = defaultdict(int)\n",
    "    target_and_speaker = {m: defaultdict(int) for m in Names.keys()}\n",
    "    speaker = {m: defaultdict(int) for m in Names.keys()}\n",
    "    target = {m: defaultdict(int) for m in Names.keys()}\n",
    "    with open(\"data/%s_coord.json\"%(where), \"r\") as f:\n",
    "         for line in f:\n",
    "            data = json.loads(line)\n",
    "            if not(data['page_title'].startswith(what)):\n",
    "                continue\n",
    "            user = data['user_text']\n",
    "            for m in Names.keys(): \n",
    "                t,s = data[m]\n",
    "                ts = int(t and s) \n",
    "                target_and_speaker[m][user] += ts\n",
    "                target[m][user] += t\n",
    "                speaker[m][user] += s\n",
    "            utterances[user] += 1        \n",
    "    for user in utterances.keys():\n",
    "        for m in Names.keys():\n",
    "            try:\n",
    "                assert(speaker[m][user] >= 3)\n",
    "                tmp = target_and_speaker[m][user] / target[m][user] - speaker[m][user] / utterances[user]\n",
    "            except:\n",
    "                tmp = None\n",
    "            coordination[m].append(tmp)\n",
    "\n",
    "    markers = Names.keys()\n",
    "    all_users = len(utterances.keys())\n",
    "    average = {}\n",
    "    ret = {}\n",
    "    for m in markers:\n",
    "        average[m] = np.mean([c for c in coordination[m] if c])\n",
    "        print(m, np.mean([c for c in coordination[m] if c]), len(coordination[m]))\n",
    "        ret[Names[m]] = [c for c in coordination[m] if c]\n",
    "    aggregated = [[], [], []]\n",
    "    user_list = [[], []]\n",
    "    for x in range(all_users):\n",
    "        cur = []\n",
    "        cur_2 = []\n",
    "        cur_3 = []\n",
    "        valid = 1\n",
    "        for m in markers:\n",
    "            if coordination[m][x] == None:\n",
    "                valid = 0\n",
    "                cur_2.append(average[m])\n",
    "            else:\n",
    "                cur.append(coordination[m][x])\n",
    "                cur_2.append(coordination[m][x])\n",
    "                cur_3.append(coordination[m][x])\n",
    "        if valid and (x in who[0]):\n",
    "            aggregated[0].append(np.mean(cur))\n",
    "            user_list[0].append(x)\n",
    "        if len(cur) > 0 and (x in who[1]):\n",
    "            aggregated[1].append(np.mean(cur_2))\n",
    "            aggregated[2].append(np.mean(cur_3))\n",
    "            user_list[1].append(x)\n",
    "    for a in range(3):\n",
    "        ret['Aggregated %d'%(a+1)] = aggregated[a]\n",
    "        print(a, np.mean(aggregated[a]), len(aggregated[a]))\n",
    "    return ret"
   ]
  },
  {
   "cell_type": "code",
   "execution_count": 57,
   "metadata": {},
   "outputs": [
    {
     "name": "stdout",
     "output_type": "stream",
     "text": [
      "3 0.026117999322684323 4019\n",
      "17 0.02004875678566464 4019\n",
      "18 0.04380431156054099 4019\n",
      "16 0.040265975247970376 4019\n",
      "12 0.03574753216136462 4019\n",
      "20 0.04989822147165337 4019\n",
      "9 0.04189310222328749 4019\n",
      "10 0.03548138771274281 4019\n",
      "0 0.034046204650122876 2425\n",
      "1 0.033919964399312004 3130\n",
      "2 0.03228290710877541 3130\n",
      "3 -0.02655892841392331 5154\n",
      "17 -0.011455093566607549 5154\n",
      "18 -0.02622468246053288 5154\n",
      "16 0.0553581390634963 5154\n",
      "12 -0.010650501016732287 5154\n",
      "20 0.0811884046128917 5154\n",
      "9 0.036057293786015285 5154\n",
      "10 0.009276007034208918 5154\n",
      "0 0.014793818368959332 2425\n",
      "1 0.014281130454862737 3130\n",
      "2 0.013169227995589386 3130\n",
      "3 0.03437991516979621 5252\n",
      "17 0.010263080512932891 5252\n",
      "18 0.025829799162821604 5252\n",
      "16 0.02835784162559718 5252\n",
      "12 0.01568785783595939 5252\n",
      "20 0.03334027243945758 5252\n",
      "9 0.020796698745263378 5252\n",
      "10 0.017061327697376345 5252\n",
      "0 0.023678477326848753 2425\n",
      "1 0.023065090261037664 3130\n",
      "2 0.02273530798892374 3130\n"
     ]
    }
   ],
   "source": [
    "data = {}\n",
    "data[\"own\"] = get_data(\"own_page\", \"User talk\", all_users)\n",
    "data[\"others_user\"] = get_data(\"reply_on_others\", \"User talk\", all_users)\n",
    "data[\"others_article\"] = get_data(\"reply_on_others\", \"Talk\", all_users)"
   ]
  },
  {
   "cell_type": "code",
   "execution_count": 58,
   "metadata": {},
   "outputs": [
    {
     "name": "stdout",
     "output_type": "stream",
     "text": [
      "Aggregated 1 66.62024904484694 2.133334038400425e-29\n",
      "Aggregated 2 82.7770727979966 2.31051466874032e-36\n",
      "Aggregated 3 61.286291545278246 3.597306614468564e-27\n",
      "Quantifier 171.97438181840164 2.1992038876681204e-74\n",
      "Conjunction 423.45400956591715 1.4728031373735067e-178\n",
      "Indef. pron. 40.11792768804375 4.303128129318539e-18\n",
      "Adverb 62.015076488978494 1.591268612160213e-27\n",
      "Aux. verb 278.1483876904983 8.21777347264371e-119\n",
      "Article 72.6083398520377 4.495662897910392e-32\n",
      "Pers. pron. 562.2881787274329 3.15105818294798e-234\n",
      "Preposition 208.96412194897826 6.807835285455082e-90\n"
     ]
    }
   ],
   "source": [
    "display_name = []\n",
    "for ind, m in enumerate(markers):\n",
    "    s, p = scipy.stats.f_oneway(data[\"own\"][m], data[\"others_user\"][m], data[\"others_article\"][m])\n",
    "    print(m, s, p)\n",
    "    n = m\n",
    "    #if p < 0.05:\n",
    "    #    n += \"*\"\n",
    "    #if p < 0.01:\n",
    "    #    n += \"*\"\n",
    "    #if p < 0.001:\n",
    "    #    n += \"*\"\n",
    "    display_name.append(n)"
   ]
  },
  {
   "cell_type": "code",
   "execution_count": 93,
   "metadata": {},
   "outputs": [
    {
     "data": {
      "text/plain": [
       "<matplotlib.figure.Figure at 0x7f9e941bd908>"
      ]
     },
     "metadata": {},
     "output_type": "display_data"
    },
    {
     "data": {
      "image/png": "[encoded data removed]",
      "text/plain": [
       "<matplotlib.figure.Figure at 0x7f9e941bd860>"
      ]
     },
     "metadata": {},
     "output_type": "display_data"
    }
   ],
   "source": [
    "f = plt.figure(figsize=(2,15))\n",
    "N = len(markers[:1])\n",
    "all_data = {}\n",
    "err = {}\n",
    "for x in [\"own\", \"others_article\", \"others_user\"]:\n",
    "    all_data[x] = [np.mean(data[x][m])*100 for m in markers][:1]\n",
    "    err[x] = [[], []]\n",
    "resample = 20\n",
    "for ind,m in enumerate(markers[:1]):\n",
    "    lst = {}\n",
    "    for x in [\"own\", \"others_article\", \"others_user\"]:\n",
    "        lst[x] = []\n",
    "        for r in range(resample):\n",
    "            tmp = bootstrap_resample(data[x][m])\n",
    "            tmp = np.mean(tmp)*100\n",
    "            lst[x].append(tmp)\n",
    "        l, u = scipy.stats.t.interval(0.95, len(lst[x])-1, loc=np.mean(lst[x]), scale=scipy.stats.sem(lst[x]))\n",
    "        err[x][0].append(all_data[x][ind]-l)\n",
    "        err[x][1].append(u - all_data[x][ind])\n",
    "ind = [np.arange(N)]  # the x locations for the groups\n",
    "width = 0.3       # the width of the bars\n",
    "ind.append(ind[0] + width)\n",
    "ind.append(ind[1] + width)\n",
    "\n",
    "color = [\"r\", \"g\", \"b\"]\n",
    "fig, ax = plt.subplots(figsize=(3, 4))\n",
    "rect = []\n",
    "for i, x in enumerate([\"own\", \"others_article\", \"others_user\"]):\n",
    "    rect.append(ax.bar(ind[i], all_data[x], width, color=color[i], yerr=err[x], alpha=0.3))\n",
    "# add some text for labels, title and axes ticks\n",
    "ax.set_ylabel('Coordination Value\\n(%s 100)'%(r\"$\\times$\"))\n",
    "ax.set_xticks(ind[1])\n",
    "ax.set_xticklabels(display_na)\n",
    "ax.legend((rect[0][0], rect[1][0], rect[2][0]), ('Self user talk page', 'Article talk page', \\\n",
    "                                                 'Other user talk page'), bbox_to_anchor=(0., 1.02, 1., .102), loc=3,\n",
    "           mode=\"expand\", borderaxespad=0., ncol=1)\n",
    "\n",
    "plt.show()\n",
    "fig.savefig(\"figs/coordination.pdf\", bbox_inches='tight')"
   ]
  },
  {
   "cell_type": "code",
   "execution_count": 65,
   "metadata": {
    "collapsed": true
   },
   "outputs": [],
   "source": [
    "import pandas as pd\n",
    "import matplotlib.ticker as mtick"
   ]
  },
  {
   "cell_type": "code",
   "execution_count": 301,
   "metadata": {
    "collapsed": true
   },
   "outputs": [],
   "source": [
    "df = pd.DataFrame({\"Toxic\": [28, 4, 6, 9, 4], \"Normal\": [3, 3, 5, 8, 3], \"Severe Toxic\": [86, 1, 1, 1, 1]})"
   ]
  },
  {
   "cell_type": "code",
   "execution_count": 95,
   "metadata": {},
   "outputs": [
    {
     "data": {
      "image/png": "[encoded data removed]",
      "text/plain": [
       "<matplotlib.figure.Figure at 0x7f9e941cbb70>"
      ]
     },
     "metadata": {},
     "output_type": "display_data"
    }
   ],
   "source": [
    "ax = df.T.plot(kind='barh', stacked=True, figsize=(6, 2), alpha=0.5,  edgecolor='none', linewidth=0)\n",
    "plt.legend([\"<= 1 day\", \"<= 1 week\", \"<= 1 month\", \"<= 1 year\", \"> 1 year\"], bbox_to_anchor=(0., 1.02, 1., .102), loc=3,\n",
    "           ncol=3, mode=\"expand\", borderaxespad=0.)\n",
    "fmt = '%.0f%%' # Format you want the ticks, e.g. '40%'\n",
    "xticks = mtick.FormatStrFormatter(fmt)\n",
    "ax.xaxis.set_major_formatter(xticks)\n",
    "plt.grid(True)\n",
    "plt.xlim((0, 100))\n",
    "plt.savefig(\"toxic-deletion.pdf\", bbox_inches='tight')"
   ]
  },
  {
   "cell_type": "code",
   "execution_count": 86,
   "metadata": {},
   "outputs": [
    {
     "data": {
      "image/png": "[encoded data removed]",
      "text/plain": [
       "<matplotlib.figure.Figure at 0x7f9e9423d3c8>"
      ]
     },
     "metadata": {},
     "output_type": "display_data"
    }
   ],
   "source": [
    "N = len(markers[:3])\n",
    "all_data = {}\n",
    "err = {}\n",
    "for x in [\"own\", \"others_article\", \"others_user\"]:\n",
    "    all_data[x] = [np.mean(data[x][m])*100 for m in markers][:3]\n",
    "    err[x] = [[], []]\n",
    "resample = 20\n",
    "for ind,m in enumerate(markers[:3]):\n",
    "    lst = {}\n",
    "    for x in [\"own\", \"others_article\", \"others_user\"]:\n",
    "        lst[x] = []\n",
    "        for r in range(resample):\n",
    "            tmp = bootstrap_resample(data[x][m])\n",
    "            tmp = np.mean(tmp)*100\n",
    "            lst[x].append(tmp)\n",
    "        l, u = scipy.stats.t.interval(0.95, len(lst[x])-1, loc=np.mean(lst[x]), scale=scipy.stats.sem(lst[x]))\n",
    "        err[x][0].append(all_data[x][ind]-l)\n",
    "        err[x][1].append(u - all_data[x][ind])\n",
    "ind = [np.arange(N)]  # the x locations for the groups\n",
    "width = 0.3       # the width of the bars\n",
    "ind.append(ind[0] + width)\n",
    "ind.append(ind[1] + width)\n",
    "\n",
    "color = [\"r\", \"g\", \"b\"]\n",
    "fig, axes = plt.subplots(nrows=1, ncols=2)\n",
    "#fig, ax = plt.subplots(figsize=(6, 2))\n",
    "ax = axes[0]\n",
    "rect = []\n",
    "for i, x in enumerate([\"own\", \"others_article\", \"others_user\"]):\n",
    "    rect.append(ax.bar(ind[i], all_data[x], width, color=color[i], yerr=err[x], alpha=0.3))\n",
    "# add some text for labels, title and axes ticks\n",
    "ax.set_ylabel('Coordination Value\\n(%s 100)'%(r\"$\\times$\"))\n",
    "ax.set_xticks(ind[1])\n",
    "ax.set_xticklabels([\"Aggregated 1\\n on 2,425 editors\", \"Aggregated 2\\n on 3,130 editors\", \"Aggregated 3\\non 3,130 editors\"])\n",
    "ax.legend((rect[0][0], rect[1][0], rect[2][0]), ('Self user talk page', 'Article talk page', \\\n",
    "                                                 'Other user talk page'), bbox_to_anchor=(0., 1.02, 1., .102), loc=3,\n",
    "           mode=\"expand\", borderaxespad=0., ncol=2)\n",
    "\n",
    "df = pd.DataFrame({\"Toxic\": [28, 4, 6, 9, 4], \"Normal\": [3, 3, 5, 8, 3], \"Severe\\nToxic\": [86, 1, 1, 1, 1]})\n",
    "ax = df.T.plot(kind='barh', stacked=True, figsize=(12, 2), alpha=0.5,  edgecolor='none', linewidth=0, ax=axes[1])\n",
    "ax.legend([\"In a day\", \"In a week\", \"In a month\", \"In a year\", \"After one year\"], bbox_to_anchor=(0., 1.02, 1., .102), loc=3,\n",
    "           ncol=3, mode=\"expand\", borderaxespad=0.)\n",
    "fmt = '%.0f%%' # Format you want the ticks, e.g. '40%'\n",
    "xticks = mtick.FormatStrFormatter(fmt)\n",
    "ax.xaxis.set_major_formatter(xticks)\n",
    "ax.grid(True)\n",
    "ax.set_xlim((0, 100))\n",
    "plt.savefig(\"figs/usecase.pdf\", bbox_inches='tight')"
   ]
  },
  {
   "cell_type": "code",
   "execution_count": null,
   "metadata": {
    "collapsed": true
   },
   "outputs": [],
   "source": []
  }
 ],
 "metadata": {
  "kernelspec": {
   "display_name": "Python 3 (enron)",
   "language": "python",
   "name": "enron"
  },
  "language_info": {
   "codemirror_mode": {
    "name": "ipython",
    "version": 3
   },
   "file_extension": ".py",
   "mimetype": "text/x-python",
   "name": "python",
   "nbconvert_exporter": "python",
   "pygments_lexer": "ipython3",
   "version": "3.5.4"
  }
 },
 "nbformat": 4,
 "nbformat_minor": 2
}
