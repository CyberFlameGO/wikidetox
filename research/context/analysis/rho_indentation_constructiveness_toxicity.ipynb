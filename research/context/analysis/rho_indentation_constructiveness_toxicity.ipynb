{
  "nbformat": 4,
  "nbformat_minor": 0,
  "metadata": {
    "colab": {
      "name": "rho_indentation_constructiveness_toxicity.ipynb",
      "version": "0.3.2",
      "provenance": [],
      "collapsed_sections": []
    },
    "kernelspec": {
      "name": "python3",
      "display_name": "Python 3"
    }
  },
  "cells": [
    {
      "metadata": {
        "id": "I8kcM70I0ks3",
        "colab_type": "code",
        "colab": {}
      },
      "cell_type": "code",
      "source": [
        "from tqdm import tqdm\n",
        "import pandas as pd\n",
        "import json\n",
        "import numpy as np\n",
        "from scipy.stats import pearsonr, spearmanr, kendalltau\n",
        "import textwrap\n",
        "from google.cloud import bigquery\n",
        "from google.colab import auth\n",
        "auth.authenticate_user()"
      ],
      "execution_count": 0,
      "outputs": []
    },
    {
      "metadata": {
        "id": "1_jKKiaS0utX",
        "colab_type": "code",
        "colab": {}
      },
      "cell_type": "code",
      "source": [
        "import logging\n",
        "logger = logging.getLogger('indentation_constructiveness_gbq')\n",
        "logger.setLevel(logging.DEBUG)\n",
        "logger.addHandler(logging.StreamHandler())"
      ],
      "execution_count": 0,
      "outputs": []
    },
    {
      "metadata": {
        "id": "VilvjdVx305e",
        "colab_type": "code",
        "colab": {}
      },
      "cell_type": "code",
      "source": [
        "project_id = \"wikidetox-viz\"\n",
        "\n",
        "# Connect to Google's BigQuery\n",
        "client = bigquery.Client(project=project_id)\n",
        "#bigquery.Create(project=project_id)"
      ],
      "execution_count": 0,
      "outputs": []
    },
    {
      "metadata": {
        "id": "BTtc1efp34yO",
        "colab_type": "code",
        "colab": {}
      },
      "cell_type": "code",
      "source": [
        "def get_comments_scored_for_constructiveness_n_toxicity():\n",
        "  query = \"\"\"\n",
        "    SELECT t1.id as id1, t2.id as id2, t1.RockV6_1_TOXICITY as tox, t2.constructiveness as constr, t1.indentation as indent, t1.cleaned_content as txt\n",
        "    FROM `en_20180501_wikiconvviz_data.sampled_by_indentation` as t1\n",
        "    JOIN `en_20180501_wikiconvviz_data.constructive_scored_sampled_by_indentation` as t2\n",
        "    ON t1.id = t2.id\n",
        "  \"\"\"\n",
        "  query_job = client.query(query)\n",
        "  results = query_job.result()\n",
        "  return results"
      ],
      "execution_count": 0,
      "outputs": []
    },
    {
      "metadata": {
        "id": "0XODVXni4GRz",
        "colab_type": "code",
        "colab": {}
      },
      "cell_type": "code",
      "source": [
        "wrapper = lambda r: {\"toxicity\":r.tox, \"indentation\": r.indent, \"constructiveness\":r.constr, \"txt\":r.txt}"
      ],
      "execution_count": 0,
      "outputs": []
    },
    {
      "metadata": {
        "id": "jK7gfPX_4bBc",
        "colab_type": "code",
        "colab": {}
      },
      "cell_type": "code",
      "source": [
        "table = [wrapper(r) for r in get_comments_scored_for_constructiveness_n_toxicity()]"
      ],
      "execution_count": 0,
      "outputs": []
    },
    {
      "metadata": {
        "id": "oiUQ6nlSM2Db",
        "colab_type": "code",
        "colab": {}
      },
      "cell_type": "code",
      "source": [
        "table_pd = pd.DataFrame(table)\n",
        "table_group = table_pd.groupby('indentation', as_index=False)\n",
        "tox = table_group.toxicity.mean().toxicity\n",
        "indent = table_group.toxicity.mean().indentation # same for constructiveness\n",
        "constr = table_group.constructiveness.mean().constructiveness"
      ],
      "execution_count": 0,
      "outputs": []
    },
    {
      "metadata": {
        "id": "vtc2TdhU6U0M",
        "colab_type": "code",
        "outputId": "42e50587-cdb3-42ae-c3ce-1d0287bed09a",
        "colab": {
          "base_uri": "https://localhost:8080/",
          "height": 68
        }
      },
      "cell_type": "code",
      "source": [
        "# Correlation between indentation and toxicity\n",
        "for rho in (pearsonr, spearmanr, kendalltau):\n",
        "  print (rho.__name__, rho(indent, tox)[0])"
      ],
      "execution_count": 0,
      "outputs": [
        {
          "output_type": "stream",
          "text": [
            "pearsonr 0.8579422317177552\n",
            "spearmanr 0.8272727272727273\n",
            "kendalltau 0.6727272727272727\n"
          ],
          "name": "stdout"
        }
      ]
    },
    {
      "metadata": {
        "id": "jfnzi9gM6jEc",
        "colab_type": "code",
        "outputId": "23fb2990-f8c9-48ac-8186-d88576fc6ac4",
        "colab": {
          "base_uri": "https://localhost:8080/",
          "height": 68
        }
      },
      "cell_type": "code",
      "source": [
        "# Correlation between indentation and constructiveness\n",
        "for rho in (pearsonr, spearmanr, kendalltau):\n",
        "  print (rho.__name__, rho(indent,constr)[0])"
      ],
      "execution_count": 0,
      "outputs": [
        {
          "output_type": "stream",
          "text": [
            "pearsonr 0.8946090673788041\n",
            "spearmanr 0.9363636363636365\n",
            "kendalltau 0.8545454545454545\n"
          ],
          "name": "stdout"
        }
      ]
    },
    {
      "metadata": {
        "id": "fzr6uIaLFyAH",
        "colab_type": "text"
      },
      "cell_type": "markdown",
      "source": [
        "We now want to study the relation between toxicity and constructiveness"
      ]
    },
    {
      "metadata": {
        "id": "Y140au6GzUW7",
        "colab_type": "code",
        "colab": {}
      },
      "cell_type": "code",
      "source": [
        "# in comments not deep in thread, how toxic are constructive comments and the other way round\n",
        "table_deep = table_pd[table_pd.indentation>5]\n",
        "low_ind_toxicity_of_constructive_comments = table_deep[table_deep.constructiveness>0.8].toxicity\n",
        "low_ind_constructiveness_of_toxic_comments = table_deep[table_deep.toxicity>0.8].constructiveness\n",
        "#print (low_ind_toxicity_of_constructive_comments.mean(), low_ind_constructiveness_of_toxic_comments.mean())"
      ],
      "execution_count": 0,
      "outputs": []
    },
    {
      "metadata": {
        "id": "7_HT_9Yx0Wl4",
        "colab_type": "code",
        "colab": {}
      },
      "cell_type": "code",
      "source": [
        "# in comments deeper in thread, how toxic are constructive comments and the other way round\n",
        "table_not_deep = table_pd[table_pd.indentation<5]\n",
        "high_ind_toxicity_of_constructive_comments = table_not_deep[table_not_deep.constructiveness>0.8].toxicity\n",
        "high_ind_constructiveness_of_toxic_comments = table_not_deep[table_not_deep.toxicity>0.8].constructiveness\n",
        "#print (high_ind_toxicity_of_constructive_comments.mean(), high_ind_constructiveness_of_toxic_comments.mean())"
      ],
      "execution_count": 0,
      "outputs": []
    },
    {
      "metadata": {
        "id": "2StA6CvgzaJj",
        "colab_type": "code",
        "outputId": "6555b18f-6f86-44f3-98c9-8ab59d46c8c1",
        "colab": {
          "base_uri": "https://localhost:8080/",
          "height": 71
        }
      },
      "cell_type": "code",
      "source": [
        "# mean toxicity in constructive comments is higher with a st. signif. diff in deeper threads\n",
        "# Note: the same does not apply for mean constructiveness of toxic comments\n",
        "from scipy import stats\n",
        "print (\"Constructive comments' toxicity across low/high indentation:\", stats.ttest_ind(low_ind_toxicity_of_constructive_comments, high_ind_toxicity_of_constructive_comments))\n",
        "print (\"Toxic comments' constructiveness across low/high indentation:\", stats.ttest_ind(low_ind_constructiveness_of_toxic_comments, high_ind_constructiveness_of_toxic_comments))"
      ],
      "execution_count": 0,
      "outputs": [
        {
          "output_type": "stream",
          "text": [
            "Constructive comments' toxicity across low/high indentation: Ttest_indResult(statistic=3.724546078291254, pvalue=0.00019993294461080643)\n",
            "Toxic comments' constructiveness across low/high indentation: Ttest_indResult(statistic=0.688114416337236, pvalue=0.49771650581089655)\n"
          ],
          "name": "stdout"
        }
      ]
    },
    {
      "metadata": {
        "id": "kvi5FAY5GQbe",
        "colab_type": "code",
        "outputId": "fb5d9885-a13d-4c79-9706-70b92b8a04f6",
        "colab": {
          "base_uri": "https://localhost:8080/",
          "height": 34
        }
      },
      "cell_type": "code",
      "source": [
        "# toxicity and constructiveness are not correlated\n",
        "print (spearmanr (table_pd.constructiveness, table_pd.toxicity))\n",
        "\n",
        "#print (stats.ttest_ind(table_pd.toxicity, table_pd.constructiveness))"
      ],
      "execution_count": 0,
      "outputs": [
        {
          "output_type": "stream",
          "text": [
            "SpearmanrResult(correlation=0.08377099357551539, pvalue=1.3627011455772379e-18)\n"
          ],
          "name": "stdout"
        }
      ]
    },
    {
      "metadata": {
        "id": "HT_7LSrQQQky",
        "colab_type": "code",
        "outputId": "d693048b-74de-4195-aa4b-071c97d52098",
        "colab": {
          "base_uri": "https://localhost:8080/",
          "height": 153
        }
      },
      "cell_type": "code",
      "source": [
        "# Show a constructive text (in random) from indented comments\n",
        "txts = table_deep[table_deep.constructiveness>0.8].txt.tolist()\n",
        "textwrap.wrap(txts[np.random.randint(len(txts))])"
      ],
      "execution_count": 0,
      "outputs": [
        {
          "output_type": "execute_result",
          "data": {
            "text/plain": [
              "[\"I've noticed that as well. IMO the organisms are more important than\",\n",
              " 'the families. We should keep only the most important ones and delete',\n",
              " \"the rest. I'll take a closer look on the list tomorrow and post the\",\n",
              " \"articles which I think should be removed. I don't think we should set\",\n",
              " 'a limit to how many articles to remove. Looking at the list they are',\n",
              " \"many articles which are not vital. I don't see a problem with removing\",\n",
              " 'more articles, and adding some later. We should focus on quality and',\n",
              " 'not quantity']"
            ]
          },
          "metadata": {
            "tags": []
          },
          "execution_count": 44
        }
      ]
    },
    {
      "metadata": {
        "id": "_RQVfVcyQZR2",
        "colab_type": "code",
        "outputId": "7f3be58f-031a-4d94-ea00-32f62bdc7ee5",
        "colab": {
          "base_uri": "https://localhost:8080/",
          "height": 34
        }
      },
      "cell_type": "code",
      "source": [
        "# Show a toxic text (in random) from not indented comments\n",
        "txts = table_not_deep[table_not_deep.toxicity>0.8].txt.tolist()\n",
        "textwrap.wrap(txts[np.random.randint(len(txts))])"
      ],
      "execution_count": 0,
      "outputs": [
        {
          "output_type": "execute_result",
          "data": {
            "text/plain": [
              "['im a retard in wikipedia']"
            ]
          },
          "metadata": {
            "tags": []
          },
          "execution_count": 45
        }
      ]
    },
    {
      "metadata": {
        "id": "_lwMhbBIQ4DH",
        "colab_type": "code",
        "colab": {}
      },
      "cell_type": "code",
      "source": [
        ""
      ],
      "execution_count": 0,
      "outputs": []
    }
  ]
}