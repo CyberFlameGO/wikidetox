{
  "nbformat": 4,
  "nbformat_minor": 0,
  "metadata": {
    "colab": {
      "name": "sampling_by_indentation.ipynb",
      "version": "0.3.2",
      "provenance": [],
      "collapsed_sections": []
    },
    "kernelspec": {
      "name": "python3",
      "display_name": "Python 3"
    }
  },
  "cells": [
    {
      "metadata": {
        "id": "iwcFrwFVi438",
        "colab_type": "code",
        "colab": {}
      },
      "cell_type": "code",
      "source": [
        "from tqdm import tqdm\n",
        "import pandas as pd\n",
        "import json\n",
        "import numpy as np\n",
        "\n",
        "from google.cloud import bigquery\n",
        "from google.colab import auth\n",
        "auth.authenticate_user()"
      ],
      "execution_count": 0,
      "outputs": []
    },
    {
      "metadata": {
        "id": "XXi4Cbnrh-o5",
        "colab_type": "code",
        "colab": {}
      },
      "cell_type": "code",
      "source": [
        "import logging\n",
        "logger = logging.getLogger('indentation_gbq')\n",
        "logger.setLevel(logging.DEBUG)\n",
        "logger.addHandler(logging.StreamHandler())"
      ],
      "execution_count": 0,
      "outputs": []
    },
    {
      "metadata": {
        "id": "8nondq5ekC2Z",
        "colab_type": "code",
        "colab": {}
      },
      "cell_type": "code",
      "source": [
        "project_id = \"wikidetox-viz\"\n",
        "\n",
        "# Connect to Google's BigQuery\n",
        "client = bigquery.Client(project=project_id)\n",
        "#bigquery.Create(project=project_id)"
      ],
      "execution_count": 0,
      "outputs": []
    },
    {
      "metadata": {
        "id": "C5oLxJz6jCrW",
        "colab_type": "code",
        "colab": {}
      },
      "cell_type": "code",
      "source": [
        "def get_random_comments_of_indent(indent=0, rand=.5, limit=1000):\n",
        "    # one could use order by to shuffle and use seed (here this is not possible; https://www.oreilly.com/learning/repeatable-sampling-of-data-sets-in-bigquery-for-machine-learning)\n",
        "    query = \"\"\"\n",
        "        SELECT *\n",
        "        FROM `en_20180501_wikiconvviz_data.en_20180501_scored`\n",
        "        WHERE length(cleaned_content)>1 and indentation={indent} and RAND()<{prob}\n",
        "        LIMIT {limit}\n",
        "    \"\"\".format(limit=limit, indent=indent, prob=rand)\n",
        "    query_job = client.query(query)\n",
        "    results = query_job.result()\n",
        "    return results\n"
      ],
      "execution_count": 0,
      "outputs": []
    },
    {
      "metadata": {
        "id": "jhxfwILakHqP",
        "colab_type": "code",
        "colab": {}
      },
      "cell_type": "code",
      "source": [
        "# decode useful record attributes to a dict\n",
        "wrapper = lambda r: { \\\n",
        "#    \"timestamp\": r.timestamp, \\\n",
        "    \"indentation\": r.indentation, \\\n",
        "    \"RockV6_1_TOXICITY\": r.RockV6_1_TOXICITY, \\\n",
        "    \"id\": r.id, \\\n",
        "#    \"page_title\": r.page_title, \\\n",
        "#    \"content\": r.content, \\\n",
        "    \"cleaned_content\": r.cleaned_content, \\\n",
        "#    \"replyTo_id\": r.replyTo_id, \\\n",
        "#    \"user_id\": r.user_id, \\\n",
        "#    \"user_text\": r.user_text, \\\n",
        "#    \"type\": r.type, \\\n",
        "    \"conversation_id\": r.conversation_id, \\\n",
        "#    \"rev_id\": r.rev_id\n",
        "}\n",
        "\n"
      ],
      "execution_count": 0,
      "outputs": []
    },
    {
      "metadata": {
        "id": "T_Wvcv7zldvQ",
        "colab_type": "code",
        "outputId": "e48af8d1-2547-42ff-9178-67989c9d9e6c",
        "colab": {
          "base_uri": "https://localhost:8080/",
          "height": 34
        }
      },
      "cell_type": "code",
      "source": [
        "calls = [get_random_comments_of_indent(indent=i) for i in tqdm(range(11))]\n",
        "table = [wrapper(r) for call in calls for r in call]"
      ],
      "execution_count": 6,
      "outputs": [
        {
          "output_type": "stream",
          "text": [
            "100%|██████████| 11/11 [03:17<00:00, 27.67s/it]\n"
          ],
          "name": "stderr"
        }
      ]
    },
    {
      "metadata": {
        "id": "3uC1y--llgFM",
        "colab_type": "code",
        "outputId": "523e275a-7c86-4dd8-d838-14c938c9d6b7",
        "colab": {
          "base_uri": "https://localhost:8080/",
          "height": 204
        }
      },
      "cell_type": "code",
      "source": [
        "table_pd = pd.DataFrame(table)\n",
        "for i in range(11): print (i, table_pd[table_pd.indentation==i].RockV6_1_TOXICITY.mean())"
      ],
      "execution_count": 11,
      "outputs": [
        {
          "output_type": "stream",
          "text": [
            "0 0.119359464393\n",
            "1 0.11693414398200007\n",
            "2 0.12904383405900005\n",
            "3 0.12842927973800003\n",
            "4 0.13536119019700002\n",
            "5 0.13885123807400002\n",
            "6 0.13960105472500003\n",
            "7 0.14846751882199985\n",
            "8 0.1386643318040001\n",
            "9 0.13977263703500006\n",
            "10 0.15901782167099995\n"
          ],
          "name": "stdout"
        }
      ]
    },
    {
      "metadata": {
        "id": "BOVEFhAEod23",
        "colab_type": "code",
        "colab": {}
      },
      "cell_type": "code",
      "source": [
        "#!pip install ndjson\n",
        "import ndjson\n",
        "with open(\"samples_by_indentation.json\", \"w\") as o:\n",
        "  o.write(ndjson.dumps(output))"
      ],
      "execution_count": 0,
      "outputs": []
    },
    {
      "metadata": {
        "id": "nBkrn7kOLx6N",
        "colab_type": "code",
        "colab": {}
      },
      "cell_type": "code",
      "source": [
        "from google.colab import files\n",
        "files.download(\"samples_by_indentation.json\")"
      ],
      "execution_count": 0,
      "outputs": []
    },
    {
      "metadata": {
        "id": "cfRQ69Dmer3r",
        "colab_type": "code",
        "colab": {}
      },
      "cell_type": "code",
      "source": [
        "# The following are failed attempts to directly create a BGQ table\n",
        "#output_df[\"cleaned_content\"] = output_df[\"cleaned_content\"].apply(lambda x: x.replace(u'\\r', u' ') if isinstance(x, str) or isinstance(x, unicode) else x)\n",
        "#output_df.to_gbq(\"en_20180501_wikiconvviz_data.samples_by_indentation\", project_id=project_id, if_exists=\"replace\")\n",
        "#sch = [{\"name\":\"indentation\",\"type\":\"INTEGER\"},{\"name\":\"RockV6_1_TOXICITY\", \"type\":\"FLOAT\"}, {\"name\":\"id\", \"type\":\"STRING\"}, {\"name\":\"conversation_id\", \"type\":\"STRING\"}, {\"name\":\"cleaned_content\", \"type\":\"STRING\"}]\n",
        "#table_pd.to_gbq(\"en_20180501_wikiconvviz_data.samples_by_indentation\", project_id=project_id, if_exists=\"replace\", table_schema=sch)"
      ],
      "execution_count": 0,
      "outputs": []
    }
  ]
}