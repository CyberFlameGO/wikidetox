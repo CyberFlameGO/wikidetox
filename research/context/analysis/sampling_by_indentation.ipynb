{
  "nbformat": 4,
  "nbformat_minor": 0,
  "metadata": {
    "colab": {
      "name": "sampling_by_indentation.ipynb",
      "version": "0.3.2",
      "provenance": [],
      "collapsed_sections": []
    },
    "kernelspec": {
      "name": "python3",
      "display_name": "Python 3"
    }
  },
  "cells": [
    {
      "metadata": {
        "id": "iwcFrwFVi438",
        "colab_type": "code",
        "colab": {}
      },
      "cell_type": "code",
      "source": [
        "from tqdm import tqdm\n",
        "import pandas as pd\n",
        "import json\n",
        "import numpy as np\n",
        "\n",
        "from google.cloud import bigquery\n",
        "from google.colab import auth\n",
        "auth.authenticate_user()"
      ],
      "execution_count": 0,
      "outputs": []
    },
    {
      "metadata": {
        "id": "XXi4Cbnrh-o5",
        "colab_type": "code",
        "colab": {}
      },
      "cell_type": "code",
      "source": [
        "import logging\n",
        "logger = logging.getLogger('indentation_gbq')\n",
        "logger.setLevel(logging.DEBUG)\n",
        "logger.addHandler(logging.StreamHandler())"
      ],
      "execution_count": 0,
      "outputs": []
    },
    {
      "metadata": {
        "id": "8nondq5ekC2Z",
        "colab_type": "code",
        "colab": {}
      },
      "cell_type": "code",
      "source": [
        "project_id = \"wikidetox-viz\"\n",
        "\n",
        "# Connect to Google's BigQuery\n",
        "client = bigquery.Client(project=project_id)\n",
        "#bigquery.Create(project=project_id)"
      ],
      "execution_count": 0,
      "outputs": []
    },
    {
      "metadata": {
        "id": "C5oLxJz6jCrW",
        "colab_type": "code",
        "colab": {}
      },
      "cell_type": "code",
      "source": [
        "def get_random_comments_of_indent(indent=0, rand=.5, limit=1000):\n",
        "    # one could use order by to shuffle and use seed (here this is not possible; https://www.oreilly.com/learning/repeatable-sampling-of-data-sets-in-bigquery-for-machine-learning)\n",
        "    query = \"\"\"\n",
        "        SELECT *\n",
        "        FROM `en_20180501_wikiconvviz_data.en_20180501_scored`\n",
        "        WHERE length(cleaned_content)>1 and indentation={indent} and RAND()<{prob}\n",
        "        LIMIT {limit}\n",
        "    \"\"\".format(limit=limit, indent=indent, prob=rand)\n",
        "    query_job = client.query(query)\n",
        "    results = query_job.result()\n",
        "    return results\n"
      ],
      "execution_count": 0,
      "outputs": []
    },
    {
      "metadata": {
        "id": "jhxfwILakHqP",
        "colab_type": "code",
        "colab": {}
      },
      "cell_type": "code",
      "source": [
        "# decode useful record attributes to a dict\n",
        "wrapper = lambda r: { \\\n",
        "#    \"timestamp\": r.timestamp, \\\n",
        "    \"indentation\": r.indentation, \\\n",
        "    \"RockV6_1_TOXICITY\": r.RockV6_1_TOXICITY, \\\n",
        "    \"id\": r.id, \\\n",
        "#    \"page_title\": r.page_title, \\\n",
        "#    \"content\": r.content, \\\n",
        "    \"cleaned_content\": r.cleaned_content, \\\n",
        "#    \"replyTo_id\": r.replyTo_id, \\\n",
        "#    \"user_id\": r.user_id, \\\n",
        "#    \"user_text\": r.user_text, \\\n",
        "#    \"type\": r.type, \\\n",
        "    \"conversation_id\": r.conversation_id, \\\n",
        "#    \"rev_id\": r.rev_id\n",
        "}\n",
        "\n"
      ],
      "execution_count": 0,
      "outputs": []
    },
    {
      "metadata": {
        "id": "T_Wvcv7zldvQ",
        "colab_type": "code",
        "outputId": "4935294d-c323-44f6-a74c-94d319a358b0",
        "colab": {
          "base_uri": "https://localhost:8080/",
          "height": 34
        }
      },
      "cell_type": "code",
      "source": [
        "calls = [get_random_comments_of_indent(indent=i) for i in tqdm(range(11))]\n",
        "table = [wrapper(r) for call in calls for r in call]"
      ],
      "execution_count": 0,
      "outputs": [
        {
          "output_type": "stream",
          "text": [
            "100%|██████████| 11/11 [04:05<00:00, 35.19s/it]\n"
          ],
          "name": "stderr"
        }
      ]
    },
    {
      "metadata": {
        "id": "3uC1y--llgFM",
        "colab_type": "code",
        "outputId": "2118c9b8-1b88-4d9b-dd37-8ea223d34f77",
        "colab": {
          "base_uri": "https://localhost:8080/",
          "height": 187
        }
      },
      "cell_type": "code",
      "source": [
        "table_pd = pd.DataFrame(table)\n",
        "for i in range(i): print (i, table_pd[table_pd.indentation==i].RockV6_1_TOXICITY.mean())"
      ],
      "execution_count": 0,
      "outputs": [
        {
          "output_type": "stream",
          "text": [
            "0 0.11456871547300006\n",
            "1 0.121287021053\n",
            "2 0.11907138581499987\n",
            "3 0.12855086876200011\n",
            "4 0.1396926498059999\n",
            "5 0.1364313804019999\n",
            "6 0.14631615607799994\n",
            "7 0.13947252588700015\n",
            "8 0.13238237090399999\n",
            "9 0.14936845720599998\n"
          ],
          "name": "stdout"
        }
      ]
    },
    {
      "metadata": {
        "id": "fkRaptndrrCU",
        "colab_type": "code",
        "outputId": "8eb6de88-0c03-4f16-edee-fc75022b5b8d",
        "colab": {
          "base_uri": "https://localhost:8080/",
          "height": 201
        }
      },
      "cell_type": "code",
      "source": [
        "sch = [{\"name\":\"indentation\",\"type\":\"INTEGER\"},{\"name\":\"RockV6_1_TOXICITY\", \"type\":\"FLOAT\"}, {\"name\":\"id\", \"type\":\"STRING\"}, {\"name\":\"conversation_id\", \"type\":\"STRING\"}, {\"name\":\"cleaned_content\", \"type\":\"STRING\"}]\n",
        "table_pd.to_gbq(\"en_20180501_wikiconvviz_data.samples_by_indentation\", project_id=project_id, if_exists=\"replace\", table_schema=sch)"
      ],
      "execution_count": 0,
      "outputs": [
        {
          "output_type": "error",
          "ename": "TypeError",
          "evalue": "ignored",
          "traceback": [
            "\u001b[0;31m---------------------------------------------------------------------------\u001b[0m",
            "\u001b[0;31mTypeError\u001b[0m                                 Traceback (most recent call last)",
            "\u001b[0;32m<ipython-input-117-487796c567cd>\u001b[0m in \u001b[0;36m<module>\u001b[0;34m()\u001b[0m\n\u001b[1;32m      1\u001b[0m \u001b[0msch\u001b[0m \u001b[0;34m=\u001b[0m \u001b[0;34m[\u001b[0m\u001b[0;34m{\u001b[0m\u001b[0;34m\"name\"\u001b[0m\u001b[0;34m:\u001b[0m\u001b[0;34m\"indentation\"\u001b[0m\u001b[0;34m,\u001b[0m\u001b[0;34m\"type\"\u001b[0m\u001b[0;34m:\u001b[0m\u001b[0;34m\"INTEGER\"\u001b[0m\u001b[0;34m}\u001b[0m\u001b[0;34m,\u001b[0m\u001b[0;34m{\u001b[0m\u001b[0;34m\"name\"\u001b[0m\u001b[0;34m:\u001b[0m\u001b[0;34m\"RockV6_1_TOXICITY\"\u001b[0m\u001b[0;34m,\u001b[0m \u001b[0;34m\"type\"\u001b[0m\u001b[0;34m:\u001b[0m\u001b[0;34m\"FLOAT\"\u001b[0m\u001b[0;34m}\u001b[0m\u001b[0;34m,\u001b[0m \u001b[0;34m{\u001b[0m\u001b[0;34m\"name\"\u001b[0m\u001b[0;34m:\u001b[0m\u001b[0;34m\"id\"\u001b[0m\u001b[0;34m,\u001b[0m \u001b[0;34m\"type\"\u001b[0m\u001b[0;34m:\u001b[0m\u001b[0;34m\"STRING\"\u001b[0m\u001b[0;34m}\u001b[0m\u001b[0;34m,\u001b[0m \u001b[0;34m{\u001b[0m\u001b[0;34m\"name\"\u001b[0m\u001b[0;34m:\u001b[0m\u001b[0;34m\"conversation_id\"\u001b[0m\u001b[0;34m,\u001b[0m \u001b[0;34m\"type\"\u001b[0m\u001b[0;34m:\u001b[0m\u001b[0;34m\"STRING\"\u001b[0m\u001b[0;34m}\u001b[0m\u001b[0;34m,\u001b[0m \u001b[0;34m{\u001b[0m\u001b[0;34m\"name\"\u001b[0m\u001b[0;34m:\u001b[0m\u001b[0;34m\"cleaned_content\"\u001b[0m\u001b[0;34m,\u001b[0m \u001b[0;34m\"type\"\u001b[0m\u001b[0;34m:\u001b[0m\u001b[0;34m\"STRING\"\u001b[0m\u001b[0;34m}\u001b[0m\u001b[0;34m]\u001b[0m\u001b[0;34m\u001b[0m\u001b[0;34m\u001b[0m\u001b[0m\n\u001b[0;32m----> 2\u001b[0;31m \u001b[0mtable_pd\u001b[0m\u001b[0;34m.\u001b[0m\u001b[0mto_gbq\u001b[0m\u001b[0;34m(\u001b[0m\u001b[0;34m\"en_20180501_wikiconvviz_data.samples_by_indentation\"\u001b[0m\u001b[0;34m,\u001b[0m \u001b[0mproject_id\u001b[0m\u001b[0;34m=\u001b[0m\u001b[0mproject_id\u001b[0m\u001b[0;34m,\u001b[0m \u001b[0mif_exists\u001b[0m\u001b[0;34m=\u001b[0m\u001b[0;34m\"replace\"\u001b[0m\u001b[0;34m,\u001b[0m \u001b[0mtable_schema\u001b[0m\u001b[0;34m=\u001b[0m\u001b[0msch\u001b[0m\u001b[0;34m)\u001b[0m\u001b[0;34m\u001b[0m\u001b[0;34m\u001b[0m\u001b[0m\n\u001b[0m",
            "\u001b[0;31mTypeError\u001b[0m: to_gbq() got an unexpected keyword argument 'table_schema'"
          ]
        }
      ]
    },
    {
      "metadata": {
        "id": "BOVEFhAEod23",
        "colab_type": "code",
        "colab": {}
      },
      "cell_type": "code",
      "source": [
        "#!pip install ndjson\n",
        "import ndjson\n",
        "with open(\"samples_by_indentation.json\", \"w\") as o:\n",
        "  o.write(ndjson.dumps(output))"
      ],
      "execution_count": 0,
      "outputs": []
    },
    {
      "metadata": {
        "id": "T177SzGBlenI",
        "colab_type": "code",
        "colab": {}
      },
      "cell_type": "code",
      "source": [
        ""
      ],
      "execution_count": 0,
      "outputs": []
    },
    {
      "metadata": {
        "id": "nBkrn7kOLx6N",
        "colab_type": "code",
        "colab": {}
      },
      "cell_type": "code",
      "source": [
        "from google.colab import files\n",
        "files.download(\"samples_by_indentation.json\")"
      ],
      "execution_count": 0,
      "outputs": []
    },
    {
      "metadata": {
        "id": "cfRQ69Dmer3r",
        "colab_type": "code",
        "colab": {}
      },
      "cell_type": "code",
      "source": [
        "# The following are failed attempts to directly create a BGQ table\n",
        "#output_df[\"cleaned_content\"] = output_df[\"cleaned_content\"].apply(lambda x: x.replace(u'\\r', u' ') if isinstance(x, str) or isinstance(x, unicode) else x)\n",
        "#output_df.to_gbq(\"en_20180501_wikiconvviz_data.samples_by_indentation\", project_id=project_id, if_exists=\"replace\")"
      ],
      "execution_count": 0,
      "outputs": []
    }
  ]
}