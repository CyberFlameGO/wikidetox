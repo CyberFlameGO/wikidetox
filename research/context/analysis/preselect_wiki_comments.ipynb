{
 "cells": [
  {
   "cell_type": "code",
   "execution_count": 0,
   "metadata": {
    "id": "2oSTleCbPCH6",
    "colab_type": "code",
    "colab": {}
   },
   "outputs": [],
   "source": [
    "import pandas as pd\n",
    "from tqdm import tqdm\n",
    "\n",
    "from google.cloud import bigquery\n",
    "from google.colab import auth\n",
    "auth.authenticate_user()"
   ]
  },
  {
   "cell_type": "code",
   "execution_count": 0,
   "metadata": {
    "id": "IC3eO3kCPNXX",
    "colab_type": "code",
    "colab": {}
   },
   "outputs": [],
   "source": [
    "import logging\n",
    "logger = logging.getLogger('preselecting_wcomments_wrt_tox')\n",
    "logger.setLevel(logging.DEBUG)\n",
    "logger.addHandler(logging.StreamHandler())"
   ]
  },
  {
   "cell_type": "code",
   "execution_count": 0,
   "metadata": {
    "id": "jfal3iZPPj0_",
    "colab_type": "code",
    "colab": {}
   },
   "outputs": [],
   "source": [
    "# Connect to Google's BigQuery\n",
    "project_id = \"wikidetox-viz\"\n",
    "client = bigquery.Client(project=project_id)"
   ]
  },
  {
   "cell_type": "code",
   "execution_count": 0,
   "metadata": {
    "id": "-I_zKg1KPt_M",
    "colab_type": "code",
    "colab": {}
   },
   "outputs": [],
   "source": [
    "def query(low_tox=0, high_tox=1, rand=.5, limit=1000, type=\"ADDITION\", max_txt=1000):\n",
    "    query = \"\"\"\n",
    "    SELECT * \n",
    "        FROM `wikiconv_v2.en_20180701_external`\n",
    "        WHERE length(cleaned_content)>1 AND length(cleaned_content)<{max_txt} AND replyTo_id!=\"null\" AND type=\"{typ}\" AND toxicity>{low} AND toxicity<{high} AND RAND()<{ran}\n",
    "        LIMIT {lim}\n",
    "    \"\"\".format(low=low_tox, high=high_tox, ran=rand, lim=limit, typ=type, max_txt=max_txt)\n",
    "    query_job = client.query(query)\n",
    "    results = query_job.result()\n",
    "    return results.to_dataframe()\n"
   ]
  },
  {
   "cell_type": "code",
   "execution_count": 0,
   "metadata": {
    "id": "UsU6FodTQjCD",
    "colab_type": "code",
    "colab": {}
   },
   "outputs": [],
   "source": [
    "def sample(bins=10):\n",
    "    # Create random sample (initialization)\n",
    "    table = query()\n",
    "    table[\"toxic_zone\"] = [-1] * table.shape[0]\n",
    "    # Add samples following a toxicity-preselection\n",
    "    for i in tqdm(range(bins)):\n",
    "        preselected = query(low_tox=i / float(bins), high_tox=(i + 1) / float(bins))\n",
    "        preselected[\"toxic_zone\"] = [i] * preselected.shape[0]\n",
    "        # Stack to initialized/updated table\n",
    "        table = pd.concat([table, preselected], axis=0)\n",
    "    # Shuffle\n",
    "    table = table.sample(frac=1).reset_index(drop=True)\n",
    "    return table\n"
   ]
  },
  {
   "cell_type": "code",
   "execution_count": 15,
   "metadata": {
    "id": "EQKE9iRyRKPz",
    "colab_type": "code",
    "colab": {
     "base_uri": "https://localhost:8080/",
     "height": 221.0
    },
    "outputId": "4a7bc4b1-1eae-44cb-bbd5-d91a1f33b521"
   },
   "outputs": [
    {
     "name": "stderr",
     "output_type": "stream",
     "text": [
      "\n",
      "  0%|          | 0/10 [00:00<?, ?it/s]\u001b[A\n",
      " 10%|█         | 1/10 [00:02<00:25,  2.88s/it]\u001b[A\n",
      " 20%|██        | 2/10 [00:06<00:25,  3.22s/it]\u001b[A\n",
      " 30%|███       | 3/10 [00:12<00:27,  4.00s/it]\u001b[A\n",
      " 40%|████      | 4/10 [00:21<00:32,  5.41s/it]\u001b[A\n",
      " 50%|█████     | 5/10 [00:38<00:44,  8.93s/it]\u001b[A\n",
      " 60%|██████    | 6/10 [00:57<00:48, 12.00s/it]\u001b[A\n",
      " 70%|███████   | 7/10 [01:18<00:43, 14.57s/it]\u001b[A\n",
      " 80%|████████  | 8/10 [01:38<00:32, 16.16s/it]\u001b[A\n",
      " 90%|█████████ | 9/10 [01:57<00:17, 17.17s/it]\u001b[A\n",
      "100%|██████████| 10/10 [02:17<00:00, 17.86s/it]\u001b[A\n",
      "\u001b[A"
     ]
    }
   ],
   "source": [
    "# run the sample code\n",
    "table = sample()\n",
    "table.to_csv(\"sample.11-toxic-zones.addition.csv\", index=False)\n",
    "table[:100].to_csv(\"sample.100posts.csv\", index=False)"
   ]
  },
  {
   "cell_type": "code",
   "execution_count": 26,
   "metadata": {
    "id": "ELG2EyAgUXxB",
    "colab_type": "code",
    "colab": {
     "base_uri": "https://localhost:8080/",
     "height": 221.0
    },
    "outputId": "a69df3da-84a4-46f4-f652-3924b5143cc0"
   },
   "outputs": [
    {
     "name": "stdout",
     "output_type": "stream",
     "text": [
      " 7    1000\n",
      "-1    1000\n",
      " 6    1000\n",
      " 5    1000\n",
      " 4    1000\n",
      " 3    1000\n",
      " 2    1000\n",
      " 9    1000\n",
      " 1    1000\n",
      " 8    1000\n",
      " 0    1000\n",
      "Name: toxic_zone, dtype: int64\n"
     ]
    }
   ],
   "source": [
    "# ensure stratification of the sample\n",
    "assert table.toxic_zone.count() == 11000\n",
    "print (table.toxic_zone.value_counts())"
   ]
  },
  {
   "cell_type": "code",
   "execution_count": 0,
   "metadata": {
    "id": "iX69ph_EUjC7",
    "colab_type": "code",
    "colab": {}
   },
   "outputs": [],
   "source": [
    ""
   ]
  }
 ],
 "metadata": {
  "colab": {
   "name": "preselect_wiki_comments.ipynb",
   "version": "0.3.2",
   "provenance": []
  },
  "kernelspec": {
   "name": "python3",
   "display_name": "Python 3"
  }
 },
 "nbformat": 4,
 "nbformat_minor": 0
}
